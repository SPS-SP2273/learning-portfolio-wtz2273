{
 "cells": [
  {
   "cell_type": "code",
   "execution_count": 1,
   "id": "2792379e",
   "metadata": {},
   "outputs": [
    {
     "name": "stdout",
     "output_type": "stream",
     "text": [
      "Hello World!\n"
     ]
    }
   ],
   "source": [
    "print('Hello World!')"
   ]
  },
  {
   "cell_type": "markdown",
   "id": "aa19dd7d",
   "metadata": {},
   "source": [
    "The ships hung in the sky in much the same way that bricks don’t"
   ]
  },
  {
   "cell_type": "markdown",
   "id": "0b2861d2",
   "metadata": {},
   "source": [
    "the ships *hung in the sky* in much the same way that **bricks don't.** <sup>1</sup><sub>QUOTE</sub>"
   ]
  },
  {
   "cell_type": "markdown",
   "id": "97263c70",
   "metadata": {},
   "source": [
    "# The largest heading"
   ]
  },
  {
   "cell_type": "markdown",
   "id": "6fe61464",
   "metadata": {},
   "source": [
    "## The second-largest heading"
   ]
  },
  {
   "cell_type": "markdown",
   "id": "cad24bb4",
   "metadata": {},
   "source": [
    "### The third-largest heading"
   ]
  },
  {
   "cell_type": "markdown",
   "id": "d5991aff",
   "metadata": {},
   "source": [
    "###### The smallest heading"
   ]
  },
  {
   "cell_type": "markdown",
   "id": "097a0c3f",
   "metadata": {},
   "source": [
    "`print('hello world')`"
   ]
  },
  {
   "cell_type": "markdown",
   "id": "d99d5b7c",
   "metadata": {},
   "source": [
    "[SP2273 Website](https://sps.nus.edu.sg/sp2273)"
   ]
  },
  {
   "cell_type": "markdown",
   "id": "c89f4bdd",
   "metadata": {},
   "source": [
    "![](https://nus.edu.sg/images/default-source/base/logo.png)"
   ]
  },
  {
   "cell_type": "markdown",
   "id": "89c05a8a",
   "metadata": {},
   "source": [
    "| A    |  B   |    C |\n",
    "| :--- | :--: | ---: |\n",
    "| a1   |  b1  |   c1 |\n",
    "| a2   |  b2  |   c2 |\n",
    "| a3   |  b3  |   c3 |"
   ]
  },
  {
   "cell_type": "markdown",
   "id": "df731557",
   "metadata": {},
   "source": [
    "1. Master Yoda\n",
    "1. Luke Skywalker\n",
    "1. Anakin Skywalker"
   ]
  },
  {
   "cell_type": "markdown",
   "id": "5323e98c",
   "metadata": {},
   "source": [
    "- Master Yoda\n",
    "- Luke Skywalker\n",
    "- Anakin Skywalker"
   ]
  },
  {
   "cell_type": "markdown",
   "id": "4a7337ab",
   "metadata": {},
   "source": [
    "1. Master Yoda\n",
    "   1. Was a Jedi\n",
    "   1. Was a bit green\n",
    "1. Luke Skywalker\n",
    "   1. Was a Jedi\n",
    "   1. Was Anakin's son\n",
    "1. Anakin Skywalker\n",
    "   1. Was a Jedi then became a baddie\n",
    "   1. Is famous for saying 'Luke, I am your father'"
   ]
  },
  {
   "cell_type": "markdown",
   "id": "34d565c3",
   "metadata": {},
   "source": [
    "1. Master Yoda\n",
    "   - Was a Jedi\n",
    "   - Was a bit green\n",
    "2. Luke Skywalker\n",
    "   - Was a Jedi\n",
    "   - Is Anakin's son.\n",
    "3. Anakin Skywalker\n",
    "   - Was a Jedi then became a baddie\n",
    "   - Is famous for saying 'Luke, I am your father'"
   ]
  },
  {
   "cell_type": "markdown",
   "id": "0f292e12",
   "metadata": {},
   "source": [
    "$$\n",
    "x = \\dfrac{-b\\pm \\sqrt{b^2-4ac}}{2a}\n",
    "$$"
   ]
  },
  {
   "cell_type": "markdown",
   "id": "1ca10f28",
   "metadata": {},
   "source": [
    "$\\dfrac{y}{x}$"
   ]
  },
  {
   "cell_type": "markdown",
   "id": "890ed005",
   "metadata": {},
   "source": [
    "$x_{a}$"
   ]
  },
  {
   "cell_type": "markdown",
   "id": "296ed27f",
   "metadata": {},
   "source": [
    "$x^{(y+z)}$"
   ]
  },
  {
   "cell_type": "markdown",
   "id": "7ffc56e4",
   "metadata": {},
   "source": [
    "$\\sqrt{a+b+c}$"
   ]
  },
  {
   "cell_type": "markdown",
   "id": "64b70470",
   "metadata": {},
   "source": [
    "$\\sum_{n=1}^{n=\\infty} x_n$"
   ]
  },
  {
   "cell_type": "markdown",
   "id": "43e4193a",
   "metadata": {},
   "source": [
    "$\\int_{x=1}^{x=\\infty} f(x)dx$"
   ]
  },
  {
   "cell_type": "markdown",
   "id": "f87bcb28",
   "metadata": {},
   "source": [
    "$a \\ne b$"
   ]
  },
  {
   "cell_type": "markdown",
   "id": "51f1a285",
   "metadata": {},
   "source": [
    "$a \\lt b$"
   ]
  },
  {
   "cell_type": "markdown",
   "id": "d6e5a09f",
   "metadata": {},
   "source": [
    "$a \\leq b$"
   ]
  },
  {
   "cell_type": "markdown",
   "id": "ab95a83a",
   "metadata": {},
   "source": [
    "$ a \\gt b$"
   ]
  },
  {
   "cell_type": "markdown",
   "id": "71213ca6",
   "metadata": {},
   "source": [
    "$a \\geq b$"
   ]
  },
  {
   "cell_type": "markdown",
   "id": "fc4197e4",
   "metadata": {},
   "source": [
    "$\\alpha, \\beta, \\gamma, \\pi, \\lambda$"
   ]
  },
  {
   "cell_type": "markdown",
   "id": "5e00a3c1",
   "metadata": {},
   "source": [
    "### Quadratic Equations"
   ]
  },
  {
   "cell_type": "markdown",
   "id": "c294283f",
   "metadata": {},
   "source": [
    "![](https://upload.wikimedia.org/wikipedia/commons/thumb/f/f8/Polynomialdeg2.svg/600px-Polynomialdeg2.svg.png)"
   ]
  },
  {
   "cell_type": "markdown",
   "id": "e54420c7",
   "metadata": {},
   "source": [
    "(*Image from the* [Wikipedia page on Quadratic equations](https://en.wikipedia.org/wiki/Quadratic_equation))"
   ]
  },
  {
   "cell_type": "markdown",
   "id": "068b1006",
   "metadata": {},
   "source": [
    "### Introduction"
   ]
  },
  {
   "cell_type": "markdown",
   "id": "60328386",
   "metadata": {},
   "source": [
    "The general form of a quadratic equation is:"
   ]
  },
  {
   "cell_type": "markdown",
   "id": "6aed6058",
   "metadata": {},
   "source": [
    "$$\n",
    "ax^{2}+bx+c=0\n",
    "$$"
   ]
  },
  {
   "cell_type": "markdown",
   "id": "7f86e10d",
   "metadata": {},
   "source": [
    "**Solutions** Provided $a\\ne 0 $, we can use an elementary algebraic method called [completeing the square](https://en.wikipedia.org/wiki/Completing_the_square) to show that a quadratic equation has the following solution:\n",
    "$$ x = \\dfrac{-b \\pm \\sqrt{b^2-4ac}}{2a} $$"
   ]
  },
  {
   "cell_type": "markdown",
   "id": "098de42b",
   "metadata": {},
   "source": [
    "### Discriminant"
   ]
  },
  {
   "cell_type": "markdown",
   "id": "cd4ab01d",
   "metadata": {},
   "source": [
    "The quantity $\\Delta = b^2-4ac$ is called the **discriminant** of the equation and decides the nature of its solutions. The table below shows the various possibilities."
   ]
  },
  {
   "cell_type": "markdown",
   "id": "9b982ca2",
   "metadata": {},
   "source": [
    "| Discriminat              |  Roots                         |\n",
    "| :----------------------- | :---------------------:        |\n",
    "| $$\\Delta = b^2 - 4ac = 0$$   |  A single solution of $−b/(2a)$  |\n",
    "| $$\\Delta = b^2 - 4ac \\gt 0$$ |  Two distinct solutions        |\n",
    "| $$\\Delta = b^2 - 4ac \\lt 0$$ |  No real solutions; both are complex.  |"
   ]
  },
  {
   "cell_type": "markdown",
   "id": "0eb1b9fa",
   "metadata": {},
   "source": [
    "1. **repositor** is where users of jupyter or other softwares to share and save their code artifacts (libraries, packages, etc.)\n",
    "1. changes in code \n",
    "1. **commit** saves change in database (code) from jupyter to desktop. It makes sure the changes made to the database are consistent.\n",
    "1. **push** upload database from jupyter to online library\n",
    "1. **GitHub** is an online platform to save and share data (code) but GitHub Desktop is used offline to save user's own code\n",
    "1. **pull** is the opposite. instead of uploading users' own cade to the online platform, users could use **pull** to download online data(code), which has been pushed by other users to the library."
   ]
  }
 ],
 "metadata": {
  "kernelspec": {
   "display_name": "Python 3 (ipykernel)",
   "language": "python",
   "name": "python3"
  },
  "language_info": {
   "codemirror_mode": {
    "name": "ipython",
    "version": 3
   },
   "file_extension": ".py",
   "mimetype": "text/x-python",
   "name": "python",
   "nbconvert_exporter": "python",
   "pygments_lexer": "ipython3",
   "version": "3.10.8"
  },
  "toc": {
   "base_numbering": 1,
   "nav_menu": {},
   "number_sections": true,
   "sideBar": true,
   "skip_h1_title": false,
   "title_cell": "Table of Contents",
   "title_sidebar": "Contents",
   "toc_cell": false,
   "toc_position": {},
   "toc_section_display": true,
   "toc_window_display": false
  },
  "varInspector": {
   "cols": {
    "lenName": 16,
    "lenType": 16,
    "lenVar": 40
   },
   "kernels_config": {
    "python": {
     "delete_cmd_postfix": "",
     "delete_cmd_prefix": "del ",
     "library": "var_list.py",
     "varRefreshCmd": "print(var_dic_list())"
    },
    "r": {
     "delete_cmd_postfix": ") ",
     "delete_cmd_prefix": "rm(",
     "library": "var_list.r",
     "varRefreshCmd": "cat(var_dic_list()) "
    }
   },
   "types_to_exclude": [
    "module",
    "function",
    "builtin_function_or_method",
    "instance",
    "_Feature"
   ],
   "window_display": false
  }
 },
 "nbformat": 4,
 "nbformat_minor": 5
}
