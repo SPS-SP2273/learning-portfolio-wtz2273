{
 "cells": [
  {
   "cell_type": "markdown",
   "id": "123456",
   "metadata": {},
   "source": [
    "<div style=\"text-align:left;font-size:2em\"><span style=\"font-weight:bolder;font-size:1.25em\">SP2273 | Learning Portfolio</span><br><br><span style=\"font-weight:bold;color:darkred\">Files, Folders and OS (Need)</span></div>"
   ]
  },
  {
   "cell_type": "markdown",
   "id": "be2e1770",
   "metadata": {},
   "source": [
    "## 1 Important concepts"
   ]
  },
  {
   "cell_type": "markdown",
   "id": "2a4c346b",
   "metadata": {},
   "source": [
    "### 1.1 Path"
   ]
  },
  {
   "cell_type": "code",
   "execution_count": 2,
   "id": "040d91a4",
   "metadata": {},
   "outputs": [
    {
     "ename": "SyntaxError",
     "evalue": "unexpected character after line continuation character (3390489408.py, line 1)",
     "output_type": "error",
     "traceback": [
      "\u001b[0;36m  Cell \u001b[0;32mIn[2], line 1\u001b[0;36m\u001b[0m\n\u001b[0;31m    C:\\Users\\Chammika\\Desktop\\data-01.txt\u001b[0m\n\u001b[0m       ^\u001b[0m\n\u001b[0;31mSyntaxError\u001b[0m\u001b[0;31m:\u001b[0m unexpected character after line continuation character\n"
     ]
    }
   ],
   "source": [
    "C:\\\\Users\\Chammika\\Desktop\\data-01.txt"
   ]
  },
  {
   "cell_type": "markdown",
   "id": "03b130ba",
   "metadata": {},
   "source": [
    "### 1.2 More about relative paths"
   ]
  },
  {
   "cell_type": "code",
   "execution_count": 14,
   "id": "c61be0a7",
   "metadata": {},
   "outputs": [],
   "source": [
    "# ./data-files/data-01.txt \n",
    "#. means current folder"
   ]
  },
  {
   "cell_type": "code",
   "execution_count": 15,
   "id": "80ae0553",
   "metadata": {},
   "outputs": [],
   "source": [
    "#..\\data-files\\data-01.txt\n",
    "#.. means one folder up."
   ]
  },
  {
   "cell_type": "markdown",
   "id": "d8d4dc19",
   "metadata": {},
   "source": [
    "### 1.3 Path separator"
   ]
  },
  {
   "cell_type": "code",
   "execution_count": 12,
   "id": "e50bc276",
   "metadata": {},
   "outputs": [
    {
     "ename": "NameError",
     "evalue": "name 'Users' is not defined",
     "output_type": "error",
     "traceback": [
      "\u001b[0;31m---------------------------------------------------------------------------\u001b[0m",
      "\u001b[0;31mNameError\u001b[0m                                 Traceback (most recent call last)",
      "Cell \u001b[0;32mIn[12], line 1\u001b[0m\n\u001b[0;32m----> 1\u001b[0m \u001b[43mUsers\u001b[49m\u001b[38;5;241m/\u001b[39mderinthefuture\u001b[38;5;241m/\u001b[39mDocuments\n",
      "\u001b[0;31mNameError\u001b[0m: name 'Users' is not defined"
     ]
    }
   ],
   "source": [
    "Users/derinthefuture/Documents"
   ]
  },
  {
   "cell_type": "code",
   "execution_count": null,
   "id": "eb30dfba",
   "metadata": {},
   "outputs": [],
   "source": [
    "#I followed the instruction, but it said \"Users\" not defined? "
   ]
  },
  {
   "cell_type": "markdown",
   "id": "0363c666",
   "metadata": {},
   "source": [
    "### Text files vs Binary files"
   ]
  },
  {
   "cell_type": "code",
   "execution_count": 12,
   "id": "a3af27a8",
   "metadata": {
    "scrolled": false
   },
   "outputs": [
    {
     "name": "stdout",
     "output_type": "stream",
     "text": [
      "Light Intensity, Ch A vs Actual Angular Position, Run #4\n",
      "Actual Angular Position (  )\tLight Intensity, Ch A ( % max )\n",
      "0.000\t-0.2\n",
      "0.000\t-0.1\n",
      "0.000\t-0.1\n",
      "0.000\t-0.1\n",
      "0.000\t-0.1\n",
      "0.000\t-0.2\n",
      "0.000\t-0.1\n",
      "0.000\t-0.1\n",
      "0.000\t-0.1\n",
      "0.000\t-0.2\n",
      "0.000\t-0.1\n",
      "0.000\t-0.1\n",
      "0.000\t-0.2\n",
      "0.000\t-0.3\n",
      "0.000\t-0.2\n",
      "0.000\t-0.2\n",
      "0.001\t-0.1\n",
      "0.001\t-0.1\n",
      "0.001\t-0.1\n",
      "0.001\t-0.1\n",
      "0.001\t-0.1\n",
      "0.001\t-0.1\n",
      "0.004\t-0.1\n",
      "0.010\t-0.2\n",
      "0.018\t-0.2\n",
      "0.024\t-0.3\n",
      "0.029\t-0.3\n",
      "0.033\t-0.3\n",
      "0.036\t-0.2\n",
      "0.039\t-0.1\n",
      "0.043\t-0.1\n",
      "0.047\t-0.1\n",
      "0.053\t-0.1\n",
      "0.060\t-0.1\n",
      "0.066\t-0.1\n",
      "0.069\t-0.1\n",
      "0.073\t-0.1\n",
      "0.076\t-0.1\n",
      "0.079\t-0.1\n",
      "0.081\t-0.1\n",
      "0.082\t-0.1\n",
      "0.083\t-0.2\n",
      "0.083\t-0.2\n",
      "0.086\t-0.2\n",
      "0.090\t-0.2\n",
      "0.095\t-0.2\n",
      "0.100\t-0.3\n",
      "0.103\t-0.3\n",
      "0.104\t-0.2\n",
      "0.105\t-0.3\n",
      "0.107\t-0.2\n",
      "0.110\t-0.2\n",
      "0.115\t-0.1\n",
      "0.122\t-0.2\n",
      "0.128\t-0.1\n",
      "0.134\t-0.2\n",
      "0.139\t-0.1\n",
      "0.144\t-0.2\n",
      "0.150\t-0.2\n",
      "0.157\t-0.2\n",
      "0.164\t-0.2\n",
      "0.170\t-0.3\n",
      "0.175\t-0.3\n",
      "0.180\t-0.2\n",
      "0.185\t-0.2\n",
      "0.191\t-0.1\n",
      "0.195\t-0.1\n",
      "0.198\t-0.2\n",
      "0.201\t-0.1\n",
      "0.204\t-0.2\n",
      "0.206\t-0.2\n",
      "0.208\t-0.3\n",
      "0.210\t-0.3\n",
      "0.213\t-0.1\n",
      "0.217\t0.3\n",
      "0.222\t0.6\n",
      "0.226\t0.2\n",
      "0.230\t0.0\n",
      "0.233\t-0.1\n",
      "0.235\t-0.1\n",
      "0.237\t-0.1\n",
      "0.237\t-0.1\n",
      "0.238\t-0.1\n",
      "0.241\t-0.1\n",
      "0.245\t-0.1\n",
      "0.249\t-0.1\n",
      "0.252\t-0.1\n",
      "0.254\t-0.2\n",
      "0.257\t-0.2\n",
      "0.260\t-0.2\n",
      "0.263\t-0.3\n",
      "0.266\t-0.3\n",
      "0.269\t-0.2\n",
      "0.271\t-0.1\n",
      "0.274\t-0.1\n",
      "0.277\t-0.2\n",
      "0.279\t-0.1\n",
      "0.282\t-0.2\n",
      "0.285\t-0.1\n",
      "0.289\t-0.2\n",
      "0.292\t-0.2\n",
      "0.297\t-0.3\n",
      "0.300\t-0.2\n",
      "0.304\t-0.1\n",
      "0.307\t-0.1\n",
      "0.310\t-0.2\n",
      "0.312\t-0.1\n",
      "0.316\t-0.1\n",
      "0.320\t-0.2\n",
      "0.325\t-0.3\n",
      "0.330\t-0.2\n",
      "0.334\t-0.1\n",
      "0.336\t-0.1\n",
      "0.338\t-0.1\n",
      "0.340\t-0.1\n",
      "0.343\t-0.1\n",
      "0.346\t-0.2\n",
      "0.349\t-0.3\n",
      "0.353\t-0.1\n",
      "0.357\t-0.1\n",
      "0.362\t-0.1\n",
      "0.367\t-0.2\n",
      "0.369\t-0.1\n",
      "0.371\t-0.2\n",
      "0.371\t-0.1\n",
      "0.372\t-0.2\n",
      "0.372\t-0.2\n",
      "0.372\t-0.1\n",
      "0.373\t-0.2\n",
      "0.374\t-0.1\n",
      "0.376\t-0.2\n",
      "0.378\t-0.1\n",
      "0.380\t-0.2\n",
      "0.382\t-0.2\n",
      "0.384\t-0.2\n",
      "0.385\t-0.2\n",
      "0.386\t-0.2\n",
      "0.387\t-0.2\n",
      "0.389\t-0.3\n",
      "0.391\t-0.3\n",
      "0.394\t-0.2\n",
      "0.398\t-0.1\n",
      "0.401\t-0.1\n",
      "0.404\t-0.1\n",
      "0.405\t-0.1\n",
      "0.406\t-0.1\n",
      "0.408\t-0.1\n",
      "0.411\t-0.1\n",
      "0.414\t-0.2\n",
      "0.417\t-0.1\n",
      "0.420\t-0.2\n",
      "0.423\t-0.1\n",
      "0.425\t-0.2\n",
      "0.427\t-0.1\n",
      "0.430\t-0.1\n",
      "0.433\t-0.1\n",
      "0.437\t-0.2\n",
      "0.440\t-0.2\n",
      "0.443\t-0.1\n",
      "0.446\t-0.1\n",
      "0.449\t-0.1\n",
      "0.453\t-0.1\n",
      "0.458\t-0.1\n",
      "0.462\t-0.2\n",
      "0.466\t-0.2\n",
      "0.469\t-0.2\n",
      "0.472\t-0.3\n",
      "0.474\t-0.3\n",
      "0.477\t-0.2\n",
      "0.481\t-0.1\n",
      "0.486\t-0.1\n",
      "0.490\t-0.1\n",
      "0.493\t-0.1\n",
      "0.496\t0.0\n",
      "0.498\t0.0\n",
      "0.501\t-0.1\n",
      "0.503\t-0.1\n",
      "0.505\t-0.2\n",
      "0.507\t-0.3\n",
      "0.510\t-0.1\n",
      "0.513\t-0.1\n",
      "0.516\t-0.1\n",
      "0.519\t-0.1\n",
      "0.523\t-0.1\n",
      "0.526\t-0.1\n",
      "0.529\t-0.1\n",
      "0.533\t-0.1\n",
      "0.537\t-0.1\n",
      "0.541\t-0.2\n",
      "0.544\t-0.1\n",
      "0.547\t-0.1\n",
      "0.549\t-0.1\n",
      "0.551\t-0.1\n",
      "0.554\t-0.1\n",
      "0.557\t-0.1\n",
      "0.561\t-0.1\n",
      "0.564\t-0.1\n",
      "0.568\t-0.2\n",
      "0.572\t-0.2\n",
      "0.577\t-0.2\n",
      "0.581\t-0.1\n",
      "0.586\t0.0\n",
      "0.588\t0.0\n",
      "0.590\t-0.1\n",
      "0.592\t-0.1\n",
      "0.593\t-0.2\n",
      "0.596\t-0.2\n",
      "0.599\t-0.2\n",
      "0.602\t-0.2\n",
      "0.605\t-0.2\n",
      "0.606\t-0.2\n",
      "0.607\t-0.2\n",
      "0.609\t-0.1\n",
      "0.610\t-0.1\n",
      "0.613\t0.0\n",
      "0.615\t0.0\n",
      "0.617\t-0.1\n",
      "0.619\t-0.1\n",
      "0.622\t-0.2\n",
      "0.624\t-0.1\n",
      "0.626\t0.0\n",
      "0.629\t0.1\n",
      "0.632\t0.1\n",
      "0.634\t0.0\n",
      "0.637\t0.0\n",
      "0.639\t0.0\n",
      "0.641\t0.0\n",
      "0.643\t0.0\n",
      "0.645\t0.0\n",
      "0.648\t0.0\n",
      "0.650\t0.0\n",
      "0.653\t0.0\n",
      "0.656\t0.0\n",
      "0.658\t-0.1\n",
      "0.661\t-0.2\n",
      "0.663\t0.0\n",
      "0.666\t0.0\n",
      "0.670\t0.0\n",
      "0.676\t0.0\n",
      "0.680\t0.0\n",
      "0.684\t0.0\n",
      "0.686\t0.1\n",
      "0.686\t0.1\n",
      "0.687\t0.0\n",
      "0.689\t0.0\n",
      "0.693\t0.1\n",
      "0.697\t0.3\n",
      "0.701\t0.5\n",
      "0.703\t1.2\n",
      "0.705\t7.1\n",
      "0.707\t23.7\n",
      "0.709\t51.4\n",
      "0.710\t61.3\n",
      "0.712\t48.9\n",
      "0.714\t25.8\n",
      "0.715\t12.1\n",
      "0.717\t4.6\n",
      "0.718\t1.8\n",
      "0.721\t0.7\n",
      "0.723\t0.5\n",
      "0.724\t0.4\n",
      "0.726\t0.4\n",
      "0.727\t0.4\n",
      "0.728\t0.3\n",
      "0.730\t0.2\n",
      "0.732\t0.2\n",
      "0.735\t0.1\n",
      "0.737\t0.2\n",
      "0.740\t0.2\n",
      "0.742\t0.2\n",
      "0.744\t0.1\n",
      "0.746\t0.1\n",
      "0.748\t0.1\n",
      "0.749\t0.1\n",
      "0.750\t0.0\n",
      "0.752\t0.0\n",
      "0.754\t0.1\n",
      "0.756\t0.1\n",
      "0.758\t0.1\n",
      "0.761\t0.1\n",
      "0.764\t0.0\n",
      "0.766\t-0.1\n",
      "0.768\t-0.1\n",
      "0.770\t-0.1\n",
      "0.772\t0.0\n",
      "0.774\t0.0\n",
      "0.777\t0.0\n",
      "0.779\t0.0\n",
      "0.780\t0.0\n",
      "0.782\t0.0\n",
      "0.784\t-0.1\n",
      "0.785\t0.0\n",
      "0.787\t0.0\n",
      "0.789\t0.0\n",
      "0.791\t0.0\n",
      "0.793\t0.0\n",
      "0.795\t0.0\n",
      "0.797\t-0.1\n",
      "0.800\t0.0\n",
      "0.804\t0.0\n",
      "0.806\t0.0\n",
      "0.809\t0.0\n",
      "0.811\t0.1\n",
      "0.813\t0.9\n",
      "0.815\t3.0\n",
      "0.817\t5.9\n",
      "0.819\t6.6\n",
      "0.821\t4.0\n",
      "0.823\t1.3\n",
      "0.826\t0.2\n",
      "0.828\t0.1\n",
      "0.831\t0.1\n",
      "0.833\t0.1\n",
      "0.836\t0.1\n",
      "0.838\t0.1\n",
      "0.840\t0.1\n",
      "0.843\t0.1\n",
      "0.847\t0.2\n",
      "0.850\t1.0\n",
      "0.854\t0.8\n",
      "0.856\t0.3\n",
      "0.858\t0.1\n",
      "0.860\t0.0\n",
      "0.862\t0.1\n",
      "0.864\t0.1\n",
      "0.866\t0.2\n",
      "0.869\t0.2\n",
      "0.872\t0.1\n",
      "0.875\t0.1\n",
      "0.878\t0.1\n",
      "0.881\t0.1\n",
      "0.884\t0.1\n",
      "0.887\t0.1\n",
      "0.890\t0.0\n",
      "0.893\t0.1\n",
      "0.896\t0.0\n",
      "0.898\t0.1\n",
      "0.901\t0.0\n",
      "0.903\t0.0\n",
      "0.907\t0.0\n",
      "0.910\t0.0\n",
      "0.913\t0.0\n",
      "0.916\t0.0\n",
      "0.919\t0.0\n",
      "0.922\t0.0\n",
      "0.925\t0.0\n",
      "0.929\t0.0\n",
      "0.932\t0.0\n",
      "0.935\t0.0\n",
      "0.938\t0.0\n",
      "0.940\t0.0\n",
      "0.941\t0.0\n",
      "0.942\t0.0\n",
      "0.944\t0.0\n",
      "0.947\t0.0\n",
      "0.950\t0.0\n",
      "0.951\t0.0\n",
      "0.952\t0.0\n",
      "0.953\t0.0\n",
      "0.955\t0.0\n",
      "0.957\t0.0\n",
      "0.959\t0.0\n",
      "0.961\t0.0\n",
      "0.963\t0.0\n",
      "0.965\t0.0\n",
      "0.968\t0.0\n",
      "0.971\t0.0\n",
      "0.973\t0.1\n",
      "0.976\t0.1\n",
      "0.978\t0.0\n",
      "0.980\t0.1\n",
      "0.982\t0.1\n",
      "0.983\t0.0\n",
      "0.984\t0.0\n",
      "0.986\t0.1\n",
      "0.987\t0.0\n",
      "0.989\t0.1\n",
      "0.991\t0.1\n",
      "0.993\t0.1\n",
      "0.995\t0.1\n",
      "0.998\t0.1\n",
      "1.001\t0.1\n",
      "1.004\t0.2\n",
      "1.007\t0.2\n",
      "1.010\t0.1\n",
      "1.013\t0.1\n",
      "1.015\t0.1\n",
      "1.018\t0.1\n",
      "1.021\t0.1\n",
      "1.023\t0.1\n",
      "1.026\t0.1\n",
      "1.028\t0.2\n",
      "1.030\t0.3\n",
      "1.032\t0.3\n",
      "1.034\t0.3\n",
      "1.036\t0.4\n",
      "1.038\t0.4\n",
      "1.040\t0.4\n",
      "1.042\t0.5\n",
      "1.044\t0.5\n",
      "1.047\t0.5\n",
      "1.050\t0.6\n",
      "1.053\t0.7\n",
      "1.055\t0.7\n",
      "1.057\t0.8\n",
      "1.058\t0.9\n",
      "1.060\t1.0\n",
      "1.062\t1.2\n",
      "1.065\t1.3\n",
      "1.068\t1.4\n",
      "1.070\t1.3\n",
      "1.072\t1.3\n",
      "1.074\t1.3\n",
      "1.077\t1.4\n",
      "1.079\t1.6\n",
      "1.081\t1.8\n",
      "1.084\t2.1\n",
      "1.086\t2.4\n",
      "1.088\t2.7\n",
      "1.089\t3.2\n",
      "1.091\t3.8\n",
      "1.093\t4.5\n",
      "1.096\t5.4\n",
      "1.098\t6.7\n",
      "1.101\t8.8\n",
      "1.104\t13.1\n",
      "1.107\t97.1\n",
      "1.112\t97.0\n",
      "1.117\t97.0\n",
      "1.122\t45.6\n",
      "1.125\t11.9\n",
      "1.129\t9.1\n",
      "1.131\t7.6\n",
      "1.133\t7.0\n",
      "1.134\t6.3\n",
      "1.136\t5.9\n",
      "1.138\t5.3\n",
      "1.140\t4.8\n",
      "1.142\t4.2\n",
      "1.144\t3.5\n",
      "1.147\t3.0\n",
      "1.149\t2.6\n",
      "1.152\t2.2\n",
      "1.156\t2.1\n",
      "1.159\t1.8\n",
      "1.162\t1.7\n",
      "1.165\t1.5\n",
      "1.167\t1.4\n",
      "1.170\t1.2\n",
      "1.172\t1.2\n",
      "1.174\t0.9\n",
      "1.177\t0.8\n",
      "1.179\t0.6\n",
      "1.182\t0.4\n",
      "1.184\t0.3\n",
      "1.187\t0.3\n",
      "1.190\t0.2\n",
      "1.192\t0.2\n",
      "1.193\t0.2\n",
      "1.194\t0.2\n",
      "1.194\t0.2\n",
      "1.196\t0.2\n",
      "1.198\t0.2\n",
      "1.201\t0.1\n",
      "1.204\t0.1\n",
      "1.207\t0.1\n",
      "1.211\t0.1\n",
      "1.215\t0.1\n",
      "1.218\t0.0\n",
      "1.222\t0.1\n",
      "1.226\t0.0\n",
      "1.229\t0.0\n",
      "1.231\t-0.1\n",
      "1.234\t0.0\n",
      "1.237\t-0.1\n",
      "1.240\t0.0\n",
      "1.244\t0.0\n",
      "1.247\t0.0\n",
      "1.250\t0.0\n",
      "1.253\t0.0\n",
      "1.255\t0.0\n",
      "1.257\t0.0\n",
      "1.260\t0.0\n",
      "1.263\t0.0\n",
      "1.265\t0.0\n",
      "1.266\t0.0\n",
      "1.268\t0.0\n",
      "1.269\t0.0\n",
      "1.270\t0.0\n",
      "1.271\t0.0\n",
      "1.273\t0.0\n",
      "1.275\t0.0\n",
      "1.277\t0.0\n",
      "1.278\t0.0\n",
      "1.280\t0.0\n",
      "1.281\t0.0\n",
      "1.283\t0.0\n",
      "1.285\t0.0\n",
      "1.286\t0.0\n",
      "1.287\t0.0\n",
      "1.287\t0.0\n",
      "1.288\t-0.1\n",
      "1.289\t-0.1\n",
      "1.290\t-0.1\n",
      "1.291\t-0.2\n",
      "1.292\t-0.2\n",
      "1.292\t-0.2\n",
      "1.293\t-0.1\n",
      "1.294\t0.0\n",
      "1.295\t0.0\n",
      "1.296\t-0.1\n",
      "1.297\t-0.1\n",
      "1.298\t-0.1\n",
      "1.299\t0.0\n",
      "1.300\t0.0\n",
      "1.301\t0.0\n",
      "1.302\t-0.1\n",
      "1.303\t-0.1\n",
      "1.304\t0.0\n",
      "1.306\t-0.1\n",
      "1.306\t-0.1\n",
      "1.308\t-0.1\n",
      "1.309\t-0.1\n",
      "1.311\t-0.2\n",
      "1.312\t-0.2\n",
      "1.313\t-0.2\n",
      "1.314\t-0.1\n",
      "1.316\t0.0\n",
      "1.317\t0.0\n",
      "1.318\t-0.1\n",
      "1.319\t-0.1\n",
      "1.319\t0.0\n",
      "1.320\t0.0\n",
      "1.322\t-0.1\n",
      "1.323\t-0.1\n",
      "1.325\t-0.1\n",
      "1.327\t-0.1\n",
      "1.329\t0.0\n",
      "1.332\t-0.1\n",
      "1.334\t-0.1\n",
      "1.335\t-0.1\n",
      "1.336\t-0.1\n",
      "1.338\t-0.1\n",
      "1.340\t0.0\n",
      "1.341\t-0.1\n",
      "1.343\t0.0\n",
      "1.344\t-0.1\n",
      "1.345\t-0.2\n",
      "1.347\t0.0\n",
      "1.348\t0.0\n",
      "1.349\t0.0\n",
      "1.351\t0.0\n",
      "1.352\t0.0\n",
      "1.353\t0.0\n",
      "1.354\t0.0\n",
      "1.356\t0.0\n",
      "1.358\t0.0\n",
      "1.359\t0.0\n",
      "1.361\t0.0\n",
      "1.363\t0.0\n",
      "1.366\t0.1\n",
      "1.368\t0.1\n",
      "1.369\t0.0\n",
      "1.370\t0.0\n",
      "1.371\t0.0\n",
      "1.372\t0.0\n",
      "1.373\t0.0\n",
      "1.374\t0.0\n",
      "1.376\t0.0\n",
      "1.378\t0.1\n",
      "1.380\t0.3\n",
      "1.380\t0.5\n",
      "1.380\t0.5\n",
      "1.382\t0.4\n",
      "1.384\t0.3\n",
      "1.386\t0.1\n",
      "1.386\t0.0\n",
      "1.386\t0.0\n",
      "1.388\t0.0\n",
      "1.389\t-0.1\n",
      "1.389\t0.0\n",
      "1.389\t-0.1\n",
      "1.389\t-0.1\n",
      "1.389\t-0.2\n",
      "1.390\t0.0\n",
      "1.391\t0.0\n",
      "1.393\t0.0\n",
      "1.396\t0.0\n",
      "1.398\t0.0\n",
      "1.400\t0.0\n",
      "1.401\t0.0\n",
      "1.402\t0.0\n",
      "1.404\t0.0\n",
      "1.405\t0.0\n",
      "1.406\t0.1\n",
      "1.408\t0.7\n",
      "1.409\t2.0\n",
      "1.411\t3.2\n",
      "1.413\t3.8\n",
      "1.415\t2.4\n",
      "1.418\t0.7\n",
      "1.420\t0.1\n",
      "1.423\t0.0\n",
      "1.425\t0.0\n",
      "1.428\t0.0\n",
      "1.430\t0.0\n",
      "1.432\t0.0\n",
      "1.433\t0.0\n",
      "1.435\t0.0\n",
      "1.436\t-0.1\n",
      "1.437\t-0.1\n",
      "1.439\t-0.2\n",
      "1.441\t0.0\n",
      "1.443\t0.0\n",
      "1.445\t0.0\n",
      "1.448\t0.0\n",
      "1.449\t0.0\n",
      "1.451\t0.0\n",
      "1.453\t0.0\n",
      "1.454\t0.0\n",
      "1.456\t0.0\n",
      "1.457\t0.0\n",
      "1.459\t0.0\n",
      "1.461\t0.0\n",
      "1.463\t0.0\n",
      "1.465\t-0.1\n",
      "1.467\t-0.1\n",
      "1.468\t-0.1\n",
      "1.470\t0.0\n",
      "1.472\t0.0\n",
      "1.473\t0.0\n",
      "1.476\t0.0\n",
      "1.478\t0.0\n",
      "1.480\t0.0\n",
      "1.483\t0.0\n",
      "1.486\t0.0\n",
      "1.489\t0.0\n",
      "1.492\t0.0\n",
      "1.495\t0.0\n",
      "1.499\t0.0\n",
      "1.502\t0.1\n",
      "1.507\t0.1\n",
      "1.510\t0.2\n",
      "1.513\t0.3\n",
      "1.515\t0.5\n",
      "1.518\t5.8\n",
      "1.521\t28.1\n",
      "1.525\t36.1\n",
      "1.528\t10.0\n",
      "1.531\t1.3\n",
      "1.533\t0.4\n",
      "1.535\t0.3\n",
      "1.537\t0.2\n",
      "1.540\t0.2\n",
      "1.543\t0.1\n",
      "1.546\t0.1\n",
      "1.550\t0.0\n",
      "1.553\t0.0\n",
      "1.556\t-0.1\n",
      "1.559\t-0.1\n",
      "1.562\t0.0\n",
      "1.565\t0.0\n",
      "1.569\t0.0\n",
      "1.572\t0.0\n",
      "1.575\t0.0\n",
      "1.577\t0.0\n",
      "1.581\t-0.2\n",
      "1.585\t-0.2\n",
      "1.589\t-0.1\n",
      "1.593\t0.0\n",
      "1.596\t-0.1\n",
      "1.597\t-0.1\n",
      "1.598\t-0.1\n",
      "1.599\t-0.1\n",
      "1.601\t-0.1\n",
      "1.602\t0.0\n",
      "1.603\t0.0\n",
      "1.606\t0.0\n",
      "1.611\t-0.2\n",
      "1.616\t-0.3\n",
      "1.623\t-0.2\n",
      "1.628\t-0.1\n",
      "1.633\t-0.1\n",
      "1.639\t-0.1\n",
      "1.644\t-0.1\n",
      "1.649\t-0.1\n",
      "1.654\t0.0\n",
      "1.658\t-0.1\n",
      "1.663\t-0.1\n",
      "1.667\t-0.1\n",
      "1.671\t-0.1\n",
      "1.675\t-0.1\n",
      "1.679\t-0.3\n",
      "1.684\t-0.2\n",
      "1.688\t-0.1\n",
      "1.693\t-0.1\n",
      "1.696\t-0.1\n",
      "1.700\t-0.1\n",
      "1.704\t-0.1\n",
      "1.707\t-0.1\n",
      "1.710\t-0.1\n",
      "1.712\t-0.1\n",
      "1.714\t-0.1\n",
      "1.717\t-0.1\n",
      "1.721\t-0.1\n",
      "1.726\t-0.1\n",
      "1.731\t-0.1\n",
      "1.734\t-0.1\n",
      "1.737\t-0.1\n",
      "1.739\t-0.1\n",
      "1.742\t-0.1\n",
      "1.745\t0.0\n",
      "1.749\t0.2\n",
      "1.752\t0.1\n",
      "1.756\t-0.1\n",
      "1.759\t-0.1\n",
      "1.762\t-0.1\n",
      "1.767\t-0.1\n",
      "1.772\t-0.3\n",
      "1.777\t-0.3\n",
      "1.783\t-0.2\n",
      "1.787\t-0.1\n",
      "1.792\t-0.2\n",
      "1.796\t-0.3\n",
      "1.800\t-0.2\n",
      "1.803\t-0.2\n",
      "1.808\t-0.2\n",
      "1.812\t-0.2\n",
      "1.818\t-0.1\n",
      "1.823\t-0.1\n",
      "1.828\t-0.1\n",
      "1.835\t-0.1\n",
      "1.844\t-0.1\n",
      "1.852\t-0.2\n",
      "1.859\t-0.1\n",
      "1.865\t-0.2\n",
      "1.870\t-0.1\n",
      "1.873\t-0.2\n",
      "1.874\t-0.2\n",
      "1.875\t-0.2\n",
      "1.877\t-0.2\n",
      "1.880\t-0.2\n",
      "1.883\t-0.2\n",
      "1.887\t-0.2\n",
      "1.892\t-0.3\n",
      "1.895\t-0.3\n",
      "1.898\t-0.2\n",
      "1.903\t-0.2\n",
      "1.907\t-0.2\n",
      "1.912\t-0.1\n",
      "1.918\t-0.1\n",
      "1.923\t-0.2\n",
      "1.929\t-0.2\n",
      "1.934\t-0.1\n",
      "1.940\t-0.1\n",
      "1.944\t-0.2\n",
      "1.948\t-0.2\n",
      "1.952\t-0.2\n",
      "1.955\t-0.2\n",
      "1.960\t-0.2\n",
      "1.966\t-0.2\n",
      "1.971\t-0.2\n",
      "1.975\t-0.1\n",
      "1.979\t-0.2\n",
      "1.985\t-0.3\n",
      "1.990\t-0.2\n",
      "1.997\t-0.1\n",
      "2.002\t-0.1\n",
      "2.007\t-0.2\n",
      "2.012\t-0.1\n",
      "2.017\t-0.2\n",
      "2.022\t-0.1\n",
      "2.027\t-0.2\n",
      "2.034\t-0.1\n",
      "2.041\t-0.1\n",
      "2.048\t1.1\n",
      "2.053\t1.6\n",
      "2.057\t0.7\n",
      "2.060\t0.1\n",
      "2.064\t0.0\n",
      "2.068\t-0.1\n",
      "2.073\t-0.1\n",
      "2.079\t-0.1\n",
      "2.086\t-0.1\n",
      "2.094\t-0.1\n",
      "2.100\t-0.2\n",
      "2.105\t-0.1\n",
      "2.109\t-0.1\n",
      "2.111\t-0.1\n",
      "2.115\t-0.2\n",
      "2.120\t-0.2\n",
      "2.124\t-0.1\n",
      "2.128\t-0.2\n",
      "2.131\t-0.1\n",
      "2.134\t-0.2\n",
      "2.135\t-0.1\n",
      "2.138\t-0.1\n",
      "2.140\t-0.1\n",
      "2.144\t-0.1\n",
      "2.148\t-0.1\n",
      "2.153\t-0.2\n",
      "2.158\t-0.2\n",
      "2.162\t-0.2\n",
      "2.166\t-0.2\n",
      "2.170\t-0.2\n",
      "2.175\t-0.2\n",
      "2.179\t-0.2\n",
      "2.183\t-0.1\n",
      "2.187\t-0.2\n",
      "2.191\t-0.2\n",
      "2.194\t-0.2\n",
      "2.197\t-0.2\n",
      "2.200\t-0.2\n",
      "2.203\t-0.2\n",
      "2.207\t-0.2\n",
      "2.211\t-0.1\n",
      "2.215\t-0.2\n",
      "2.219\t-0.2\n",
      "2.222\t-0.1\n",
      "2.224\t-0.2\n",
      "2.225\t-0.2\n",
      "2.225\t-0.2\n",
      "2.225\t-0.2\n",
      "2.225\t-0.3\n",
      "2.225\t-0.2\n",
      "2.225\t-0.3\n",
      "2.225\t-0.3\n",
      "2.225\t-0.3\n",
      "2.225\t-0.2\n",
      "2.225\t-0.1\n",
      "2.225\t-0.1\n",
      "2.225\t-0.1\n",
      "2.225\t-0.1\n",
      "2.225\t-0.1\n",
      "2.225\t-0.1\n",
      "2.225\t-0.2\n",
      "2.225\t-0.1\n",
      "2.225\t-0.1\n",
      "2.225\t-0.2\n",
      "2.225\t-0.1\n",
      "2.225\t-0.1\n",
      "2.225\t-0.1\n",
      "2.225\t-0.2\n",
      "2.225\t-0.2\n",
      "2.225\t-0.2\n",
      "2.225\t-0.1\n",
      "2.225\t-0.1\n",
      "2.225\t-0.2\n",
      "2.224\t-0.2\n",
      "2.224\t-0.2\n",
      "2.224\t-0.2\n",
      "2.224\t-0.2\n",
      "2.224\t-0.2\n",
      "2.224\t-0.2\n",
      "2.224\t-0.2\n",
      "2.224\t-0.3\n",
      "2.224\t-0.3\n",
      "2.224\t-0.2\n",
      "2.224\t-0.3\n",
      "2.224\t-0.3\n",
      "2.224\t-0.2\n",
      "2.224\t-0.3\n",
      "2.224\t-0.3\n",
      "2.224\t-0.3\n",
      "2.224\t-0.1\n",
      "2.224\t-0.2\n",
      "2.224\t-0.2\n",
      "2.224\t-0.2\n",
      "2.224\t-0.1\n",
      "2.224\t-0.1\n",
      "2.224\t-0.2\n",
      "2.224\t-0.2\n",
      "2.224\t-0.2\n",
      "2.224\t-0.2\n",
      "2.224\t-0.1\n",
      "2.224\t-0.1\n",
      "2.224\t-0.2\n",
      "2.224\t-0.2\n",
      "2.224\t-0.2\n",
      "2.224\t-0.2\n",
      "2.224\t-0.3\n",
      "2.224\t-0.2\n",
      "2.224\t-0.1\n",
      "2.224\t-0.1\n",
      "2.224\t-0.2\n",
      "2.224\t-0.2\n",
      "2.224\t-0.2\n",
      "2.224\t-0.2\n",
      "2.224\t-0.1\n",
      "2.224\t-0.2\n",
      "2.224\t-0.2\n",
      "2.224\t-0.2\n",
      "2.224\t-0.1\n",
      "2.224\t-0.2\n",
      "2.224\t-0.1\n",
      "2.224\t-0.2\n",
      "2.224\t-0.2\n",
      "2.224\t-0.2\n",
      "2.224\t-0.2\n",
      "2.224\t-0.2\n",
      "2.224\t-0.2\n",
      "2.224\t-0.2\n",
      "2.224\t-0.2\n",
      "2.224\t-0.2\n",
      "2.224\t-0.2\n",
      "2.224\t-0.2\n",
      "2.224\t-0.2\n",
      "2.224\t-0.2\n",
      "2.224\t-0.2\n",
      "2.224\t-0.2\n",
      "2.224\t-0.2\n",
      "2.224\t-0.3\n",
      "2.224\t-0.3\n",
      "2.224\t-0.3\n",
      "2.224\t-0.3\n",
      "2.224\t-0.3\n",
      "\n"
     ]
    }
   ],
   "source": [
    "with open('spectrum-01.txt', 'r') as file:\n",
    "    file_content = file.read()\n",
    "\n",
    "print(file_content)"
   ]
  },
  {
   "cell_type": "code",
   "execution_count": null,
   "id": "5bd987bd",
   "metadata": {},
   "outputs": [],
   "source": [
    "#'r'--> read\n",
    "#--> do not need to close"
   ]
  },
  {
   "cell_type": "markdown",
   "id": "29a6bbe3",
   "metadata": {},
   "source": [
    "### Extentions"
   ]
  },
  {
   "cell_type": "code",
   "execution_count": 13,
   "id": "160567c5",
   "metadata": {},
   "outputs": [],
   "source": [
    "text = 'Far out in the uncharted backwaters of the unfashionable end of the western spiral arm of the Galaxy lies a small unregarded yellow sun.\\nOrbiting this at a distance of roughly ninety-two million miles is an utterly insignificant little blue green planet whose ape-descended life forms are so amazingly primitive that they still think digital watches are a pretty neat idea.'"
   ]
  },
  {
   "cell_type": "code",
   "execution_count": 14,
   "id": "ecb8b25e",
   "metadata": {},
   "outputs": [],
   "source": [
    "with open('my-text-once.txt', 'w') as file:\n",
    "    file.write(text)"
   ]
  },
  {
   "cell_type": "code",
   "execution_count": null,
   "id": "ada5bbf6",
   "metadata": {},
   "outputs": [],
   "source": [
    "#'w' indicates that I'm opening the file stream for writing"
   ]
  },
  {
   "cell_type": "markdown",
   "id": "70b0c248",
   "metadata": {},
   "source": [
    "### 1.4 Opening and closing files"
   ]
  },
  {
   "cell_type": "code",
   "execution_count": 15,
   "id": "65e844af",
   "metadata": {},
   "outputs": [],
   "source": [
    "with open('my-text-lines.txt', 'w') as file:\n",
    "    for line in text.splitlines():\n",
    "        file.writelines(line)"
   ]
  },
  {
   "cell_type": "markdown",
   "id": "bddf0648",
   "metadata": {},
   "source": [
    "## 2 Playing with the OS"
   ]
  },
  {
   "cell_type": "markdown",
   "id": "5e2898bf",
   "metadata": {},
   "source": [
    "### 2.1 Some packages"
   ]
  },
  {
   "cell_type": "code",
   "execution_count": 40,
   "id": "eb1f34b9",
   "metadata": {},
   "outputs": [],
   "source": [
    "import os\n",
    "#create, modify, delete folders and write OS-agnostic code\n",
    "import glob\n",
    "#search for file\n",
    "import shutil\n",
    "#copy files"
   ]
  },
  {
   "cell_type": "markdown",
   "id": "2bb27494",
   "metadata": {},
   "source": [
    "### 2.2 OS safe paths"
   ]
  },
  {
   "cell_type": "code",
   "execution_count": 17,
   "id": "f8e9bc51",
   "metadata": {},
   "outputs": [
    {
     "name": "stdout",
     "output_type": "stream",
     "text": [
      "./all-data/sg-data/data-01.txt\n"
     ]
    }
   ],
   "source": [
    "path = os.path.join('.', 'all-data', 'sg-data', 'data-01.txt')\n",
    "print(path)"
   ]
  },
  {
   "cell_type": "markdown",
   "id": "616cbe04",
   "metadata": {},
   "source": [
    "### 2.3 Creating folders"
   ]
  },
  {
   "cell_type": "code",
   "execution_count": 18,
   "id": "b3107010",
   "metadata": {},
   "outputs": [
    {
     "name": "stdout",
     "output_type": "stream",
     "text": [
      "Creating people/Jonh\n",
      "Creating people/Paul\n",
      "Creating people/Ringo\n"
     ]
    }
   ],
   "source": [
    "os.mkdir('people')\n",
    "\n",
    "for person in ['Jonh', 'Paul', 'Ringo']:\n",
    "    path = os.path.join('people', person)\n",
    "    print(f'Creating {path}')\n",
    "    os.mkdir(path)"
   ]
  },
  {
   "cell_type": "markdown",
   "id": "41b6c070",
   "metadata": {},
   "source": [
    "### 2.4 Checking for existence"
   ]
  },
  {
   "cell_type": "code",
   "execution_count": 19,
   "id": "1ebe0ddc",
   "metadata": {},
   "outputs": [
    {
     "name": "stdout",
     "output_type": "stream",
     "text": [
      "people/Jonh already exists; skipping creation.\n",
      "people/Paul already exists; skipping creation.\n",
      "people/Ringo already exists; skipping creation.\n"
     ]
    }
   ],
   "source": [
    "for person in ['Jonh', 'Paul', 'Ringo']:\n",
    "    path = os.path.join('people', person)\n",
    "    try:\n",
    "        os.mkdir(path)\n",
    "        print(f'Creating {path}')\n",
    "    except FileExistsError:\n",
    "        print(f'{path} already exists; skipping creation.')"
   ]
  },
  {
   "cell_type": "code",
   "execution_count": 20,
   "id": "517b3131",
   "metadata": {},
   "outputs": [
    {
     "name": "stdout",
     "output_type": "stream",
     "text": [
      "people/Jonh already exists; skipping creation.\n",
      "people/Paul already exists; skipping creation.\n",
      "people/Ringo already exists; skipping creation.\n"
     ]
    }
   ],
   "source": [
    "for person in ['Jonh', 'Paul', 'Ringo']:\n",
    "    path = os.path.join('people', person)\n",
    "    if os.path.exists(path):\n",
    "        print(f'{path} already exists; skipping creation.')\n",
    "    else:\n",
    "        os.mkdir(path)\n",
    "        print(f'Creating {path}')"
   ]
  },
  {
   "cell_type": "markdown",
   "id": "07c7805a",
   "metadata": {},
   "source": [
    "### 2.5 Copying files"
   ]
  },
  {
   "cell_type": "code",
   "execution_count": 21,
   "id": "794ee174",
   "metadata": {},
   "outputs": [
    {
     "name": "stdout",
     "output_type": "stream",
     "text": [
      "Copied file to people/Jonh\n",
      "Copied file to people/Paul\n",
      "Copied file to people/Ringo\n"
     ]
    }
   ],
   "source": [
    "for person in ['Jonh', 'Paul', 'Ringo']:\n",
    "    path_to_destination = os.path.join('people', person)\n",
    "    shutil.copy('sp2273_logo.png', path_to_destination)\n",
    "    print(f'Copied file to {path_to_destination}')"
   ]
  },
  {
   "cell_type": "code",
   "execution_count": 22,
   "id": "3b46c344",
   "metadata": {},
   "outputs": [
    {
     "name": "stdout",
     "output_type": "stream",
     "text": [
      "Moved logo to people/Jonh/imgs/sp2273_logo.png\n",
      "Moved logo to people/Paul/imgs/sp2273_logo.png\n",
      "Moved logo to people/Ringo/imgs/sp2273_logo.png\n"
     ]
    }
   ],
   "source": [
    "for person in ['Jonh', 'Paul', 'Ringo']:\n",
    "    \n",
    "    path_to_imgs = os.path.join('people', person, 'imgs')\n",
    "    if not os.path.exists(path_to_imgs):\n",
    "        os.mkdir(path_to_imgs)\n",
    "\n",
    "    current_path_of_logo = os.path.join('people', person, 'sp2273_logo.png')\n",
    "    new_path_of_logo = os.path.join('people', person, 'imgs', 'sp2273_logo.png')\n",
    "\n",
    "    shutil.move(current_path_of_logo, new_path_of_logo)\n",
    "    print(f'Moved logo to {new_path_of_logo}')"
   ]
  },
  {
   "cell_type": "markdown",
   "id": "3367f645",
   "metadata": {},
   "source": [
    "### 2.6 Listing files"
   ]
  },
  {
   "cell_type": "code",
   "execution_count": 23,
   "id": "f2de5349",
   "metadata": {},
   "outputs": [
    {
     "data": {
      "text/plain": [
       "['my-text-once.txt',\n",
       " 'sp2273_logo.png',\n",
       " 'spectrum-01.txt',\n",
       " 'people',\n",
       " 'my-text-lines.txt',\n",
       " 'files,_folders_and_os_(need).ipynb']"
      ]
     },
     "execution_count": 23,
     "metadata": {},
     "output_type": "execute_result"
    }
   ],
   "source": [
    "glob.glob('*')"
   ]
  },
  {
   "cell_type": "code",
   "execution_count": 24,
   "id": "563127d6",
   "metadata": {},
   "outputs": [
    {
     "data": {
      "text/plain": [
       "['people']"
      ]
     },
     "execution_count": 24,
     "metadata": {},
     "output_type": "execute_result"
    }
   ],
   "source": [
    "glob.glob('peo*')"
   ]
  },
  {
   "cell_type": "code",
   "execution_count": 30,
   "id": "bdfd3d3b",
   "metadata": {},
   "outputs": [
    {
     "data": {
      "text/plain": [
       "['people/Paul', 'people/Jonh', 'people/Ringo']"
      ]
     },
     "execution_count": 30,
     "metadata": {},
     "output_type": "execute_result"
    }
   ],
   "source": [
    "glob.glob('peo*/*')\n",
    "#check whats inside people"
   ]
  },
  {
   "cell_type": "code",
   "execution_count": 27,
   "id": "9e626af6",
   "metadata": {},
   "outputs": [
    {
     "data": {
      "text/plain": [
       "['people/',\n",
       " 'people/Paul',\n",
       " 'people/Paul/imgs',\n",
       " 'people/Paul/imgs/sp2273_logo.png',\n",
       " 'people/Jonh',\n",
       " 'people/Jonh/imgs',\n",
       " 'people/Jonh/imgs/sp2273_logo.png',\n",
       " 'people/Ringo',\n",
       " 'people/Ringo/imgs',\n",
       " 'people/Ringo/imgs/sp2273_logo.png']"
      ]
     },
     "execution_count": 27,
     "metadata": {},
     "output_type": "execute_result"
    }
   ],
   "source": [
    "glob.glob('peo*/**', recursive=True)\n",
    "#check AlL seb-file in people"
   ]
  },
  {
   "cell_type": "code",
   "execution_count": 29,
   "id": "d31e7bed",
   "metadata": {},
   "outputs": [
    {
     "data": {
      "text/plain": [
       "['people/Paul/imgs/sp2273_logo.png',\n",
       " 'people/Jonh/imgs/sp2273_logo.png',\n",
       " 'people/Ringo/imgs/sp2273_logo.png']"
      ]
     },
     "execution_count": 29,
     "metadata": {},
     "output_type": "execute_result"
    }
   ],
   "source": [
    "glob.glob('people/**/*.png', recursive=True)"
   ]
  },
  {
   "cell_type": "markdown",
   "id": "da49c7cd",
   "metadata": {},
   "source": [
    "### 2.7 Moving about"
   ]
  },
  {
   "cell_type": "code",
   "execution_count": 31,
   "id": "ee428193",
   "metadata": {},
   "outputs": [
    {
     "data": {
      "text/plain": [
       "'/Users/derinthefuture/Documents/GitHub/learning-portfolio-wtz2273/files, folders and os'"
      ]
     },
     "execution_count": 31,
     "metadata": {},
     "output_type": "execute_result"
    }
   ],
   "source": [
    "os.getcwd()\n",
    "#get current working directory"
   ]
  },
  {
   "cell_type": "code",
   "execution_count": 39,
   "id": "946bb438",
   "metadata": {},
   "outputs": [],
   "source": [
    "os.chdir('people/Ringo')\n",
    "#change directory"
   ]
  },
  {
   "cell_type": "markdown",
   "id": "33ac95d9",
   "metadata": {},
   "source": [
    "### 2.8 Extracting Info"
   ]
  },
  {
   "cell_type": "code",
   "execution_count": 40,
   "id": "8aba565f",
   "metadata": {},
   "outputs": [
    {
     "name": "stdout",
     "output_type": "stream",
     "text": [
      "sp2273_logo.png png\n"
     ]
    }
   ],
   "source": [
    "path = 'people/Ringo/imgs/sp2273_logo.png'\n",
    "filename = path.split(os.path.sep)[-1]\n",
    "extension = filename.split('.')[-1]\n",
    "print(filename, extension)"
   ]
  },
  {
   "cell_type": "code",
   "execution_count": 41,
   "id": "64375ce3",
   "metadata": {},
   "outputs": [],
   "source": [
    "path = 'people/Ringo/imgs/sp2273_logo.png'"
   ]
  },
  {
   "cell_type": "code",
   "execution_count": 42,
   "id": "67cdfeda",
   "metadata": {},
   "outputs": [
    {
     "data": {
      "text/plain": [
       "('people/Ringo/imgs', 'sp2273_logo.png')"
      ]
     },
     "execution_count": 42,
     "metadata": {},
     "output_type": "execute_result"
    }
   ],
   "source": [
    "os.path.split(path)\n",
    "# Split filename from the rest"
   ]
  },
  {
   "cell_type": "code",
   "execution_count": 43,
   "id": "3f55ca17",
   "metadata": {},
   "outputs": [
    {
     "data": {
      "text/plain": [
       "('people/Ringo/imgs/sp2273_logo', '.png')"
      ]
     },
     "execution_count": 43,
     "metadata": {},
     "output_type": "execute_result"
    }
   ],
   "source": [
    "os.path.splitext(path)\n",
    "# Split extension"
   ]
  },
  {
   "cell_type": "code",
   "execution_count": 44,
   "id": "750ffd55",
   "metadata": {},
   "outputs": [
    {
     "data": {
      "text/plain": [
       "'people/Ringo/imgs'"
      ]
     },
     "execution_count": 44,
     "metadata": {},
     "output_type": "execute_result"
    }
   ],
   "source": [
    "os.path.dirname(path)\n",
    "# Show the directory"
   ]
  },
  {
   "cell_type": "markdown",
   "id": "b58bc098",
   "metadata": {},
   "source": [
    "### 2.9 Deleting stuff"
   ]
  },
  {
   "cell_type": "code",
   "execution_count": 88,
   "id": "7b05e9fa",
   "metadata": {},
   "outputs": [
    {
     "data": {
      "text/plain": [
       "'/Users/derinthefuture/Documents/GitHub/learning-portfolio-wtz2273/files, folders and os'"
      ]
     },
     "execution_count": 88,
     "metadata": {},
     "output_type": "execute_result"
    }
   ],
   "source": [
    "os.getcwd()"
   ]
  },
  {
   "cell_type": "code",
   "execution_count": 87,
   "id": "729c2d81",
   "metadata": {},
   "outputs": [],
   "source": [
    "os.chdir('..')"
   ]
  },
  {
   "cell_type": "code",
   "execution_count": 84,
   "id": "a8f53228",
   "metadata": {},
   "outputs": [],
   "source": [
    "os.remove('sp2273_logo.png')\n",
    "#empty directory\n",
    "#can only delet file inside current directories\n",
    "#after delecting the file, \n",
    "#when i try to delet again, error is reported"
   ]
  },
  {
   "cell_type": "code",
   "execution_count": 93,
   "id": "525b88a4",
   "metadata": {},
   "outputs": [
    {
     "ename": "FileNotFoundError",
     "evalue": "[Errno 2] No such file or directory: 'people/Ringo'",
     "output_type": "error",
     "traceback": [
      "\u001b[0;31m---------------------------------------------------------------------------\u001b[0m",
      "\u001b[0;31mFileNotFoundError\u001b[0m                         Traceback (most recent call last)",
      "Cell \u001b[0;32mIn[93], line 1\u001b[0m\n\u001b[0;32m----> 1\u001b[0m \u001b[43mos\u001b[49m\u001b[38;5;241;43m.\u001b[39;49m\u001b[43mrmdir\u001b[49m\u001b[43m(\u001b[49m\u001b[38;5;124;43m'\u001b[39;49m\u001b[38;5;124;43mpeople/Ringo\u001b[39;49m\u001b[38;5;124;43m'\u001b[39;49m\u001b[43m)\u001b[49m\n",
      "\u001b[0;31mFileNotFoundError\u001b[0m: [Errno 2] No such file or directory: 'people/Ringo'"
     ]
    }
   ],
   "source": [
    "os.rmdir('people/Ringo')"
   ]
  },
  {
   "cell_type": "code",
   "execution_count": 16,
   "id": "bc0aaf38",
   "metadata": {},
   "outputs": [],
   "source": [
    "#I accidentally did it twice. "
   ]
  },
  {
   "cell_type": "code",
   "execution_count": 92,
   "id": "601fbd18",
   "metadata": {},
   "outputs": [],
   "source": [
    "shutil.rmtree('people/Ringo')"
   ]
  },
  {
   "cell_type": "markdown",
   "id": "7dd5e8a6",
   "metadata": {},
   "source": [
    "## Exercise 7 :  The OS is my oyster"
   ]
  },
  {
   "cell_type": "code",
   "execution_count": 4,
   "id": "6e06a7b8",
   "metadata": {},
   "outputs": [
    {
     "data": {
      "text/plain": [
       "'/Users/derinthefuture/Documents/GitHub/learning-portfolio-wtz2273/files, folders and os'"
      ]
     },
     "execution_count": 4,
     "metadata": {},
     "output_type": "execute_result"
    }
   ],
   "source": [
    "os.getcwd()"
   ]
  },
  {
   "cell_type": "code",
   "execution_count": 9,
   "id": "63ef65fd",
   "metadata": {},
   "outputs": [
    {
     "ename": "FileExistsError",
     "evalue": "[Errno 17] File exists: 'python_today'",
     "output_type": "error",
     "traceback": [
      "\u001b[0;31m---------------------------------------------------------------------------\u001b[0m",
      "\u001b[0;31mFileExistsError\u001b[0m                           Traceback (most recent call last)",
      "Cell \u001b[0;32mIn[9], line 1\u001b[0m\n\u001b[0;32m----> 1\u001b[0m \u001b[43mos\u001b[49m\u001b[38;5;241;43m.\u001b[39;49m\u001b[43mmkdir\u001b[49m\u001b[43m(\u001b[49m\u001b[38;5;124;43m'\u001b[39;49m\u001b[38;5;124;43mpython_today\u001b[39;49m\u001b[38;5;124;43m'\u001b[39;49m\u001b[43m)\u001b[49m\n\u001b[1;32m      2\u001b[0m os\u001b[38;5;241m.\u001b[39mchdir(\u001b[38;5;124m'\u001b[39m\u001b[38;5;124mpython_today\u001b[39m\u001b[38;5;124m'\u001b[39m)\n",
      "\u001b[0;31mFileExistsError\u001b[0m: [Errno 17] File exists: 'python_today'"
     ]
    }
   ],
   "source": [
    "os.mkdir('python_today')\n",
    "os.chdir('python_today')\n",
    "#accidentally pressed twice"
   ]
  },
  {
   "cell_type": "code",
   "execution_count": 10,
   "id": "510f6283",
   "metadata": {},
   "outputs": [
    {
     "data": {
      "text/plain": [
       "'/Users/derinthefuture/Documents/GitHub/learning-portfolio-wtz2273/files, folders and os/python_today'"
      ]
     },
     "execution_count": 10,
     "metadata": {},
     "output_type": "execute_result"
    }
   ],
   "source": [
    "os.getcwd()"
   ]
  },
  {
   "cell_type": "code",
   "execution_count": 15,
   "id": "5c65b96b",
   "metadata": {},
   "outputs": [
    {
     "name": "stdout",
     "output_type": "stream",
     "text": [
      "['new_directory_01', 'new_directory_02', 'new_directory_03', 'new_directory_04', 'new_directory_05', 'new_directory_06', 'new_directory_07', 'new_directory_08', 'new_directory_09', 'new_directory_10', 'new_directory_11', 'new_directory_12', 'new_directory_13', 'new_directory_14', 'new_directory_15', 'new_directory_16', 'new_directory_17', 'new_directory_18', 'new_directory_19', 'new_directory_20', 'new_directory_21', 'new_directory_22', 'new_directory_23', 'new_directory_24', 'new_directory_25', 'new_directory_26', 'new_directory_27', 'new_directory_28', 'new_directory_29', 'new_directory_30', 'new_directory_31', 'new_directory_32', 'new_directory_33', 'new_directory_34', 'new_directory_35', 'new_directory_36', 'new_directory_37', 'new_directory_38', 'new_directory_39', 'new_directory_40', 'new_directory_41', 'new_directory_42', 'new_directory_43', 'new_directory_44', 'new_directory_45', 'new_directory_46', 'new_directory_47', 'new_directory_48', 'new_directory_49', 'new_directory_50']\n"
     ]
    }
   ],
   "source": [
    "list_1=[]\n",
    "for i in range (1,51):\n",
    "    if i<10:\n",
    "        list_1+= [\"new_directory_0\"+str(i)]\n",
    "    else:\n",
    "        list_1+= [\"new_directory_\"+str(i)]\n",
    "        \n",
    "print (list_1)"
   ]
  },
  {
   "cell_type": "code",
   "execution_count": 17,
   "id": "b0b9b358",
   "metadata": {},
   "outputs": [
    {
     "name": "stdout",
     "output_type": "stream",
     "text": [
      "Creating python_today/new_directory_01\n",
      "Creating python_today/new_directory_02\n",
      "Creating python_today/new_directory_03\n",
      "Creating python_today/new_directory_04\n",
      "Creating python_today/new_directory_05\n",
      "Creating python_today/new_directory_06\n",
      "Creating python_today/new_directory_07\n",
      "Creating python_today/new_directory_08\n",
      "Creating python_today/new_directory_09\n",
      "Creating python_today/new_directory_10\n",
      "Creating python_today/new_directory_11\n",
      "Creating python_today/new_directory_12\n",
      "Creating python_today/new_directory_13\n",
      "Creating python_today/new_directory_14\n",
      "Creating python_today/new_directory_15\n",
      "Creating python_today/new_directory_16\n",
      "Creating python_today/new_directory_17\n",
      "Creating python_today/new_directory_18\n",
      "Creating python_today/new_directory_19\n",
      "Creating python_today/new_directory_20\n",
      "Creating python_today/new_directory_21\n",
      "Creating python_today/new_directory_22\n",
      "Creating python_today/new_directory_23\n",
      "Creating python_today/new_directory_24\n",
      "Creating python_today/new_directory_25\n",
      "Creating python_today/new_directory_26\n",
      "Creating python_today/new_directory_27\n",
      "Creating python_today/new_directory_28\n",
      "Creating python_today/new_directory_29\n",
      "Creating python_today/new_directory_30\n",
      "Creating python_today/new_directory_31\n",
      "Creating python_today/new_directory_32\n",
      "Creating python_today/new_directory_33\n",
      "Creating python_today/new_directory_34\n",
      "Creating python_today/new_directory_35\n",
      "Creating python_today/new_directory_36\n",
      "Creating python_today/new_directory_37\n",
      "Creating python_today/new_directory_38\n",
      "Creating python_today/new_directory_39\n",
      "Creating python_today/new_directory_40\n",
      "Creating python_today/new_directory_41\n",
      "Creating python_today/new_directory_42\n",
      "Creating python_today/new_directory_43\n",
      "Creating python_today/new_directory_44\n",
      "Creating python_today/new_directory_45\n",
      "Creating python_today/new_directory_46\n",
      "Creating python_today/new_directory_47\n",
      "Creating python_today/new_directory_48\n",
      "Creating python_today/new_directory_49\n",
      "Creating python_today/new_directory_50\n"
     ]
    }
   ],
   "source": [
    "for nd in list_1:\n",
    "    path = os.path.join('python_today', nd)\n",
    "    print(f'Creating {path}')\n",
    "    os.mkdir(path)"
   ]
  },
  {
   "cell_type": "code",
   "execution_count": 23,
   "id": "f5541751",
   "metadata": {},
   "outputs": [
    {
     "name": "stdout",
     "output_type": "stream",
     "text": [
      "['new_directory_01', 'new_directory_03', 'new_directory_05', 'new_directory_07', 'new_directory_09', 'new_directory_11', 'new_directory_13', 'new_directory_15', 'new_directory_17', 'new_directory_19', 'new_directory_21', 'new_directory_23', 'new_directory_25', 'new_directory_27', 'new_directory_29', 'new_directory_31', 'new_directory_33', 'new_directory_35', 'new_directory_37', 'new_directory_39', 'new_directory_41', 'new_directory_43', 'new_directory_45', 'new_directory_47', 'new_directory_49']\n"
     ]
    }
   ],
   "source": [
    "list_2=[]\n",
    "for i in range (1,51,2):\n",
    "    if i<10:\n",
    "        list_2+= [\"new_directory_0\"+str(i)]\n",
    "    else:\n",
    "        list_2+= [\"new_directory_\"+str(i)]\n",
    "        \n",
    "print (list_2)"
   ]
  },
  {
   "cell_type": "code",
   "execution_count": 45,
   "id": "26111dcb",
   "metadata": {},
   "outputs": [],
   "source": [
    "os.chdir('./python_today')"
   ]
  },
  {
   "cell_type": "code",
   "execution_count": 46,
   "id": "cae23471",
   "metadata": {},
   "outputs": [
    {
     "data": {
      "text/plain": [
       "'/Users/derinthefuture/Documents/GitHub/learning-portfolio-wtz2273/files, folders and os/python_today/python_today'"
      ]
     },
     "execution_count": 46,
     "metadata": {},
     "output_type": "execute_result"
    }
   ],
   "source": [
    "os.getcwd()"
   ]
  },
  {
   "cell_type": "code",
   "execution_count": 48,
   "id": "14fd0555",
   "metadata": {},
   "outputs": [
    {
     "ename": "FileNotFoundError",
     "evalue": "[Errno 2] No such file or directory: 'new_directory_01'",
     "output_type": "error",
     "traceback": [
      "\u001b[0;31m---------------------------------------------------------------------------\u001b[0m",
      "\u001b[0;31mFileNotFoundError\u001b[0m                         Traceback (most recent call last)",
      "Cell \u001b[0;32mIn[48], line 3\u001b[0m\n\u001b[1;32m      1\u001b[0m \u001b[38;5;28;01mfor\u001b[39;00m dl \u001b[38;5;129;01min\u001b[39;00m list_2:\n\u001b[1;32m      2\u001b[0m     path \u001b[38;5;241m=\u001b[39m os\u001b[38;5;241m.\u001b[39mpath\u001b[38;5;241m.\u001b[39mjoin(\u001b[38;5;124m'\u001b[39m\u001b[38;5;124mpython_today\u001b[39m\u001b[38;5;124m'\u001b[39m, dl)\n\u001b[0;32m----> 3\u001b[0m     \u001b[43mos\u001b[49m\u001b[38;5;241;43m.\u001b[39;49m\u001b[43mrmdir\u001b[49m\u001b[43m(\u001b[49m\u001b[43mdl\u001b[49m\u001b[43m)\u001b[49m\n",
      "\u001b[0;31mFileNotFoundError\u001b[0m: [Errno 2] No such file or directory: 'new_directory_01'"
     ]
    }
   ],
   "source": [
    "for dl in list_2:\n",
    "    path = os.path.join('python_today', dl)\n",
    "    os.rmdir(dl)\n",
    "#deleted already, but i accidentally run it twice"
   ]
  },
  {
   "cell_type": "code",
   "execution_count": 50,
   "id": "697ecc8f",
   "metadata": {},
   "outputs": [],
   "source": [
    "os.chdir('..')"
   ]
  },
  {
   "cell_type": "code",
   "execution_count": 51,
   "id": "32a9bdba",
   "metadata": {},
   "outputs": [
    {
     "data": {
      "text/plain": [
       "['new_directory_44',\n",
       " 'new_directory_10',\n",
       " 'new_directory_28',\n",
       " 'new_directory_26',\n",
       " 'new_directory_42',\n",
       " 'new_directory_18',\n",
       " 'new_directory_20',\n",
       " 'new_directory_16',\n",
       " 'new_directory_34',\n",
       " 'new_directory_02',\n",
       " 'new_directory_04',\n",
       " 'new_directory_32',\n",
       " 'new_directory_50',\n",
       " 'new_directory_14',\n",
       " 'new_directory_22',\n",
       " 'new_directory_40',\n",
       " 'new_directory_24',\n",
       " 'new_directory_12',\n",
       " 'new_directory_46',\n",
       " 'new_directory_48',\n",
       " 'new_directory_08',\n",
       " 'new_directory_30',\n",
       " 'new_directory_06',\n",
       " 'new_directory_38',\n",
       " 'new_directory_36']"
      ]
     },
     "execution_count": 51,
     "metadata": {},
     "output_type": "execute_result"
    }
   ],
   "source": [
    "os.listdir('python_today')"
   ]
  },
  {
   "cell_type": "code",
   "execution_count": 53,
   "id": "ca2eb4de",
   "metadata": {},
   "outputs": [
    {
     "name": "stdout",
     "output_type": "stream",
     "text": [
      "new_directory_05\n",
      "new_directory_10\n",
      "new_directory_15\n",
      "new_directory_20\n",
      "new_directory_25\n",
      "new_directory_30\n",
      "new_directory_35\n",
      "new_directory_40\n",
      "new_directory_45\n",
      "new_directory_50\n"
     ]
    }
   ],
   "source": [
    "for h in list_1[4:50:5]:\n",
    "    hh = str(h)\n",
    "    print(hh)"
   ]
  },
  {
   "cell_type": "code",
   "execution_count": 67,
   "id": "9bd89bc4",
   "metadata": {},
   "outputs": [
    {
     "data": {
      "text/plain": [
       "'/Users/derinthefuture/Documents/GitHub/learning-portfolio-wtz2273/files, folders and os/python_today/python_today'"
      ]
     },
     "execution_count": 67,
     "metadata": {},
     "output_type": "execute_result"
    }
   ],
   "source": [
    "os.getcwd()"
   ]
  },
  {
   "cell_type": "code",
   "execution_count": 62,
   "id": "937195b8",
   "metadata": {},
   "outputs": [],
   "source": [
    "os.chdir('./python_today')"
   ]
  },
  {
   "cell_type": "code",
   "execution_count": 65,
   "id": "3434f2de",
   "metadata": {},
   "outputs": [],
   "source": [
    "for h in list_1[4:50:5]:\n",
    "    if os.path.exists(str(h)):\n",
    "        hh = str(h)\n",
    "        os.rename(hh,'haha_'+hh.split('_')[-1])"
   ]
  },
  {
   "cell_type": "code",
   "execution_count": 68,
   "id": "b52a8477",
   "metadata": {},
   "outputs": [],
   "source": [
    "os.chdir('..')"
   ]
  },
  {
   "cell_type": "code",
   "execution_count": 69,
   "id": "984f309b",
   "metadata": {},
   "outputs": [
    {
     "data": {
      "text/plain": [
       "['new_directory_44',\n",
       " 'new_directory_28',\n",
       " 'haha_10',\n",
       " 'new_directory_26',\n",
       " 'new_directory_42',\n",
       " 'new_directory_18',\n",
       " 'new_directory_16',\n",
       " 'haha_20',\n",
       " 'new_directory_34',\n",
       " 'new_directory_02',\n",
       " 'new_directory_04',\n",
       " 'new_directory_32',\n",
       " 'haha_50',\n",
       " 'new_directory_14',\n",
       " 'new_directory_22',\n",
       " 'haha_40',\n",
       " 'new_directory_24',\n",
       " 'new_directory_12',\n",
       " 'new_directory_46',\n",
       " 'new_directory_48',\n",
       " 'new_directory_08',\n",
       " 'new_directory_06',\n",
       " 'haha_30',\n",
       " 'new_directory_38',\n",
       " 'new_directory_36']"
      ]
     },
     "execution_count": 69,
     "metadata": {},
     "output_type": "execute_result"
    }
   ],
   "source": [
    "os.listdir('python_today')"
   ]
  },
  {
   "cell_type": "code",
   "execution_count": 82,
   "id": "a83f7998",
   "metadata": {},
   "outputs": [],
   "source": [
    "os.chdir('./files, folders and os')"
   ]
  },
  {
   "cell_type": "code",
   "execution_count": 83,
   "id": "a7cebf8f",
   "metadata": {},
   "outputs": [
    {
     "data": {
      "text/plain": [
       "'/Users/derinthefuture/Documents/GitHub/learning-portfolio-wtz2273/files, folders and os'"
      ]
     },
     "execution_count": 83,
     "metadata": {},
     "output_type": "execute_result"
    }
   ],
   "source": [
    "os.getcwd()"
   ]
  },
  {
   "cell_type": "code",
   "execution_count": 84,
   "id": "d554391b",
   "metadata": {},
   "outputs": [
    {
     "data": {
      "text/plain": [
       "['python_today/python_today']"
      ]
     },
     "execution_count": 84,
     "metadata": {},
     "output_type": "execute_result"
    }
   ],
   "source": [
    "glob.glob('pyt*/*')"
   ]
  },
  {
   "cell_type": "code",
   "execution_count": 1,
   "id": "aef6306b",
   "metadata": {},
   "outputs": [],
   "source": [
    "import os\n",
    "import glob\n",
    "import shutil"
   ]
  },
  {
   "cell_type": "code",
   "execution_count": 2,
   "id": "2abf5c4a",
   "metadata": {},
   "outputs": [
    {
     "data": {
      "text/plain": [
       "'/Users/derinthefuture/Documents/GitHub/learning-portfolio-wtz2273/files, folders and os'"
      ]
     },
     "execution_count": 2,
     "metadata": {},
     "output_type": "execute_result"
    }
   ],
   "source": [
    "os.getcwd()"
   ]
  },
  {
   "cell_type": "code",
   "execution_count": 16,
   "id": "28a0c2fb",
   "metadata": {},
   "outputs": [],
   "source": [
    "os.chdir('./python_today')"
   ]
  },
  {
   "cell_type": "code",
   "execution_count": 17,
   "id": "cf1594df",
   "metadata": {},
   "outputs": [
    {
     "data": {
      "text/plain": [
       "'/Users/derinthefuture/Documents/GitHub/learning-portfolio-wtz2273/files, folders and os/python_today'"
      ]
     },
     "execution_count": 17,
     "metadata": {},
     "output_type": "execute_result"
    }
   ],
   "source": [
    "os.getcwd()"
   ]
  },
  {
   "cell_type": "code",
   "execution_count": 6,
   "id": "3ae7423b",
   "metadata": {},
   "outputs": [
    {
     "name": "stdout",
     "output_type": "stream",
     "text": [
      "['haha_10', 'haha_20', 'haha_50', 'haha_40', 'haha_30']\n"
     ]
    }
   ],
   "source": [
    "haha_list=glob.glob('haha*')\n",
    "print (haha_list)"
   ]
  },
  {
   "cell_type": "code",
   "execution_count": 11,
   "id": "ea639284",
   "metadata": {},
   "outputs": [],
   "source": [
    "os.chdir('..')"
   ]
  },
  {
   "cell_type": "code",
   "execution_count": 12,
   "id": "58b7c569",
   "metadata": {},
   "outputs": [
    {
     "data": {
      "text/plain": [
       "'/Users/derinthefuture/Documents/GitHub/learning-portfolio-wtz2273/files, folders and os'"
      ]
     },
     "execution_count": 12,
     "metadata": {},
     "output_type": "execute_result"
    }
   ],
   "source": [
    "os.getcwd()"
   ]
  },
  {
   "cell_type": "code",
   "execution_count": 15,
   "id": "fa394406",
   "metadata": {},
   "outputs": [],
   "source": [
    "for hh in haha_list:\n",
    "    hhh = os.path.join('python_today',hh)\n",
    "    shutil.copy('sp2273_logo.png',hhh)"
   ]
  },
  {
   "cell_type": "code",
   "execution_count": 20,
   "id": "e323bd34",
   "metadata": {},
   "outputs": [
    {
     "data": {
      "text/plain": [
       "'/Users/derinthefuture/Documents/GitHub/learning-portfolio-wtz2273/files, folders and os/python_today'"
      ]
     },
     "execution_count": 20,
     "metadata": {},
     "output_type": "execute_result"
    }
   ],
   "source": [
    "os.getcwd()"
   ]
  },
  {
   "cell_type": "code",
   "execution_count": 21,
   "id": "80d3c330",
   "metadata": {},
   "outputs": [
    {
     "data": {
      "text/plain": [
       "['haha_10/sp2273_logo.png',\n",
       " 'haha_20/sp2273_logo.png',\n",
       " 'haha_50/sp2273_logo.png',\n",
       " 'haha_40/sp2273_logo.png',\n",
       " 'haha_30/sp2273_logo.png']"
      ]
     },
     "execution_count": 21,
     "metadata": {},
     "output_type": "execute_result"
    }
   ],
   "source": [
    "glob.glob('haha_**/*.png',recursive = True)"
   ]
  },
  {
   "cell_type": "code",
   "execution_count": null,
   "id": "cea2c7a4",
   "metadata": {},
   "outputs": [],
   "source": []
  },
  {
   "cell_type": "markdown",
   "id": "61a0d8e0",
   "metadata": {},
   "source": [
    "## Exercise 8 :  Tidying a collaboration"
   ]
  },
  {
   "cell_type": "code",
   "execution_count": 44,
   "id": "28310be4",
   "metadata": {},
   "outputs": [],
   "source": [
    "months = {'jan': '01', 'feb': '02', 'mar': '03',\n",
    "'apr': '04', 'may': '05', 'jun': '06',\n",
    "'jul': '07', 'aug': '08', 'sep': '09',\n",
    "'oct': '10', 'nov': '11', 'dec': '12'\n",
    "         }"
   ]
  },
  {
   "cell_type": "code",
   "execution_count": 45,
   "id": "94840227",
   "metadata": {},
   "outputs": [],
   "source": [
    "month_split = 'oct-08_singapore.txt'.split('-')"
   ]
  },
  {
   "cell_type": "code",
   "execution_count": 46,
   "id": "94b8cd87",
   "metadata": {},
   "outputs": [
    {
     "data": {
      "text/plain": [
       "'10-08_singapore.txt'"
      ]
     },
     "execution_count": 46,
     "metadata": {},
     "output_type": "execute_result"
    }
   ],
   "source": [
    "months[month_split[0]]+'-'+month_split[1]"
   ]
  },
  {
   "cell_type": "code",
   "execution_count": 47,
   "id": "fc97986b",
   "metadata": {},
   "outputs": [],
   "source": [
    "def rename_my_file(text):\n",
    "    month_split = f'{text}'.split('-')\n",
    "    return months[month_split[0]]+ '-' +month_split[1]"
   ]
  },
  {
   "cell_type": "code",
   "execution_count": 48,
   "id": "8052fb7a",
   "metadata": {},
   "outputs": [
    {
     "name": "stdout",
     "output_type": "stream",
     "text": [
      "10-08_singapore.txt\n",
      "07-10_cairo.txt\n",
      "05-15_dhaka.txt\n",
      "05-13_cairo.txt\n",
      "10-21_cairo.txt\n",
      "01-10_singapore.txt\n",
      "06-20_tokyo.txt\n",
      "08-06_jakarta.txt\n",
      "12-21_karachi.txt\n",
      "01-01_tokyo.txt\n"
     ]
    }
   ],
   "source": [
    "month_list=['oct-08_singapore.txt','jul-10_cairo.txt', 'may-15_dhaka.txt',\n",
    " 'may-13_cairo.txt', 'oct-21_cairo.txt', 'jan-10_singapore.txt',\n",
    " 'jun-20_tokyo.txt', 'aug-06_jakarta.txt', 'dec-21_karachi.txt',\n",
    " 'jan-01_tokyo.txt']\n",
    "\n",
    "for mh in month_list:\n",
    "    mh1 = rename_my_file(mh)\n",
    "    print (mh1)"
   ]
  },
  {
   "cell_type": "code",
   "execution_count": 49,
   "id": "bf7d9923",
   "metadata": {},
   "outputs": [
    {
     "data": {
      "text/plain": [
       "'/Users/derinthefuture/Documents/GitHub/learning-portfolio-wtz2273/files, folders and os/os-collaboration-exercise-data'"
      ]
     },
     "execution_count": 49,
     "metadata": {},
     "output_type": "execute_result"
    }
   ],
   "source": [
    "os.getcwd()"
   ]
  },
  {
   "cell_type": "code",
   "execution_count": 43,
   "id": "749b5d1f",
   "metadata": {},
   "outputs": [],
   "source": [
    "os.chdir('os-collaboration-exercise-data')"
   ]
  },
  {
   "cell_type": "code",
   "execution_count": 56,
   "id": "430e8f34",
   "metadata": {},
   "outputs": [],
   "source": [
    "txt_r=glob.glob('*.txt', recursive=True)\n",
    "\n",
    "for name in txt_r:\n",
    "    newname = rename_my_file(name)\n",
    "    os.rename(str(name),str(rename_my_file(name)))"
   ]
  },
  {
   "cell_type": "code",
   "execution_count": 57,
   "id": "bdce8c51",
   "metadata": {},
   "outputs": [],
   "source": [
    "cities=['Cairo', 'Dhaka', 'Jakarta', 'Karachi', 'Manila',\n",
    " 'Melbourne', 'Osaka', 'Shanghai', 'Singapore', 'Tokyo']"
   ]
  },
  {
   "cell_type": "code",
   "execution_count": 58,
   "id": "f007886f",
   "metadata": {},
   "outputs": [
    {
     "data": {
      "text/plain": [
       "'/Users/derinthefuture/Documents/GitHub/learning-portfolio-wtz2273/files, folders and os/os-collaboration-exercise-data'"
      ]
     },
     "execution_count": 58,
     "metadata": {},
     "output_type": "execute_result"
    }
   ],
   "source": [
    "os.getcwd()"
   ]
  },
  {
   "cell_type": "code",
   "execution_count": 59,
   "id": "42c2b3e4",
   "metadata": {},
   "outputs": [],
   "source": [
    "for city in cities:\n",
    "    os.mkdir(city)\n",
    "\n",
    "#create folders"
   ]
  },
  {
   "cell_type": "code",
   "execution_count": 74,
   "id": "59e7be85",
   "metadata": {},
   "outputs": [],
   "source": [
    "cairo_files = glob.glob('*cairo*')"
   ]
  },
  {
   "cell_type": "code",
   "execution_count": 65,
   "id": "48feb9ec",
   "metadata": {},
   "outputs": [],
   "source": [
    "for ca_fl in cairo_files:\n",
    "    shutil.copy(ca_fl,'Cairo')\n",
    "    \n",
    "#move cairo files"
   ]
  },
  {
   "cell_type": "code",
   "execution_count": 13,
   "id": "db25f66c",
   "metadata": {},
   "outputs": [
    {
     "data": {
      "text/plain": [
       "'/Users/derinthefuture/Documents/GitHub/learning-portfolio-wtz2273/files, folders and os/os-collaboration-exercise-data'"
      ]
     },
     "execution_count": 13,
     "metadata": {},
     "output_type": "execute_result"
    }
   ],
   "source": [
    "import os\n",
    "import glob\n",
    "\n",
    "# os.chdir('os-collaboration-exercise-data')\n",
    "os.getcwd()"
   ]
  },
  {
   "cell_type": "code",
   "execution_count": 19,
   "id": "d6ff6fdf",
   "metadata": {},
   "outputs": [
    {
     "name": "stdout",
     "output_type": "stream",
     "text": [
      "['dhaka', 'jakarta', 'karachi', 'manila', 'melbourne', 'osaka', 'shanghai', 'singapore', 'tokyo']\n"
     ]
    },
    {
     "data": {
      "text/plain": [
       "list"
      ]
     },
     "execution_count": 19,
     "metadata": {},
     "output_type": "execute_result"
    }
   ],
   "source": [
    "city_Cnames = ['Dhaka', 'Jakarta', 'Karachi', 'Manila',\n",
    " 'Melbourne', 'Osaka', 'Shanghai', 'Singapore', 'Tokyo']\n",
    "city_nnames = []\n",
    "\n",
    "for city_name in city_Cnames:\n",
    "    city = str(city_name).lower()\n",
    "    city_nnames +=[city]\n",
    "print (city_nnames)\n",
    "type(city_nnames)"
   ]
  },
  {
   "cell_type": "code",
   "execution_count": 24,
   "id": "30875053",
   "metadata": {},
   "outputs": [
    {
     "name": "stdout",
     "output_type": "stream",
     "text": [
      "[['nov-18_dhaka.jpg', 'jun-23_dhaka.pdf', '06-09_dhaka.txt', '08-14_dhaka.txt', 'oct-27_dhaka.jpg', 'may-29_dhaka.jpg', 'jul-13_dhaka.pdf', '06-28_dhaka.txt', '11-18_dhaka.txt', 'aug-26_dhaka.jpg', 'nov-01_dhaka.pdf', 'oct-12_dhaka.png', 'may-05_dhaka.pdf', '11-20_dhaka.txt', 'nov-15_dhaka.png', 'may-11_dhaka.png', '07-16_dhaka.txt', 'nov-15_dhaka.jpg', 'dec-06_dhaka.jpg', 'jun-02_dhaka.jpg', '07-02_dhaka.txt', '06-04_dhaka.txt', '08-19_dhaka.txt', 'dec-27_dhaka.jpg', 'nov-18_dhaka.pdf', 'may-24_dhaka.jpg', '05-26_dhaka.txt', '12-16_dhaka.txt', '07-23_dhaka.txt', 'nov-20_dhaka.png', '04-20_dhaka.txt', '11-15_dhaka.txt', '06-25_dhaka.txt', '11-01_dhaka.txt', 'may-30_dhaka.png', '12-02_dhaka.txt', '10-07_dhaka.txt', '10-18_dhaka.txt', '07-28_dhaka.txt', 'jun-28_dhaka.png', 'may-17_dhaka.pdf', 'nov-07_dhaka.pdf', 'jun-04_dhaka.pdf', 'feb-01_dhaka.png', 'oct-14_dhaka.png', '12-09_dhaka.txt', '08-27_dhaka.txt', 'jan-15_dhaka.jpg', 'dec-21_dhaka.pdf', 'jun-25_dhaka.pdf', 'feb-20_dhaka.jpg', 'jul-18_dhaka.png', '12-28_dhaka.txt', '08-06_dhaka.txt', 'dec-19_dhaka.png', '07-09_dhaka.txt', 'jun-09_dhaka.png', '06-23_dhaka.txt', 'dec-21_dhaka.png', '02-20_dhaka.txt', '11-07_dhaka.txt', 'mar-16_dhaka.pdf', '10-01_dhaka.txt', 'oct-21_dhaka.pdf', '12-04_dhaka.txt', 'may-17_dhaka.jpg', 'aug-18_dhaka.png', 'aug-20_dhaka.pdf', '07-10_dhaka.txt', '05-15_dhaka.txt', 'jul-15_dhaka.png', 'jul-01_dhaka.png', '05-01_dhaka.txt', '09-19_dhaka.txt', 'sep-29_dhaka.jpg', '06-02_dhaka.txt', '02-01_dhaka.txt', '04-19_dhaka.txt', 'jun-22_dhaka.pdf', '08-20_dhaka.txt', 'jul-06_dhaka.pdf', 'may-04_dhaka.pdf', 'jun-17_dhaka.pdf', 'aug-27_dhaka.png', 'may-28_dhaka.png', 'jul-06_dhaka.png', '08-18_dhaka.txt', '06-05_dhaka.txt', '06-11_dhaka.txt', '10-27_dhaka.txt', 'oct-07_dhaka.pdf', 'may-10_dhaka.png', 'jun-17_dhaka.png', 'jul-12_dhaka.png', 'feb-12_dhaka.pdf', '02-12_dhaka.txt', 'nov-14_dhaka.jpg', 'aug-06_dhaka.pdf', '12-03_dhaka.txt', '10-12_dhaka.txt', '05-27_dhaka.txt', '12-17_dhaka.txt', '11-14_dhaka.txt', '06-24_dhaka.txt', 'jun-05_dhaka.pdf', '08-26_dhaka.txt', 'oct-01_dhaka.jpg', 'feb-14_dhaka.png', 'jun-11_dhaka.pdf', '07-08_dhaka.txt', 'oct-18_dhaka.pdf', 'sep-25_dhaka.png', '12-29_dhaka.txt', 'dec-18_dhaka.png', '11-06_dhaka.txt', 'oct-18_dhaka.jpg', '07-30_dhaka.txt', '12-11_dhaka.txt', '07-24_dhaka.txt', '05-21_dhaka.txt', '10-14_dhaka.txt', 'aug-14_dhaka.pdf', '06-22_dhaka.txt', 'nov-27_dhaka.jpg', 'dec-20_dhaka.jpg', 'jun-24_dhaka.jpg', '07-05_dhaka.txt', '12-30_dhaka.txt', 'may-02_dhaka.png', 'nov-06_dhaka.jpg', 'may-02_dhaka.jpg', '02-14_dhaka.txt', '06-17_dhaka.txt', 'aug-19_dhaka.jpg', '11-27_dhaka.txt', 'apr-23_dhaka.pdf', '07-11_dhaka.txt', '12-24_dhaka.txt', '10-21_dhaka.txt', '05-14_dhaka.txt', 'dec-28_dhaka.jpg', 'jul-11_dhaka.pdf', 'oct-04_dhaka.png', '05-29_dhaka.txt', '12-19_dhaka.txt', 'aug-08_dhaka.pdf', '08-23_dhaka.txt', '09-25_dhaka.txt', 'oct-10_dhaka.png', 'jul-05_dhaka.pdf', 'dec-04_dhaka.pdf', '08-02_dhaka.txt', '10-29_dhaka.txt', 'oct-09_dhaka.pdf', 'jun-19_dhaka.png', 'jun-21_dhaka.pdf', 'aug-05_dhaka.png', '02-08_dhaka.txt', 'dec-09_dhaka.jpg', 'jul-30_dhaka.pdf', 'jun-19_dhaka.pdf', 'jul-24_dhaka.jpg', 'may-26_dhaka.jpg', 'nov-22_dhaka.jpg', 'aug-11_dhaka.pdf', '06-27_dhaka.txt', '05-24_dhaka.txt', '10-11_dhaka.txt', 'may-26_dhaka.png', '05-30_dhaka.txt', '10-05_dhaka.txt', '11-03_dhaka.txt', 'feb-08_dhaka.png', 'jul-08_dhaka.pdf', '12-21_dhaka.txt', '10-24_dhaka.txt', 'oct-04_dhaka.pdf', '05-11_dhaka.txt', '06-12_dhaka.txt', '11-22_dhaka.txt', 'nov-03_dhaka.jpg', 'aug-30_dhaka.pdf', 'oct-10_dhaka.pdf', '10-30_dhaka.txt', '05-05_dhaka.txt', 'jul-05_dhaka.png', '06-19_dhaka.txt', '11-29_dhaka.txt', 'feb-22_dhaka.jpg', 'aug-03_dhaka.jpg', '08-10_dhaka.txt', 'aug-03_dhaka.png', 'nov-29_dhaka.png', 'nov-11_dhaka.pdf', 'dec-16_dhaka.pdf', 'aug-22_dhaka.png', 'apr-20_dhaka.png', 'jun-12_dhaka.pdf', 'may-01_dhaka.pdf', '11-08_dhaka.txt', '08-25_dhaka.txt', 'nov-11_dhaka.jpg', '05-17_dhaka.txt', 'oct-02_dhaka.pdf', '12-27_dhaka.txt', '07-12_dhaka.txt', 'may-15_dhaka.png', 'dec-16_dhaka.png', '11-24_dhaka.txt', '08-09_dhaka.txt', 'dec-02_dhaka.png', 'may-01_dhaka.png', '07-06_dhaka.txt', '11-11_dhaka.txt', '06-21_dhaka.txt', 'nov-24_dhaka.png', 'jun-27_dhaka.jpg', '02-22_dhaka.txt', 'nov-08_dhaka.pdf', '12-06_dhaka.txt', 'aug-09_dhaka.pdf', '08-22_dhaka.txt', '10-09_dhaka.txt', 'oct-29_dhaka.pdf', 'oct-11_dhaka.png', 'nov-02_dhaka.pdf', 'nov-16_dhaka.pdf', 'jul-10_dhaka.pdf', 'oct-05_dhaka.jpg', '05-28_dhaka.txt', '12-18_dhaka.txt', 'jul-28_dhaka.png', 'dec-29_dhaka.png', 'aug-25_dhaka.jpg', 'dec-30_dhaka.pdf', 'oct-24_dhaka.png', 'jul-09_dhaka.jpg', 'aug-10_dhaka.jpg', '08-03_dhaka.txt', 'jun-18_dhaka.png', 'oct-30_dhaka.jpg', '07-18_dhaka.txt', 'dec-24_dhaka.pdf', '10-04_dhaka.txt', '09-29_dhaka.txt', '11-02_dhaka.txt', 'sep-19_dhaka.jpg', 'jun-18_dhaka.pdf', 'may-27_dhaka.jpg', 'aug-10_dhaka.pdf', '06-26_dhaka.txt', '11-16_dhaka.txt', '04-23_dhaka.txt', 'jun-20_dhaka.png', 'oct-30_dhaka.pdf', '10-10_dhaka.txt', 'oct-29_dhaka.png', '02-04_dhaka.txt', 'nov-02_dhaka.jpg', '06-07_dhaka.txt', 'feb-04_dhaka.pdf', '05-04_dhaka.txt', '07-01_dhaka.txt', '12-20_dhaka.txt', '07-15_dhaka.txt', '05-10_dhaka.txt', 'dec-11_dhaka.png', 'jul-10_dhaka.jpg', '03-16_dhaka.txt', 'aug-02_dhaka.jpg', '08-11_dhaka.txt', '06-18_dhaka.txt', '08-05_dhaka.txt', '11-28_dhaka.txt', 'jul-02_dhaka.pdf', 'dec-03_dhaka.pdf', '08-30_dhaka.txt', 'dec-17_dhaka.pdf', 'nov-28_dhaka.jpg', 'may-14_dhaka.pdf', 'jul-16_dhaka.pdf', '05-02_dhaka.txt', 'jun-07_dhaka.jpg', 'nov-04_dhaka.jpg', 'apr-19_dhaka.png', '01-15_dhaka.txt', 'jul-16_dhaka.jpg', '07-13_dhaka.txt', 'aug-23_dhaka.pdf', '08-08_dhaka.txt', '10-02_dhaka.txt', '11-04_dhaka.txt', '06-20_dhaka.txt', 'jul-23_dhaka.png', 'may-21_dhaka.jpg', 'jun-26_dhaka.jpg'], ['apr-23_jakarta.pdf', 'jan-12_jakarta.pdf', '09-27_jakarta.txt', 'jul-12_jakarta.png', 'jul-12_jakarta.jpg', 'oct-23_jakarta.jpg', 'sep-21_jakarta.jpg', 'may-08_jakarta.png', '09-15_jakarta.txt', '02-21_jakarta.txt', '05-28_jakarta.txt', 'oct-04_jakarta.pdf', 'aug-26_jakarta.pdf', 'may-08_jakarta.jpg', 'dec-16_jakarta.png', 'sep-13_jakarta.jpg', 'feb-02_jakarta.png', '08-22_jakarta.txt', '10-06_jakarta.txt', 'dec-03_jakarta.png', 'jun-04_jakarta.jpg', '10-13_jakarta.txt', '05-13_jakarta.txt', '04-24_jakarta.txt', '06-15_jakarta.txt', 'may-01_jakarta.jpg', '08-05_jakarta.txt', 'apr-23_jakarta.png', 'jan-12_jakarta.jpg', '02-06_jakarta.txt', 'mar-20_jakarta.pdf', '04-16_jakarta.txt', 'oct-14_jakarta.pdf', '12-09_jakarta.txt', '07-09_jakarta.txt', 'sep-16_jakarta.pdf', '04-21_jakarta.txt', '09-05_jakarta.txt', '01-19_jakarta.txt', '06-10_jakarta.txt', '07-27_jakarta.txt', '12-27_jakarta.txt', '05-16_jakarta.txt', '10-16_jakarta.txt', 'sep-03_jakarta.png', '04-13_jakarta.txt', '06-22_jakarta.txt', 'nov-19_jakarta.jpg', 'aug-11_jakarta.jpg', 'mar-30_jakarta.jpg', '09-19_jakarta.txt', 'apr-26_jakarta.jpg', 'oct-08_jakarta.pdf', '12-15_jakarta.txt', '10-24_jakarta.txt', '01-10_jakarta.txt', '04-28_jakarta.txt', 'sep-24_jakarta.jpg', 'oct-26_jakarta.png', 'mar-25_jakarta.png', 'oct-08_jakarta.jpg', '04-06_jakarta.txt', 'feb-20_jakarta.pdf', 'jun-08_jakarta.png', 'apr-26_jakarta.pdf', 'sep-16_jakarta.png', 'oct-14_jakarta.png', '05-03_jakarta.txt', '10-03_jakarta.txt', 'jan-30_jakarta.png', 'jan-30_jakarta.jpg', 'mar-17_jakarta.jpg', 'sep-16_jakarta.jpg', 'jul-30_jakarta.pdf', '08-09_jakarta.txt', '02-27_jakarta.txt', '09-13_jakarta.txt', 'apr-02_jakarta.png', '02-09_jakarta.txt', 'oct-17_jakarta.png', 'sep-15_jakarta.jpg', '11-19_jakarta.txt', '06-28_jakarta.txt', 'feb-04_jakarta.png', '09-21_jakarta.txt', '02-15_jakarta.txt', 'aug-12_jakarta.pdf', '01-13_jakarta.txt', 'aug-07_jakarta.jpg', 'aug-07_jakarta.png', 'sep-27_jakarta.png', 'jun-25_jakarta.png', '12-03_jakarta.txt', 'jul-14_jakarta.png', '01-06_jakarta.txt', 'may-07_jakarta.jpg', '10-27_jakarta.txt', '07-16_jakarta.txt', '12-16_jakarta.txt', 'may-29_jakarta.png', '06-21_jakarta.txt', '10-09_jakarta.txt', 'jan-26_jakarta.png', 'aug-20_jakarta.png', '10-15_jakarta.txt', '05-15_jakarta.txt', '07-24_jakarta.txt', 'aug-20_jakarta.jpg', 'mar-23_jakarta.pdf', 'mar-18_jakarta.png', '08-28_jakarta.txt', '04-15_jakarta.txt', 'may-17_jakarta.pdf', '05-22_jakarta.txt', 'jul-04_jakarta.png', 'may-02_jakarta.jpg', 'aug-17_jakarta.png', 'feb-26_jakarta.png', '01-03_jakarta.txt', '09-03_jakarta.txt', 'oct-29_jakarta.jpg', 'may-25_jakarta.pdf', 'feb-14_jakarta.png', 'jan-23_jakarta.jpg', 'oct-07_jakarta.png', '10-10_jakarta.txt', '07-21_jakarta.txt', 'mar-11_jakarta.jpg', 'oct-12_jakarta.jpg', '03-15_jakarta.txt', 'dec-15_jakarta.png', 'jul-23_jakarta.jpg', '01-24_jakarta.txt', 'jul-18_jakarta.pdf', 'oct-12_jakarta.png', '05-05_jakarta.txt', '10-05_jakarta.txt', '08-21_jakarta.txt', 'oct-29_jakarta.pdf', 'dec-15_jakarta.jpg', '09-16_jakarta.txt', '06-03_jakarta.txt', 'mar-04_jakarta.pdf', 'sep-05_jakarta.pdf', '08-13_jakarta.txt', 'sep-19_jakarta.pdf', 'jan-04_jakarta.jpg', 'mar-23_jakarta.jpg', 'may-17_jakarta.png', 'aug-02_jakarta.jpg', '01-16_jakarta.txt', 'dec-27_jakarta.png', '07-28_jakarta.txt', 'apr-20_jakarta.pdf', 'dec-09_jakarta.jpg', '02-10_jakarta.txt', '09-24_jakarta.txt', '03-09_jakarta.txt', 'oct-15_jakarta.jpg', '01-23_jakarta.txt', 'feb-06_jakarta.jpg', '05-02_jakarta.txt', 'jun-15_jakarta.png', 'jul-24_jakarta.png', '08-26_jakarta.txt', '09-11_jakarta.txt', '06-04_jakarta.txt', 'apr-15_jakarta.pdf', 'jan-24_jakarta.pdf', 'aug-22_jakarta.pdf', 'dec-20_jakarta.jpg', 'jul-16_jakarta.png', '03-20_jakarta.txt', 'oct-27_jakarta.jpg', 'jan-03_jakarta.jpg', 'aug-05_jakarta.jpg', 'oct-09_jakarta.png', 'jan-16_jakarta.pdf', 'sep-25_jakarta.pdf', '02-02_jakarta.txt', 'dec-20_jakarta.pdf', 'feb-21_jakarta.jpg', 'jan-16_jakarta.png', 'may-05_jakarta.jpg', '05-25_jakarta.txt', '07-14_jakarta.txt', '01-04_jakarta.txt', '09-18_jakarta.txt', 'jan-16_jakarta.jpg', 'may-22_jakarta.pdf', 'dec-29_jakarta.png', 'dec-12_jakarta.pdf', '11-20_jakarta.txt', '04-20_jakarta.txt', 'jun-15_jakarta.pdf', 'jul-24_jakarta.pdf', 'apr-15_jakarta.png', '05-17_jakarta.txt', '10-17_jakarta.txt', '12-26_jakarta.txt', 'dec-07_jakarta.jpg', 'jan-13_jakarta.jpg', '03-30_jakarta.txt', 'dec-30_jakarta.png', '06-08_jakarta.txt', '12-11_jakarta.txt', 'jan-06_jakarta.pdf', 'sep-20_jakarta.pdf', '10-12_jakarta.txt', '12-23_jakarta.txt', '07-23_jakarta.txt', 'oct-05_jakarta.jpg', 'jun-10_jakarta.pdf', 'sep-12_jakarta.pdf', 'oct-10_jakarta.pdf', 'sep-29_jakarta.png', 'aug-09_jakarta.jpg', '07-18_jakarta.txt', '12-18_jakarta.txt', '05-29_jakarta.txt', '10-29_jakarta.txt', '02-20_jakarta.txt', '10-07_jakarta.txt', '05-07_jakarta.txt', '03-17_jakarta.txt', 'oct-10_jakarta.jpg', '01-26_jakarta.txt', 'jul-21_jakarta.jpg', '04-02_jakarta.txt', 'jan-06_jakarta.jpg', '03-25_jakarta.txt', 'jun-22_jakarta.jpg', 'jul-28_jakarta.pdf', '07-04_jakarta.txt', '12-04_jakarta.txt', '08-11_jakarta.txt', 'jan-06_jakarta.png', 'may-15_jakarta.jpg', 'may-16_jakarta.png', '08-12_jakarta.txt', '12-07_jakarta.txt', '09-25_jakarta.txt', '12-29_jakarta.txt', '08-20_jakarta.txt', '10-04_jakarta.txt', 'oct-13_jakarta.jpg', 'apr-13_jakarta.pdf', 'jan-19_jakarta.jpg', 'jun-28_jakarta.png', 'sep-11_jakarta.pdf', 'apr-06_jakarta.pdf', '04-26_jakarta.txt', 'jun-28_jakarta.jpg', 'feb-15_jakarta.jpg', '12-20_jakarta.txt', 'apr-28_jakarta.pdf', 'apr-13_jakarta.png', '01-30_jakarta.txt', 'oct-06_jakarta.jpg', 'feb-09_jakarta.png', 'dec-26_jakarta.pdf', 'sep-18_jakarta.jpg', '06-25_jakarta.txt', '02-04_jakarta.txt', 'jun-21_jakarta.pdf', 'feb-27_jakarta.png', 'may-03_jakarta.jpg', 'jan-10_jakarta.png', '08-07_jakarta.txt', '12-12_jakarta.txt', '07-12_jakarta.txt', 'apr-21_jakarta.png', '10-23_jakarta.txt', 'feb-10_jakarta.png', '09-29_jakarta.txt', 'dec-04_jakarta.png', '03-04_jakarta.txt', 'apr-16_jakarta.png', '10-14_jakarta.txt', 'jul-09_jakarta.pdf', '04-23_jakarta.txt', 'jul-27_jakarta.pdf', 'oct-16_jakarta.pdf', '08-02_jakarta.txt', 'apr-24_jakarta.png', '10-26_jakarta.txt', 'mar-09_jakarta.pdf', 'aug-13_jakarta.jpg', '10-08_jakarta.txt', '05-08_jakarta.txt', '03-18_jakarta.txt', 'nov-20_jakarta.pdf', 'may-13_jakarta.pdf', '02-14_jakarta.txt', '09-20_jakarta.txt', 'aug-28_jakarta.jpg', 'dec-23_jakarta.jpg', '08-17_jakarta.txt', 'oct-24_jakarta.png', 'may-13_jakarta.jpg', 'may-13_jakarta.png', 'may-28_jakarta.pdf', '01-12_jakarta.txt', '03-23_jakarta.txt', 'dec-18_jakarta.pdf', '09-12_jakarta.txt', 'aug-21_jakarta.pdf', '02-26_jakarta.txt', 'oct-03_jakarta.pdf', 'jun-03_jakarta.pdf', 'mar-15_jakarta.jpg', '03-11_jakarta.txt', 'oct-16_jakarta.jpg', 'dec-11_jakarta.jpg', '12-30_jakarta.txt', '07-30_jakarta.txt', '05-01_jakarta.txt'], ['jun-18_karachi.pdf', 'jul-12_karachi.png', 'nov-09_karachi.jpg', '05-06_karachi.txt', 'jun-11_karachi.jpg', 'aug-26_karachi.pdf', 'sep-06_karachi.pdf', '10-28_karachi.txt', '05-28_karachi.txt', '01-09_karachi.txt', '08-19_karachi.txt', 'sep-28_karachi.png', 'may-26_karachi.pdf', 'sep-06_karachi.png', 'jan-20_karachi.jpg', 'feb-17_karachi.png', '04-16_karachi.txt', 'sep-21_karachi.pdf', 'jul-12_karachi.pdf', '02-06_karachi.txt', 'jan-12_karachi.jpg', 'aug-14_karachi.jpg', '06-09_karachi.txt', '12-10_karachi.txt', '03-06_karachi.txt', 'jan-25_karachi.png', '12-27_karachi.txt', 'may-18_karachi.png', '01-19_karachi.txt', 'dec-13_karachi.pdf', 'dec-28_karachi.jpg', '07-09_karachi.txt', 'jan-30_karachi.pdf', 'apr-26_karachi.png', 'aug-11_karachi.jpg', '06-22_karachi.txt', 'jan-17_karachi.pdf', '09-22_karachi.txt', '04-06_karachi.txt', 'aug-04_karachi.png', 'nov-22_karachi.jpg', '11-28_karachi.txt', '01-10_karachi.txt', 'jan-02_karachi.jpg', '09-10_karachi.txt', 'jan-25_karachi.pdf', 'jul-25_karachi.jpg', '01-22_karachi.txt', 'may-23_karachi.png', 'may-23_karachi.jpg', '10-03_karachi.txt', '05-03_karachi.txt', 'jul-25_karachi.png', '01-21_karachi.txt', 'nov-28_karachi.pdf', 'apr-02_karachi.png', 'may-20_karachi.jpg', 'jul-08_karachi.jpg', 'jul-14_karachi.png', 'may-29_karachi.pdf', 'aug-12_karachi.pdf', '04-05_karachi.txt', '09-21_karachi.txt', 'aug-29_karachi.jpg', 'jul-14_karachi.pdf', '01-28_karachi.txt', 'jul-01_karachi.png', '07-16_karachi.txt', '05-27_karachi.txt', 'jan-14_karachi.png', '01-06_karachi.txt', '11-22_karachi.txt', 'dec-10_karachi.pdf', '09-06_karachi.txt', 'nov-28_karachi.jpg', 'apr-02_karachi.pdf', 'jan-26_karachi.jpg', '09-28_karachi.txt', '07-24_karachi.txt', 'aug-20_karachi.png', '01-03_karachi.txt', 'jul-04_karachi.jpg', 'apr-20_karachi.jpg', '12-13_karachi.txt', 'may-17_karachi.pdf', 'dec-27_karachi.pdf', 'aug-02_karachi.pdf', 'jan-18_karachi.pdf', '07-21_karachi.txt', '05-10_karachi.txt', '11-09_karachi.txt', 'may-30_karachi.png', 'jun-29_karachi.png', '04-27_karachi.txt', '06-16_karachi.txt', 'apr-12_karachi.pdf', 'jan-18_karachi.png', '08-21_karachi.txt', 'jul-23_karachi.png', 'jun-12_karachi.png', '10-05_karachi.txt', '05-05_karachi.txt', '01-24_karachi.txt', 'sep-10_karachi.jpg', '10-19_karachi.txt', '12-28_karachi.txt', 'aug-17_karachi.pdf', 'sep-22_karachi.jpg', 'feb-08_karachi.pdf', 'jan-04_karachi.png', 'dec-27_karachi.jpg', 'sep-22_karachi.png', 'jan-24_karachi.pdf', 'aug-19_karachi.png', 'dec-07_karachi.pdf', '08-26_karachi.txt', 'jul-24_karachi.jpg', 'may-05_karachi.pdf', '02-17_karachi.txt', 'jun-09_karachi.png', 'apr-27_karachi.pdf', '06-18_karachi.txt', '11-29_karachi.txt', 'sep-25_karachi.jpg', '08-14_karachi.txt', '07-01_karachi.txt', '05-30_karachi.txt', 'jan-03_karachi.png', '01-04_karachi.txt', '07-14_karachi.txt', 'apr-27_karachi.png', 'dec-20_karachi.pdf', '04-12_karachi.txt', 'may-10_karachi.pdf', 'jul-16_karachi.pdf', '12-26_karachi.txt', 'dec-07_karachi.jpg', '05-17_karachi.txt', '07-08_karachi.txt', '04-20_karachi.txt', '09-04_karachi.txt', 'dec-29_karachi.png', '01-18_karachi.txt', '06-11_karachi.txt', 'feb-06_karachi.pdf', 'jun-22_karachi.pdf', 'jan-06_karachi.pdf', 'oct-19_karachi.jpg', 'jan-28_karachi.pdf', '08-04_karachi.txt', '05-20_karachi.txt', 'dec-17_karachi.pdf', 'sep-29_karachi.jpg', 'nov-14_karachi.pdf', '11-25_karachi.txt', 'sep-07_karachi.jpg', 'jan-21_karachi.png', 'nov-01_karachi.jpg', '07-23_karachi.txt', 'sep-07_karachi.png', 'oct-05_karachi.png', '01-26_karachi.txt', 'jul-21_karachi.jpg', 'apr-05_karachi.jpg', 'may-27_karachi.jpg', 'dec-17_karachi.jpg', '05-29_karachi.txt', 'mar-06_karachi.pdf', 'jan-06_karachi.png', '07-04_karachi.txt', '08-11_karachi.txt', 'sep-20_karachi.png', '01-14_karachi.txt', 'jan-28_karachi.png', '04-02_karachi.txt', '09-26_karachi.txt', 'jan-10_karachi.pdf', '12-29_karachi.txt', '05-18_karachi.txt', '09-25_karachi.txt', '11-01_karachi.txt', '08-12_karachi.txt', 'nov-25_karachi.jpg', '12-07_karachi.txt', '01-17_karachi.txt', 'dec-26_karachi.png', '01-25_karachi.txt', '08-20_karachi.txt', '01-30_karachi.txt', 'sep-04_karachi.png', '12-20_karachi.txt', 'jan-22_karachi.png', 'jan-19_karachi.pdf', '04-26_karachi.txt', 'apr-06_karachi.pdf', 'oct-28_karachi.png', '05-23_karachi.txt', '07-12_karachi.txt', 'may-03_karachi.jpg', '01-02_karachi.txt', '08-29_karachi.txt', '11-14_karachi.txt', 'nov-25_karachi.pdf', 'jun-16_karachi.pdf', 'jan-09_karachi.png', 'jan-09_karachi.jpg', '06-12_karachi.txt', '09-07_karachi.txt', 'nov-29_karachi.png', 'apr-16_karachi.png', 'oct-03_karachi.png', '07-25_karachi.txt', '09-29_karachi.txt', 'aug-21_karachi.jpg', 'sep-26_karachi.pdf', 'may-28_karachi.jpg', '05-26_karachi.txt', '12-17_karachi.txt', '08-02_karachi.txt', '01-12_karachi.txt', 'sep-26_karachi.png', '08-17_karachi.txt', 'may-06_karachi.pdf', '09-20_karachi.txt', '02-08_karachi.txt', '01-20_karachi.txt', '06-29_karachi.txt', 'apr-16_karachi.pdf', 'aug-21_karachi.pdf', 'jul-09_karachi.jpg'], ['01-02_manila.txt', 'apr-21_manila.pdf', 'mar-29_manila.pdf', 'jun-20_manila.png', 'jun-17_manila.png', 'jun-17_manila.jpg', 'nov-17_manila.pdf', '02-07_manila.txt', 'jan-19_manila.png', 'mar-13_manila.jpg', '10-04_manila.txt', 'oct-19_manila.png', '03-18_manila.txt', 'feb-07_manila.png', 'mar-13_manila.png', '07-22_manila.txt', '07-15_manila.txt', 'mar-02_manila.png', '11-21_manila.txt', '03-09_manila.txt', '06-16_manila.txt', 'oct-08_manila.png', 'feb-21_manila.jpg', '05-24_manila.txt', 'jan-08_manila.png', '04-10_manila.txt', 'mar-24_manila.pdf', 'jun-20_manila.pdf', 'jun-17_manila.pdf', 'aug-26_manila.png', 'mar-29_manila.png', 'apr-21_manila.png', '02-21_manila.txt', '10-09_manila.txt', 'oct-14_manila.png', 'apr-21_manila.jpg', 'aug-11_manila.jpg', '03-22_manila.txt', 'oct-05_manila.pdf', 'jan-23_manila.png', 'jan-14_manila.png', 'nov-20_manila.jpg', '08-26_manila.txt', 'apr-07_manila.pdf', '08-11_manila.txt', '01-24_manila.txt', 'jul-08_manila.pdf', 'aug-19_manila.pdf', 'apr-29_manila.pdf', '04-22_manila.txt', '07-27_manila.txt', 'feb-13_manila.jpg', 'jul-19_manila.png', '10-10_manila.txt', '06-13_manila.txt', '06-24_manila.txt', '09-17_manila.txt', 'jan-11_manila.png', 'jan-11_manila.jpg', 'aug-05_manila.pdf', 'dec-30_manila.jpg', 'jun-03_manila.png', 'apr-24_manila.png', '02-24_manila.txt', '02-13_manila.txt', '03-10_manila.txt', 'oct-11_manila.png', 'apr-24_manila.jpg', 'apr-13_manila.jpg', 'jan-26_manila.pdf', 'jun-03_manila.pdf', 'aug-05_manila.png', 'jun-12_manila.png', 'jun-25_manila.png', 'apr-24_manila.pdf', '08-05_manila.txt', '01-30_manila.txt', 'oct-11_manila.pdf', 'jun-12_manila.jpg', 'mar-16_manila.jpg', '07-01_manila.txt', '11-02_manila.txt', '08-19_manila.txt', '04-04_manila.txt', 'feb-24_manila.pdf', '12-30_manila.txt', '05-30_manila.txt', 'feb-23_manila.pdf', '08-29_manila.txt', '04-03_manila.txt', '10-06_manila.txt', '06-05_manila.txt', '11-05_manila.txt', 'jun-18_manila.pdf', 'nov-09_manila.pdf', 'mar-26_manila.png', 'feb-05_manila.png', 'aug-29_manila.png', '07-06_manila.txt', 'jan-30_manila.jpg', '04-28_manila.txt', 'apr-14_manila.pdf', 'feb-08_manila.pdf', 'jun-22_manila.png', 'may-09_manila.png', '09-01_manila.txt', 'oct-30_manila.png', 'oct-30_manila.jpg', '02-05_manila.txt', 'nov-15_manila.pdf', '11-08_manila.txt', 'jun-15_manila.pdf', '02-23_manila.txt', 'oct-21_manila.jpg', 'feb-08_manila.png', 'aug-13_manila.jpg', 'apr-14_manila.jpg', 'aug-24_manila.jpg', '03-20_manila.txt', '03-17_manila.txt', '01-26_manila.txt', '08-13_manila.txt', '08-24_manila.txt', '01-11_manila.txt', '02-08_manila.txt', '07-20_manila.txt', '11-14_manila.txt', '10-20_manila.txt', 'sep-11_manila.pdf', '05-11_manila.txt', '05-26_manila.txt', '04-25_manila.txt', 'may-04_manila.jpg', 'nov-10_manila.jpg', 'oct-02_manila.pdf', '08-21_manila.txt', 'jan-24_manila.jpg', '01-14_manila.txt', '01-23_manila.txt', '08-16_manila.txt', '02-26_manila.txt', 'jun-10_manila.pdf', '03-12_manila.txt', '03-25_manila.txt', 'jul-07_manila.png', 'aug-21_manila.jpg', 'sep-05_manila.png', '09-09_manila.txt', '12-23_manila.txt', '01-08_manila.txt', '04-17_manila.txt', '07-25_manila.txt', 'feb-26_manila.png', '10-25_manila.txt', '06-26_manila.txt', 'may-10_manila.pdf', '07-03_manila.txt', '04-06_manila.txt', '01-19_manila.txt', '05-05_manila.txt', 'may-27_manila.png', 'jul-21_manila.png', '10-28_manila.txt', 'jul-16_manila.png', 'mar-08_manila.jpg', '07-28_manila.txt', 'dec-23_manila.jpg', 'jun-27_manila.png', 'aug-16_manila.pdf', 'jan-02_manila.png', 'oct-13_manila.pdf', 'jun-27_manila.jpg', '10-11_manila.txt', '06-12_manila.txt', '06-25_manila.txt', '04-14_manila.txt', 'mar-17_manila.pdf', '02-12_manila.txt', 'jun-24_manila.pdf', '03-26_manila.txt', 'apr-25_manila.jpg', 'oct-10_manila.png', 'aug-15_manila.jpg', 'aug-22_manila.jpg', '08-15_manila.txt', '08-22_manila.txt', 'aug-15_manila.pdf', 'nov-02_manila.png', 'jan-01_manila.jpg', 'oct-10_manila.pdf', 'jun-13_manila.jpg', 'jul-15_manila.png', 'apr-03_manila.jpg', '02-03_manila.txt', 'jul-22_manila.jpg', 'feb-12_manila.pdf', 'sep-17_manila.jpg', 'may-24_manila.png', '06-03_manila.txt', 'mar-20_manila.jpg', 'mar-17_manila.jpg', 'feb-03_manila.jpg', 'apr-28_manila.png', 'jul-27_manila.png', '10-19_manila.txt', 'apr-06_manila.jpg', 'oct-04_manila.jpg', '07-19_manila.txt', '02-06_manila.txt', 'apr-17_manila.pdf', 'jun-16_manila.png', 'jun-16_manila.jpg', 'jul-01_manila.pdf', 'jan-04_manila.png', 'jan-09_manila.pdf', 'mar-12_manila.jpg', 'feb-06_manila.jpg', 'mar-25_manila.jpg', '10-05_manila.txt', 'feb-06_manila.png', 'mar-12_manila.png', 'oct-09_manila.pdf', 'may-30_manila.jpg', '11-17_manila.txt', '11-20_manila.txt', '06-20_manila.txt', '06-17_manila.txt', '03-08_manila.txt', '10-14_manila.txt', 'jan-18_manila.pdf', 'oct-04_manila.pdf', 'nov-21_manila.jpg', 'jan-15_manila.png', '01-25_manila.txt', '07-08_manila.txt', 'jan-04_manila.pdf', 'apr-17_manila.jpg', '10-08_manila.txt', '02-10_manila.txt', 'apr-10_manila.png', 'mar-18_manila.png', 'aug-17_manila.png', '02-27_manila.txt', 'jun-26_manila.pdf', '03-13_manila.txt', '03-24_manila.txt', 'apr-10_manila.jpg', 'mar-18_manila.jpg', 'oct-25_manila.png', '05-09_manila.txt', '01-15_manila.txt', 'jan-25_manila.jpg', '08-17_manila.txt', '11-10_manila.txt', '10-13_manila.txt', 'feb-10_manila.jpg', 'may-26_manila.pdf', '06-27_manila.txt', '06-10_manila.txt', 'feb-01_manila.pdf', '04-21_manila.txt', '01-09_manila.txt', 'mar-22_manila.pdf', '01-18_manila.txt', '04-07_manila.txt', 'feb-27_manila.pdf', '05-04_manila.txt', 'may-11_manila.png', 'dec-18_manila.pdf', '03-29_manila.txt', '10-02_manila.txt', 'oct-28_manila.jpg', '12-18_manila.txt', 'mar-18_manila.pdf', '01-04_manila.txt', 'jul-06_manila.pdf', 'sep-09_manila.png', '09-05_manila.txt', 'jul-20_manila.png', 'mar-09_manila.jpg', '03-02_manila.txt', '02-01_manila.txt', 'mar-09_manila.png', 'feb-04_manila.jpg', '10-30_manila.txt', '07-07_manila.txt', '02-18_manila.txt', 'mar-10_manila.png', 'feb-15_manila.pdf', '08-28_manila.txt', 'feb-22_manila.pdf', 'jul-28_manila.pdf', '06-18_manila.txt', 'apr-04_manila.jpg', 'feb-18_manila.jpg', 'aug-03_manila.jpg', 'oct-06_manila.png', '02-04_manila.txt', 'jul-25_manila.jpg', '01-01_manila.txt', '08-03_manila.txt', '04-29_manila.txt', 'oct-20_manila.pdf', '09-11_manila.txt', 'jun-05_manila.jpg', 'jun-05_manila.png', '08-12_manila.txt', 'nov-14_manila.png', '08-25_manila.txt', 'aug-03_manila.pdf', '11-09_manila.txt', 'apr-22_manila.png', 'nov-05_manila.pdf', 'aug-12_manila.png', '02-22_manila.txt', 'jul-03_manila.jpg', '02-15_manila.txt', 'aug-25_manila.png', 'feb-09_manila.jpg', '03-16_manila.txt', '05-10_manila.txt', 'may-05_manila.png', '05-27_manila.txt', 'sep-01_manila.png', '04-13_manila.txt', 'nov-08_manila.png', 'aug-28_manila.pdf', '04-24_manila.txt', 'may-05_manila.jpg', '02-09_manila.txt', '07-16_manila.txt', 'feb-15_manila.png', 'feb-22_manila.png', '07-21_manila.txt', '11-15_manila.txt', '06-15_manila.txt', '06-22_manila.txt', '10-21_manila.txt'], ['nov-02_melbourne.pdf', '09-06_melbourne.txt', 'jun-08_melbourne.jpg', 'jan-29_melbourne.jpg', 'jul-07_melbourne.jpg', '09-11_melbourne.txt', '11-03_melbourne.txt', 'may-19_melbourne.png', '09-28_melbourne.txt', 'apr-04_melbourne.png', '09-15_melbourne.txt', 'feb-13_melbourne.pdf', '09-02_melbourne.txt', '08-25_melbourne.txt', '11-10_melbourne.txt', 'apr-13_melbourne.png', 'may-24_melbourne.png', 'nov-28_melbourne.pdf', '10-19_melbourne.txt', '11-29_melbourne.txt', 'sep-24_melbourne.jpg', 'apr-04_melbourne.pdf', 'jul-03_melbourne.pdf', '06-16_melbourne.txt', 'aug-27_melbourne.png', '04-19_melbourne.txt', '07-26_melbourne.txt', '01-13_melbourne.txt', 'oct-30_melbourne.jpg', '05-03_melbourne.txt', '04-24_melbourne.txt', 'jan-29_melbourne.pdf', 'sep-19_melbourne.png', '07-22_melbourne.txt', '05-04_melbourne.txt', 'nov-05_melbourne.jpg', 'apr-07_melbourne.pdf', 'may-30_melbourne.pdf', '05-13_melbourne.txt', 'jul-17_melbourne.pdf', 'sep-09_melbourne.jpg', '07-25_melbourne.txt', 'aug-24_melbourne.jpg', 'may-09_melbourne.pdf', '06-15_melbourne.txt', 'oct-19_melbourne.jpg', '06-28_melbourne.txt', 'nov-16_melbourne.jpg', 'aug-19_melbourne.jpg', 'apr-14_melbourne.pdf', 'may-23_melbourne.pdf', '04-27_melbourne.txt', 'jan-13_melbourne.pdf', '02-16_melbourne.txt', '06-06_melbourne.txt', '01-29_melbourne.txt', '07-21_melbourne.txt', '09-12_melbourne.txt', '10-30_melbourne.txt', '08-22_melbourne.txt', '11-17_melbourne.txt', 'may-27_melbourne.png', '09-01_melbourne.txt', '11-04_melbourne.txt', 'apr-10_melbourne.jpg', 'may-30_melbourne.png', 'apr-29_melbourne.png', '12-15_melbourne.txt', '12-02_melbourne.txt', 'apr-29_melbourne.jpg', '08-08_melbourne.txt', 'nov-18_melbourne.pdf', 'dec-02_melbourne.pdf', 'jan-24_melbourne.jpg', 'dec-15_melbourne.pdf', '11-19_melbourne.txt', 'nov-21_melbourne.pdf', '11-20_melbourne.txt', '08-15_melbourne.txt', '08-28_melbourne.txt', 'jun-16_melbourne.jpg', '11-24_melbourne.txt', '08-11_melbourne.txt', 'jan-19_melbourne.png', '09-21_melbourne.txt', 'apr-27_melbourne.jpg', 'nov-25_melbourne.pdf', '08-06_melbourne.txt', 'jun-16_melbourne.pdf', 'aug-13_melbourne.jpg', 'aug-04_melbourne.jpg', '04-14_melbourne.txt', 'jul-20_melbourne.pdf', '05-24_melbourne.txt', '07-01_melbourne.txt', '01-09_melbourne.txt', 'mar-07_melbourne.jpg', '05-19_melbourne.txt', '04-29_melbourne.txt', '07-16_melbourne.txt', '04-07_melbourne.txt', 'may-03_melbourne.pdf', '04-10_melbourne.txt', '06-08_melbourne.txt', '01-27_melbourne.txt', 'sep-14_melbourne.png', '07-06_melbourne.txt', 'aug-10_melbourne.jpg', '05-09_melbourne.txt', '01-19_melbourne.txt', '05-27_melbourne.txt', 'sep-13_melbourne.jpg', 'jul-23_melbourne.pdf', 'nov-26_melbourne.png', 'apr-24_melbourne.pdf', '05-30_melbourne.txt', 'jul-09_melbourne.pdf', 'aug-03_melbourne.png', 'apr-19_melbourne.pdf', '07-02_melbourne.txt', 'jan-09_melbourne.pdf', '01-24_melbourne.txt', '04-13_melbourne.txt', 'nov-22_melbourne.png', '04-04_melbourne.txt', 'jul-27_melbourne.pdf', '05-23_melbourne.txt', 'jul-09_melbourne.png', 'jan-27_melbourne.jpg', 'jun-06_melbourne.png', 'jun-28_melbourne.png', '09-26_melbourne.txt', 'jul-30_melbourne.jpg', 'jun-15_melbourne.jpg', 'nov-08_melbourne.pdf', 'apr-24_melbourne.jpg', 'jul-23_melbourne.jpg', 'may-13_melbourne.png', '11-27_melbourne.txt', 'may-04_melbourne.jpg', '04-05_melbourne.txt', '05-22_melbourne.txt', 'jul-26_melbourne.pdf', 'oct-06_melbourne.jpg', 'sep-01_melbourne.jpg', '01-25_melbourne.txt', 'may-16_melbourne.pdf', '04-12_melbourne.txt', '07-03_melbourne.txt', 'nov-27_melbourne.jpg', '04-16_melbourne.txt', '01-21_melbourne.txt', 'sep-12_melbourne.jpg', '05-26_melbourne.txt', 'aug-28_melbourne.png', '04-01_melbourne.txt', '01-18_melbourne.txt', '05-08_melbourne.txt', '07-07_melbourne.txt', 'jan-22_melbourne.pdf', 'aug-06_melbourne.jpg', 'aug-11_melbourne.png', 'jul-22_melbourne.jpg', '11-26_melbourne.txt', '08-13_melbourne.txt', 'may-05_melbourne.jpg', '08-04_melbourne.txt', 'jan-22_melbourne.jpg', '11-08_melbourne.txt', 'apr-21_melbourne.png', '11-22_melbourne.txt', 'aug-15_melbourne.pdf', '09-09_melbourne.txt', 'jul-21_melbourne.png', 'jan-18_melbourne.png', 'may-11_melbourne.jpg', '11-25_melbourne.txt', '08-10_melbourne.txt', 'jan-18_melbourne.jpg', '09-19_melbourne.txt', 'jan-21_melbourne.jpg', 'sep-15_melbourne.pdf', '10-06_melbourne.txt', '11-21_melbourne.txt', 'may-02_melbourne.png', 'nov-20_melbourne.pdf', '08-03_melbourne.txt', '09-24_melbourne.txt', 'jan-25_melbourne.jpg', '11-18_melbourne.txt', 'nov-19_melbourne.pdf', '04-11_melbourne.txt', 'sep-02_melbourne.jpg', 'jul-25_melbourne.pdf', 'sep-15_melbourne.jpg', '05-21_melbourne.txt', 'nov-19_melbourne.jpg', '07-17_melbourne.txt', '03-07_melbourne.txt', 'sep-06_melbourne.png', '01-22_melbourne.txt', 'sep-11_melbourne.png', '04-15_melbourne.txt', 'nov-24_melbourne.jpg', 'jan-21_melbourne.pdf', 'sep-28_melbourne.png', '07-20_melbourne.txt', 'jan-12_melbourne.pdf', 'nov-17_melbourne.jpg', '01-11_melbourne.txt', '05-16_melbourne.txt', '01-06_melbourne.txt', '02-13_melbourne.txt', 'aug-25_melbourne.jpg', 'jul-16_melbourne.pdf', '05-05_melbourne.txt', 'sep-26_melbourne.png', 'apr-11_melbourne.pdf', 'nov-04_melbourne.png', 'jan-16_melbourne.png', 'may-08_melbourne.png', 'jan-16_melbourne.jpg', 'jul-01_melbourne.jpg', 'may-26_melbourne.jpg', '11-05_melbourne.txt', '08-27_melbourne.txt', 'jan-05_melbourne.jpg', '11-16_melbourne.txt', 'may-22_melbourne.jpg', 'nov-17_melbourne.pdf', 'apr-15_melbourne.jpg', '09-13_melbourne.txt', '11-28_melbourne.txt', 'nov-29_melbourne.pdf', '08-24_melbourne.txt', '09-14_melbourne.txt', 'aug-22_melbourne.pdf', '08-19_melbourne.txt', 'jan-06_melbourne.png', 'jan-11_melbourne.jpg', 'may-21_melbourne.jpg', 'apr-01_melbourne.png', '11-02_melbourne.txt', '07-23_melbourne.txt', 'apr-01_melbourne.pdf', '01-05_melbourne.txt', 'sep-21_melbourne.jpg', 'feb-16_melbourne.png', '05-02_melbourne.txt', 'jul-06_melbourne.pdf', '01-12_melbourne.txt', 'apr-16_melbourne.pdf', 'nov-03_melbourne.png', 'nov-29_melbourne.jpg', '07-27_melbourne.txt', '07-30_melbourne.txt', '04-21_melbourne.txt', 'aug-08_melbourne.png', 'apr-12_melbourne.pdf', 'nov-10_melbourne.jpg', '01-16_melbourne.txt', 'jul-02_melbourne.pdf', '05-11_melbourne.txt', '07-09_melbourne.txt', 'apr-05_melbourne.pdf'], ['09-29_osaka.txt', 'feb-09_osaka.png', 'sep-19_osaka.png', 'nov-23_osaka.jpg', 'aug-28_osaka.png', '12-15_osaka.txt', 'apr-12_osaka.pdf', '11-16_osaka.txt', '04-23_osaka.txt', 'aug-10_osaka.pdf', '02-04_osaka.txt', 'feb-04_osaka.pdf', '04-16_osaka.txt', '11-23_osaka.txt', 'feb-10_osaka.pdf', 'jun-15_osaka.png', '09-08_osaka.txt', '07-15_osaka.txt', 'jan-25_osaka.pdf', '02-10_osaka.txt', '09-24_osaka.txt', '08-22_osaka.txt', 'sep-14_osaka.png', 'feb-04_osaka.png', 'aug-25_osaka.png', 'nov-16_osaka.pdf', 'feb-10_osaka.jpg', 'sep-21_osaka.png', '02-09_osaka.txt', '08-17_osaka.txt', 'sep-21_osaka.jpg', '09-11_osaka.txt', 'aug-28_osaka.pdf', 'aug-10_osaka.jpg', '08-03_osaka.txt', 'feb-02_osaka.pdf', '07-07_osaka.txt', '05-02_osaka.txt', '02-02_osaka.txt', '03-04_osaka.txt', '01-01_osaka.txt', '01-15_osaka.txt', '03-10_osaka.txt', 'jul-16_osaka.jpg', '02-16_osaka.txt', '11-25_osaka.txt', '06-15_osaka.txt', '08-08_osaka.txt', 'sep-06_osaka.pdf', '07-13_osaka.txt', '12-26_osaka.txt', 'feb-16_osaka.pdf', 'aug-02_osaka.pdf', '11-04_osaka.txt', '12-07_osaka.txt', '10-02_osaka.txt', '10-16_osaka.txt', '04-25_osaka.txt', 'nov-25_osaka.png', 'dec-22_osaka.png', '01-20_osaka.txt', 'aug-02_osaka.jpg', '01-18_osaka.txt', 'apr-14_osaka.jpg', '09-03_osaka.txt', 'nov-04_osaka.pdf', '09-22_osaka.txt', '08-24_osaka.txt', 'apr-21_osaka.jpg', '02-24_osaka.txt', '03-22_osaka.txt', '01-27_osaka.txt', 'feb-24_osaka.pdf', '12-14_osaka.txt', '07-21_osaka.txt', '11-17_osaka.txt', 'mar-12_osaka.pdf', 'apr-07_osaka.pdf', 'nov-17_osaka.png', 'dec-10_osaka.png', '06-12_osaka.txt', 'sep-01_osaka.pdf', '12-21_osaka.txt', '09-09_osaka.txt', '01-12_osaka.txt', 'dec-10_osaka.jpg', '02-11_osaka.txt', 'sep-15_osaka.pdf', '04-03_osaka.txt', '06-06_osaka.txt', 'jan-08_osaka.png', 'dec-04_osaka.png', 'feb-11_osaka.png', 'dec-28_osaka.jpg', 'nov-17_osaka.pdf', 'aug-24_osaka.jpg', '09-25_osaka.txt', 'mar-27_osaka.jpg', 'aug-08_osaka.pdf', 'dec-04_osaka.pdf', '07-19_osaka.txt', '08-02_osaka.txt', 'dec-25_osaka.pdf', 'jun-19_osaka.jpg', 'jan-05_osaka.jpg', 'sep-20_osaka.png', 'dec-09_osaka.png', '03-11_osaka.txt', '11-24_osaka.txt', 'aug-22_osaka.pdf', 'apr-18_osaka.jpg', 'jun-12_osaka.png', '07-06_osaka.txt', 'oct-16_osaka.pdf', 'jun-06_osaka.png', '02-03_osaka.txt', 'dec-02_osaka.jpg', 'mar-19_osaka.png', 'jun-06_osaka.jpg', '07-27_osaka.txt', '12-12_osaka.txt', 'dec-23_osaka.jpg', 'nov-24_osaka.jpg', '03-30_osaka.txt', '08-28_osaka.txt', '12-06_osaka.txt', '01-19_osaka.txt', '09-02_osaka.txt', '06-19_osaka.txt', 'aug-17_osaka.jpg', 'sep-26_osaka.jpg', '08-10_osaka.txt', '09-16_osaka.txt', '03-08_osaka.txt', 'aug-03_osaka.png', 'jan-22_osaka.png', 'sep-07_osaka.jpg', 'jun-12_osaka.pdf', 'oct-02_osaka.png', 'jan-22_osaka.jpg', 'sep-13_osaka.png', '09-23_osaka.txt', 'feb-03_osaka.jpg', 'sep-13_osaka.jpg', '08-25_osaka.txt', '01-05_osaka.txt', '02-06_osaka.txt', 'sep-16_osaka.pdf', '06-05_osaka.txt', 'jun-03_osaka.png', '12-22_osaka.txt', '04-14_osaka.txt', '06-11_osaka.txt', 'mar-30_osaka.pdf', 'jan-27_osaka.pdf', 'mar-08_osaka.png', 'dec-26_osaka.jpg', '02-27_osaka.txt', '04-21_osaka.txt', '06-24_osaka.txt', 'jul-27_osaka.png', 'sep-23_osaka.png', 'mar-11_osaka.png', '01-08_osaka.txt', '09-13_osaka.txt', 'aug-06_osaka.jpg', '08-15_osaka.txt', 'jan-12_osaka.png', '09-07_osaka.txt', 'feb-27_osaka.jpg', '03-19_osaka.txt', 'aug-12_osaka.png', '08-20_osaka.txt', '09-26_osaka.txt', 'feb-06_osaka.jpg', 'feb-06_osaka.png', 'jul-06_osaka.pdf', 'jun-03_osaka.pdf', 'dec-07_osaka.pdf', 'sep-16_osaka.png', 'sep-02_osaka.png', 'apr-25_osaka.jpg', '06-29_osaka.txt', 'apr-16_osaka.pdf', 'feb-19_osaka.jpg', '03-27_osaka.txt', 'jul-21_osaka.jpg', '01-22_osaka.txt', 'sep-09_osaka.png', '02-21_osaka.txt', '06-03_osaka.txt', 'jun-05_osaka.png', 'may-02_osaka.png', 'jun-05_osaka.jpg', '02-14_osaka.txt', 'aug-19_osaka.png', '03-12_osaka.txt', 'jun-11_osaka.jpg', 'jan-19_osaka.png', '04-12_osaka.txt', 'aug-21_osaka.pdf', 'mar-22_osaka.jpg', '09-20_osaka.txt', 'jun-29_osaka.png', 'feb-14_osaka.jpg', 'aug-19_osaka.pdf', 'dec-15_osaka.pdf', 'apr-23_osaka.png', 'feb-14_osaka.png', '09-15_osaka.txt', '08-13_osaka.txt', 'sep-25_osaka.png', 'jun-24_osaka.pdf', 'feb-21_osaka.png', '02-19_osaka.txt', 'sep-09_osaka.pdf', 'jul-19_osaka.png', '09-01_osaka.txt', '07-16_osaka.txt', '12-23_osaka.txt', 'jul-13_osaka.png', 'sep-03_osaka.pdf', 'dec-12_osaka.jpg', 'jun-16_osaka.jpg', '02-07_osaka.txt', 'dec-06_osaka.jpg', '06-04_osaka.txt', '08-19_osaka.txt', 'jul-07_osaka.png', 'feb-07_osaka.pdf', '01-25_osaka.txt', '02-26_osaka.txt', 'feb-26_osaka.pdf', '12-02_osaka.txt', 'sep-22_osaka.pdf', 'mar-10_osaka.pdf', 'aug-13_osaka.jpg', '04-18_osaka.txt', '09-06_osaka.txt', 'jun-23_osaka.pdf', 'mar-04_osaka.png', 'dec-12_osaka.pdf', '06-28_osaka.txt', '08-21_osaka.txt', 'feb-07_osaka.jpg', 'feb-07_osaka.png', 'jul-07_osaka.pdf', '06-23_osaka.txt', 'aug-15_osaka.pdf', '12-10_osaka.txt', '02-20_osaka.txt', 'jan-01_osaka.pdf', '12-04_osaka.txt', 'jan-20_osaka.pdf', 'jan-18_osaka.jpg', 'dec-14_osaka.jpg', 'jun-28_osaka.pdf', '12-25_osaka.txt', '06-16_osaka.txt', 'aug-20_osaka.pdf', 'dec-14_osaka.png', 'sep-11_osaka.pdf', '04-07_osaka.txt', '09-19_osaka.txt', 'feb-01_osaka.pdf', '02-01_osaka.txt', 'sep-29_osaka.png', 'jan-20_osaka.png', 'aug-20_osaka.png', 'jul-15_osaka.pdf', 'jun-04_osaka.pdf', '09-21_osaka.txt', '12-09_osaka.txt', 'feb-01_osaka.jpg', 'dec-21_osaka.pdf', 'sep-08_osaka.pdf', '08-06_osaka.txt', 'jan-15_osaka.png', '12-28_osaka.txt', 'feb-20_osaka.jpg', '09-14_osaka.txt', '08-12_osaka.txt', 'sep-24_osaka.jpg', 'sep-24_osaka.png', 'apr-03_osaka.png'], ['oct-08_shanghai.png', 'aug-26_shanghai.jpg', '08-29_shanghai.txt', 'sep-05_shanghai.png', 'aug-17_shanghai.pdf', '04-27_shanghai.txt', '10-07_shanghai.txt', '09-15_shanghai.txt', 'jul-03_shanghai.jpg', 'dec-28_shanghai.png', 'jun-12_shanghai.jpg', 'dec-19_shanghai.pdf', '10-15_shanghai.txt', 'sep-21_shanghai.pdf', '12-11_shanghai.txt', '09-07_shanghai.txt', 'dec-19_shanghai.png', 'sep-26_shanghai.png', 'dec-28_shanghai.pdf', '01-22_shanghai.txt', '10-24_shanghai.txt', 'aug-05_shanghai.png', '04-04_shanghai.txt', 'apr-08_shanghai.jpg', 'aug-02_shanghai.jpg', '12-20_shanghai.txt', '06-07_shanghai.txt', 'jul-11_shanghai.pdf', '12-27_shanghai.txt', 'jun-07_shanghai.pdf', 'aug-17_shanghai.jpg', '04-11_shanghai.txt', '08-18_shanghai.txt', '04-16_shanghai.txt', '06-12_shanghai.txt', 'feb-18_shanghai.jpg', '09-23_shanghai.txt', 'feb-18_shanghai.png', 'sep-20_shanghai.pdf', 'aug-04_shanghai.pdf', '10-14_shanghai.txt', 'sep-11_shanghai.png', 'jun-13_shanghai.png', 'dec-18_shanghai.pdf', '12-17_shanghai.txt', 'jul-10_shanghai.png', '03-16_shanghai.txt', 'jan-22_shanghai.pdf', 'jul-17_shanghai.png', 'jul-26_shanghai.pdf', 'sep-03_shanghai.png', 'jun-06_shanghai.jpg', 'sep-04_shanghai.jpg', '07-19_shanghai.txt', 'jun-06_shanghai.png', '08-28_shanghai.txt', 'oct-09_shanghai.png', '04-21_shanghai.txt', '12-05_shanghai.txt', 'jul-02_shanghai.jpg', 'aug-16_shanghai.png', '04-17_shanghai.txt', '08-19_shanghai.txt', 'aug-16_shanghai.jpg', 'sep-04_shanghai.pdf', '04-10_shanghai.txt', 'jul-05_shanghai.pdf', '06-13_shanghai.txt', '09-25_shanghai.txt', 'mar-14_shanghai.jpg', '04-05_shanghai.txt', 'dec-18_shanghai.jpg', '04-02_shanghai.txt', 'sep-27_shanghai.png', '10-22_shanghai.txt', '06-06_shanghai.txt', 'jul-10_shanghai.pdf', '12-21_shanghai.txt', '08-01_shanghai.txt', '01-29_shanghai.txt', '04-08_shanghai.txt', '02-16_shanghai.txt', 'oct-16_shanghai.pdf', 'dec-24_shanghai.pdf', 'oct-27_shanghai.png', '02-11_shanghai.txt', 'may-03_shanghai.pdf', 'feb-01_shanghai.png', '08-13_shanghai.txt', 'oct-03_shanghai.pdf', 'apr-11_shanghai.png', '07-22_shanghai.txt', '08-14_shanghai.txt', 'oct-04_shanghai.pdf', 'apr-16_shanghai.png', 'feb-13_shanghai.jpg', '05-26_shanghai.txt', '11-01_shanghai.txt', 'jul-08_shanghai.pdf', 'apr-27_shanghai.jpg', 'oct-04_shanghai.png', 'dec-07_shanghai.pdf', 'sep-09_shanghai.png', '08-25_shanghai.txt', '12-08_shanghai.txt', '09-19_shanghai.txt', '10-19_shanghai.txt', '07-06_shanghai.txt', 'oct-11_shanghai.jpg', 'apr-04_shanghai.pdf', 'dec-15_shanghai.pdf', '08-15_shanghai.txt', 'apr-17_shanghai.png', 'dec-06_shanghai.png', 'sep-08_shanghai.pdf', '07-23_shanghai.txt', '08-12_shanghai.txt', 'apr-10_shanghai.png', 'apr-21_shanghai.pdf', '02-05_shanghai.txt', '07-24_shanghai.txt', 'jul-09_shanghai.pdf', 'feb-23_shanghai.pdf', 'feb-12_shanghai.png', 'may-26_shanghai.jpg', 'feb-15_shanghai.png', 'apr-02_shanghai.jpg', 'dec-25_shanghai.pdf', 'apr-05_shanghai.jpg', '02-17_shanghai.txt', 'dec-22_shanghai.pdf', 'apr-02_shanghai.png', 'oct-26_shanghai.jpg', '11-12_shanghai.txt', 'oct-26_shanghai.pdf', 'apr-02_shanghai.pdf', '10-18_shanghai.txt', 'dec-22_shanghai.png', 'oct-21_shanghai.pdf', 'jan-29_shanghai.pdf', '05-03_shanghai.txt', '07-12_shanghai.txt', 'oct-05_shanghai.png', 'apr-21_shanghai.png', '07-15_shanghai.txt', 'oct-02_shanghai.png', 'feb-23_shanghai.png', 'jul-09_shanghai.png', 'feb-17_shanghai.png', 'feb-17_shanghai.jpg', 'nov-12_shanghai.jpg', 'apr-23_shanghai.pdf', '04-19_shanghai.txt', '07-26_shanghai.txt', 'apr-12_shanghai.png', 'jun-08_shanghai.pdf', '08-17_shanghai.txt', 'oct-07_shanghai.pdf', '06-08_shanghai.txt', '12-28_shanghai.txt', 'feb-05_shanghai.png', 'jul-19_shanghai.pdf', 'dec-11_shanghai.png', '08-02_shanghai.txt', '02-15_shanghai.txt', '08-05_shanghai.txt', '02-12_shanghai.txt', 'oct-24_shanghai.png', '05-06_shanghai.txt', '12-19_shanghai.txt', '05-01_shanghai.txt', '09-08_shanghai.txt', 'oct-15_shanghai.jpg', 'dec-20_shanghai.png', 'dec-27_shanghai.jpg', '07-05_shanghai.txt', 'oct-24_shanghai.pdf', '02-23_shanghai.txt', '07-02_shanghai.txt', 'dec-20_shanghai.jpg', 'feb-17_shanghai.pdf', '05-14_shanghai.txt', '07-17_shanghai.txt', 'apr-12_shanghai.pdf', 'aug-18_shanghai.pdf', '10-08_shanghai.txt', 'apr-23_shanghai.png', 'aug-29_shanghai.png', '07-10_shanghai.txt', '08-26_shanghai.txt', 'may-01_shanghai.pdf', '02-13_shanghai.txt', '08-04_shanghai.txt', 'dec-17_shanghai.jpg', 'apr-01_shanghai.png', 'feb-11_shanghai.jpg', 'feb-16_shanghai.png', '08-16_shanghai.txt', 'dec-05_shanghai.png', '02-01_shanghai.txt', 'aug-19_shanghai.png', '04-18_shanghai.txt', 'aug-28_shanghai.pdf', 'dec-05_shanghai.jpg', 'may-14_shanghai.png', '07-11_shanghai.txt', '10-09_shanghai.txt', 'apr-13_shanghai.pdf', '04-29_shanghai.txt', 'may-06_shanghai.jpg', '09-09_shanghai.txt', '12-18_shanghai.txt', 'nov-01_shanghai.pdf', 'oct-14_shanghai.png', 'dec-21_shanghai.jpg', '07-03_shanghai.txt', 'sep-19_shanghai.jpg', 'oct-22_shanghai.pdf', 'jul-24_shanghai.pdf', '09-04_shanghai.txt', '03-14_shanghai.txt', 'jul-23_shanghai.pdf', 'jul-15_shanghai.jpg', '09-03_shanghai.txt', '12-15_shanghai.txt', 'jul-12_shanghai.png', '10-11_shanghai.txt', '01-10_shanghai.txt', 'aug-01_shanghai.pdf', '10-16_shanghai.txt', 'jun-11_shanghai.png', '07-09_shanghai.txt', 'jan-03_shanghai.jpg', '12-07_shanghai.txt', '09-11_shanghai.txt', '05-18_shanghai.txt', '04-23_shanghai.txt', 'aug-13_shanghai.pdf', 'apr-19_shanghai.pdf', 'jun-03_shanghai.jpg', '10-03_shanghai.txt', 'jun-03_shanghai.png', '10-04_shanghai.txt', 'aug-25_shanghai.png', '09-27_shanghai.txt', 'may-28_shanghai.jpg', '06-11_shanghai.txt', '09-20_shanghai.txt', 'aug-14_shanghai.jpg', '04-12_shanghai.txt', 'apr-19_shanghai.png', 'dec-08_shanghai.jpg', 'apr-19_shanghai.jpg', '06-03_shanghai.txt', 'jul-24_shanghai.png', 'jul-24_shanghai.jpg', 'jul-12_shanghai.pdf', 'jul-23_shanghai.png', '12-24_shanghai.txt', 'mar-16_shanghai.png', 'sep-25_shanghai.png', 'oct-19_shanghai.pdf', '10-27_shanghai.txt', 'jun-11_shanghai.pdf', '01-26_shanghai.txt', 'sep-25_shanghai.jpg', '12-06_shanghai.txt', 'jul-06_shanghai.png', 'may-18_shanghai.jpg', '10-05_shanghai.txt', 'apr-29_shanghai.jpg', '10-02_shanghai.txt', '01-03_shanghai.txt', 'jul-22_shanghai.pdf', '09-05_shanghai.txt', '07-08_shanghai.txt', 'oct-18_shanghai.jpg', 'jun-10_shanghai.jpg', 'sep-15_shanghai.png', 'jul-22_shanghai.png', '12-25_shanghai.txt', 'jan-10_shanghai.pdf', '12-22_shanghai.txt', 'jan-26_shanghai.png', '02-18_shanghai.txt', 'jun-10_shanghai.pdf', '10-26_shanghai.txt', 'sep-23_shanghai.png', '04-01_shanghai.txt', '10-21_shanghai.txt', '05-28_shanghai.txt', '09-21_shanghai.txt', 'jul-06_shanghai.pdf', '06-10_shanghai.txt', '09-26_shanghai.txt', 'aug-12_shanghai.jpg', 'apr-18_shanghai.jpg', 'apr-18_shanghai.png', 'aug-12_shanghai.png', 'aug-15_shanghai.jpg', '04-13_shanghai.txt', 'sep-07_shanghai.pdf'], ['06-23_singapore.txt', '07-04_singapore.txt', '02-24_singapore.txt', 'sep-11_singapore.jpg', 'dec-29_singapore.jpg', 'oct-01_singapore.jpg', 'sep-11_singapore.png', 'dec-29_singapore.png', '04-15_singapore.txt', '02-20_singapore.txt', '07-17_singapore.txt', '06-09_singapore.txt', '02-19_singapore.txt', 'oct-12_singapore.png', 'oct-05_singapore.jpg', 'jul-25_singapore.pdf', 'oct-12_singapore.jpg', 'nov-20_singapore.png', '10-06_singapore.txt', 'apr-22_singapore.jpg', '09-24_singapore.txt', '10-11_singapore.txt', '09-19_singapore.txt', 'dec-07_singapore.pdf', 'may-28_singapore.png', '12-23_singapore.txt', 'jul-18_singapore.jpg', 'feb-08_singapore.pdf', 'oct-01_singapore.pdf', '09-20_singapore.txt', 'nov-24_singapore.pdf', 'may-06_singapore.png', '11-25_singapore.txt', 'apr-26_singapore.png', 'oct-16_singapore.pdf', 'jul-08_singapore.png', '10-12_singapore.txt', 'apr-21_singapore.png', '10-05_singapore.txt', 'aug-06_singapore.pdf', '11-08_singapore.txt', '10-01_singapore.txt', '11-26_singapore.txt', 'may-12_singapore.png', 'apr-25_singapore.jpg', '09-23_singapore.txt', '10-16_singapore.txt', '02-27_singapore.txt', '05-08_singapore.txt', '07-07_singapore.txt', '07-29_singapore.txt', 'jul-22_singapore.pdf', 'sep-12_singapore.jpg', '04-01_singapore.txt', 'nov-27_singapore.png', 'dec-17_singapore.jpg', '07-03_singapore.txt', 'jun-07_singapore.pdf', 'mar-05_singapore.jpg', '07-14_singapore.txt', '02-23_singapore.txt', '04-05_singapore.txt', 'may-01_singapore.pdf', 'jul-26_singapore.pdf', 'oct-06_singapore.jpg', 'oct-11_singapore.png', '04-12_singapore.txt', 'may-16_singapore.pdf', 'nov-07_singapore.png', '04-21_singapore.txt', 'feb-05_singapore.png', 'jul-02_singapore.pdf', 'oct-22_singapore.png', '05-06_singapore.txt', 'feb-05_singapore.jpg', 'oct-22_singapore.jpg', '07-09_singapore.txt', 'feb-12_singapore.png', 'sep-25_singapore.jpg', 'aug-08_singapore.jpg', 'jun-23_singapore.pdf', '07-27_singapore.txt', 'jan-15_singapore.pdf', '05-28_singapore.txt', 'nov-03_singapore.jpg', 'jun-09_singapore.pdf', 'feb-01_singapore.png', '04-25_singapore.txt', '02-03_singapore.txt', '07-23_singapore.txt', '02-14_singapore.txt', '11-02_singapore.txt', 'apr-01_singapore.jpg', 'sep-21_singapore.pdf', 'jul-06_singapore.png', '09-07_singapore.txt', 'jul-28_singapore.png', '09-29_singapore.txt', '09-03_singapore.txt', 'sep-25_singapore.pdf', 'apr-12_singapore.png', '11-11_singapore.txt', '08-24_singapore.txt', 'apr-05_singapore.png', 'jul-02_singapore.jpg', '10-21_singapore.txt', '12-17_singapore.txt', 'jun-23_singapore.png', '11-28_singapore.txt', '10-18_singapore.txt', 'jul-05_singapore.png', '12-29_singapore.txt', '11-16_singapore.txt', 'apr-15_singapore.jpg', '09-13_singapore.txt', 'dec-23_singapore.pdf', '12-07_singapore.txt', '10-22_singapore.txt', 'nov-13_singapore.pdf', '11-12_singapore.txt', 'oct-21_singapore.pdf', 'jul-16_singapore.jpg', '08-09_singapore.txt', 'nov-04_singapore.jpg', '05-12_singapore.txt', '01-15_singapore.txt', '04-22_singapore.txt', '02-04_singapore.txt', 'may-08_singapore.pdf', 'oct-18_singapore.jpg', '02-13_singapore.txt', '04-26_singapore.txt', 'nov-17_singapore.jpg', 'feb-02_singapore.png', '05-01_singapore.txt', '05-16_singapore.txt', 'feb-15_singapore.png', '06-07_singapore.txt', '02-17_singapore.txt', '12-02_singapore.txt', 'may-09_singapore.png', '08-08_singapore.txt', '11-13_singapore.txt', 'apr-10_singapore.png', '11-04_singapore.txt', 'may-30_singapore.png', '12-06_singapore.txt', '09-12_singapore.txt', 'oct-24_singapore.pdf', '12-28_singapore.txt', 'jul-04_singapore.png', 'apr-14_singapore.png', '11-17_singapore.txt', 'may-23_singapore.png', 'apr-03_singapore.jpg', '06-11_singapore.txt', '02-01_singapore.txt', '06-06_singapore.txt', 'dec-22_singapore.png', 'oct-24_singapore.jpg', 'sep-23_singapore.jpg', 'feb-03_singapore.jpg', 'nov-16_singapore.jpg', 'feb-14_singapore.jpg', '07-18_singapore.txt', 'feb-03_singapore.png', 'oct-19_singapore.png', '07-25_singapore.txt', '06-02_singapore.txt', '02-12_singapore.txt', 'aug-24_singapore.png', '02-05_singapore.txt', '06-15_singapore.txt', '05-04_singapore.txt', 'oct-20_singapore.png', '04-23_singapore.txt', 'apr-07_singapore.pdf', 'nov-12_singapore.png', '05-13_singapore.txt', 'jul-17_singapore.pdf', 'sep-19_singapore.png', '07-22_singapore.txt', '06-05_singapore.txt', '02-15_singapore.txt', '02-02_singapore.txt', 'jul-29_singapore.pdf', 'sep-20_singapore.png', 'nov-02_singapore.jpg', 'feb-17_singapore.png', '06-16_singapore.txt', 'nov-28_singapore.png', '04-19_singapore.txt', '06-01_singapore.txt', '07-26_singapore.txt', 'dec-25_singapore.png', '07-08_singapore.txt', 'sep-24_singapore.jpg', 'jul-14_singapore.pdf', 'feb-04_singapore.jpg', 'apr-13_singapore.pdf', 'aug-09_singapore.png', 'feb-13_singapore.jpg', 'jul-03_singapore.pdf', '10-19_singapore.txt', 'dec-25_singapore.pdf', 'nov-11_singapore.pdf', '11-07_singapore.txt', '10-20_singapore.txt', 'sep-24_singapore.pdf', 'jul-14_singapore.jpg', 'feb-04_singapore.pdf', 'apr-13_singapore.png', 'apr-04_singapore.jpg', '12-05_singapore.txt', 'jul-07_singapore.png', 'jun-08_singapore.jpg', '10-24_singapore.txt', '09-11_singapore.txt', '11-03_singapore.txt', 'may-13_singapore.jpg', 'nov-26_singapore.pdf', 'may-04_singapore.png', 'feb-24_singapore.pdf', 'jul-23_singapore.jpg', 'sep-13_singapore.pdf', '11-27_singapore.txt', 'jun-15_singapore.png', 'jun-02_singapore.jpg', 'jul-27_singapore.jpg', 'oct-10_singapore.pdf', '10-04_singapore.txt', 'jul-27_singapore.png', '10-13_singapore.txt', 'feb-20_singapore.pdf', 'apr-19_singapore.png', 'jul-09_singapore.png', '12-25_singapore.txt', 'oct-29_singapore.pdf', 'jun-06_singapore.png', 'feb-19_singapore.pdf', 'jun-11_singapore.jpg', 'oct-10_singapore.png', 'oct-07_singapore.jpg', '04-13_singapore.txt', '04-04_singapore.txt', 'oct-10_singapore.jpg', '05-23_singapore.txt', 'feb-19_singapore.jpg', 'jun-11_singapore.pdf', '03-05_singapore.txt', 'oct-29_singapore.jpg', '07-02_singapore.txt', 'jul-23_singapore.pdf', '02-08_singapore.txt', 'nov-26_singapore.jpg', '07-28_singapore.txt', '05-30_singapore.txt', '07-06_singapore.txt', 'nov-08_singapore.jpg', '05-09_singapore.txt', 'dec-05_singapore.jpg', '04-07_singapore.txt', '04-10_singapore.txt', '06-08_singapore.txt', 'oct-04_singapore.jpg', 'oct-13_singapore.png', 'feb-23_singapore.jpg', 'dec-02_singapore.png', 'jun-05_singapore.pdf', '07-16_singapore.txt', 'sep-07_singapore.jpg', 'nov-25_singapore.jpg', '04-14_singapore.txt', '04-03_singapore.txt', 'dec-28_singapore.jpg', 'dec-06_singapore.jpg', 'jun-16_singapore.pdf', 'jun-01_singapore.pdf', 'sep-29_singapore.jpg', '07-05_singapore.txt', '11-24_singapore.txt', '09-21_singapore.txt', 'feb-27_singapore.pdf', '08-06_singapore.txt', 'jun-01_singapore.jpg', 'jun-16_singapore.png', '12-22_singapore.txt', 'dec-06_singapore.pdf', 'jun-16_singapore.jpg', 'apr-23_singapore.jpg', 'sep-03_singapore.pdf', '09-25_singapore.txt', '10-10_singapore.txt', '10-07_singapore.txt', '11-20_singapore.txt', '10-29_singapore.txt', 'dec-02_singapore.pdf'], ['09-01_tokyo.txt', 'feb-19_tokyo.pdf', 'jul-19_tokyo.png', '02-19_tokyo.txt', 'dec-20_tokyo.pdf', 'feb-21_tokyo.png', 'jul-19_tokyo.jpg', '09-20_tokyo.txt', 'jun-05_tokyo.pdf', 'nov-12_tokyo.pdf', 'sep-04_tokyo.jpg', 'apr-23_tokyo.jpg', 'oct-01_tokyo.jpg', '07-29_tokyo.txt', '10-19_tokyo.txt', 'may-02_tokyo.jpg', '07-05_tokyo.txt', 'sep-10_tokyo.pdf', '04-12_tokyo.txt', '06-17_tokyo.txt', 'may-16_tokyo.png', 'feb-14_tokyo.pdf', 'apr-23_tokyo.pdf', '07-11_tokyo.txt', 'jun-29_tokyo.pdf', 'jun-11_tokyo.jpg', 'jan-19_tokyo.jpg', '02-14_tokyo.txt', '12-05_tokyo.txt', 'oct-20_tokyo.pdf', 'jun-08_tokyo.pdf', '02-21_tokyo.txt', 'jul-19_tokyo.pdf', 'may-23_tokyo.jpg', '01-22_tokyo.txt', '03-27_tokyo.txt', '10-14_tokyo.txt', 'feb-21_tokyo.pdf', 'aug-14_tokyo.pdf', '04-27_tokyo.txt', '11-12_tokyo.txt', '06-22_tokyo.txt', 'feb-06_tokyo.png', '09-26_tokyo.txt', 'oct-13_tokyo.jpg', '08-20_tokyo.txt', 'sep-16_tokyo.jpg', '06-29_tokyo.txt', 'may-28_tokyo.png', 'feb-12_tokyo.jpg', 'jun-17_tokyo.pdf', 'sep-02_tokyo.png', '06-08_tokyo.txt', '09-13_tokyo.txt', 'oct-26_tokyo.jpg', '01-08_tokyo.txt', 'mar-05_tokyo.png', 'jan-12_tokyo.jpg', 'jun-22_tokyo.pdf', 'apr-10_tokyo.jpg', '09-07_tokyo.txt', 'mar-05_tokyo.jpg', 'aug-12_tokyo.jpg', '10-06_tokyo.txt', 'jul-27_tokyo.png', 'apr-10_tokyo.pdf', 'feb-27_tokyo.pdf', 'aug-12_tokyo.pdf', '04-21_tokyo.txt', '02-27_tokyo.txt', 'jul-27_tokyo.jpg', 'apr-28_tokyo.png', '01-24_tokyo.txt', 'feb-06_tokyo.pdf', 'jul-06_tokyo.png', '06-05_tokyo.txt', '02-06_tokyo.txt', '03-14_tokyo.txt', 'jul-12_tokyo.jpg', '02-12_tokyo.txt', '06-11_tokyo.txt', 'mar-16_tokyo.png', '08-12_tokyo.txt', '09-14_tokyo.txt', 'apr-03_tokyo.jpg', 'jul-15_tokyo.pdf', 'nov-13_tokyo.pdf', 'sep-05_tokyo.png', 'aug-20_tokyo.jpg', '07-28_tokyo.txt', '09-21_tokyo.txt', '12-09_tokyo.txt', 'sep-11_tokyo.jpg', 'sep-11_tokyo.png', 'oct-14_tokyo.png', 'aug-20_tokyo.pdf', '05-15_tokyo.txt', '10-20_tokyo.txt', '12-25_tokyo.txt', '07-10_tokyo.txt', 'jun-28_tokyo.pdf', 'may-17_tokyo.jpg', '01-16_tokyo.txt', 'jan-20_tokyo.pdf', 'may-03_tokyo.jpg', '09-19_tokyo.txt', '07-04_tokyo.txt', '05-01_tokyo.txt', '04-07_tokyo.txt', '02-20_tokyo.txt', 'dec-19_tokyo.pdf', 'jun-25_tokyo.jpg', '03-26_tokyo.txt', 'jul-20_tokyo.png', 'feb-20_tokyo.pdf', 'apr-17_tokyo.pdf', '12-10_tokyo.txt', '11-13_tokyo.txt', '06-23_tokyo.txt', 'mar-16_tokyo.pdf', '10-01_tokyo.txt', 'oct-19_tokyo.png', '11-18_tokyo.txt', '06-28_tokyo.txt', 'mar-09_tokyo.pdf', 'oct-06_tokyo.jpg', 'nov-15_tokyo.pdf', 'nov-01_tokyo.pdf', 'may-05_tokyo.pdf', 'feb-07_tokyo.png', 'nov-18_tokyo.jpg', '03-18_tokyo.txt', 'jun-23_tokyo.pdf', '09-06_tokyo.txt', 'apr-29_tokyo.pdf', 'apr-11_tokyo.jpg', 'mar-04_tokyo.jpg', '04-18_tokyo.txt', '08-14_tokyo.txt', 'sep-22_tokyo.jpg', 'may-08_tokyo.png', 'may-30_tokyo.pdf', 'sep-22_tokyo.png', '10-13_tokyo.txt', 'jun-23_tokyo.png', '06-25_tokyo.txt', '04-20_tokyo.txt', '11-15_tokyo.txt', 'jul-26_tokyo.jpg', '11-01_tokyo.txt', 'sep-22_tokyo.pdf', '03-15_tokyo.txt', 'jul-13_tokyo.jpg', 'mar-09_tokyo.png', 'nov-15_tokyo.jpg', '02-13_tokyo.txt', '04-15_tokyo.txt', 'jul-13_tokyo.png', 'apr-24_tokyo.pdf', 'feb-13_tokyo.pdf', '10-26_tokyo.txt', '07-02_tokyo.txt', 'nov-01_tokyo.png', 'dec-06_tokyo.png', 'sep-17_tokyo.pdf', '02-07_tokyo.txt', 'may-05_tokyo.jpg', 'mar-18_tokyo.pdf', '11-09_tokyo.txt', '09-22_tokyo.txt', 'jul-02_tokyo.pdf', 'nov-04_tokyo.pdf', 'apr-21_tokyo.png', 'feb-16_tokyo.jpg', '04-28_tokyo.txt', '03-09_tokyo.txt', '09-17_tokyo.txt', 'nov-09_tokyo.png', '11-28_tokyo.txt', '06-18_tokyo.txt', '08-05_tokyo.txt', '11-04_tokyo.txt', 'mar-15_tokyo.pdf', '01-20_tokyo.txt', 'nov-25_tokyo.jpg', 'jan-16_tokyo.pdf', '06-20_tokyo.txt', '07-26_tokyo.txt', '05-23_tokyo.txt', '03-04_tokyo.txt', 'oct-17_tokyo.pdf', '05-02_tokyo.txt', 'jun-07_tokyo.png', 'jul-02_tokyo.png', '07-13_tokyo.txt', '05-16_tokyo.txt', 'sep-06_tokyo.pdf', '11-25_tokyo.txt', '04-10_tokyo.txt', '02-16_tokyo.txt', 'nov-28_tokyo.pdf', '09-11_tokyo.txt', 'oct-24_tokyo.jpg', 'feb-09_tokyo.pdf', 'sep-21_tokyo.jpg', '02-09_tokyo.txt', 'apr-12_tokyo.png', 'jun-20_tokyo.pdf', 'nov-23_tokyo.pdf', '09-05_tokyo.txt', 'mar-26_tokyo.png', 'dec-05_tokyo.pdf', 'nov-02_tokyo.pdf', 'sep-14_tokyo.jpg', 'feb-04_tokyo.jpg', 'oct-05_tokyo.jpg', '05-28_tokyo.txt', 'apr-27_tokyo.png', 'jul-10_tokyo.pdf', '06-07_tokyo.txt', 'jul-04_tokyo.png', '02-04_tokyo.txt', 'jul-28_tokyo.pdf', '03-16_tokyo.txt', '10-25_tokyo.txt', '12-20_tokyo.txt', '07-15_tokyo.txt', '11-23_tokyo.txt', '11-02_tokyo.txt', 'sep-19_tokyo.jpg', 'sep-21_tokyo.pdf', '04-23_tokyo.txt', '07-20_tokyo.txt', 'jun-18_tokyo.pdf', 'oct-08_tokyo.png', 'sep-07_tokyo.png', 'apr-20_tokyo.png', 'jun-12_tokyo.pdf', 'may-15_tokyo.pdf', 'sep-07_tokyo.jpg', '04-29_tokyo.txt', 'jan-22_tokyo.png', '11-08_tokyo.txt', 'sep-13_tokyo.png', 'nov-05_tokyo.pdf', '09-02_tokyo.txt', '01-19_tokyo.txt', 'feb-22_tokyo.png', 'nov-24_tokyo.pdf', '09-16_tokyo.txt', 'nov-08_tokyo.png', 'sep-26_tokyo.jpg', 'nov-24_tokyo.jpg', '02-22_tokyo.txt', '04-24_tokyo.txt', 'apr-15_tokyo.pdf', 'feb-22_tokyo.pdf', '07-27_tokyo.txt', '10-17_tokyo.txt', '12-06_tokyo.txt', '11-05_tokyo.txt', 'mar-14_tokyo.pdf', '07-12_tokyo.txt', '05-17_tokyo.txt', 'apr-20_tokyo.pdf', '06-14_tokyo.txt', '04-11_tokyo.txt', '11-24_tokyo.txt', 'apr-18_tokyo.png', 'may-01_tokyo.jpg', '03-05_tokyo.txt', '02-03_tokyo.txt', 'feb-03_tokyo.pdf', '05-03_tokyo.txt', '07-06_tokyo.txt', '07-19_tokyo.txt', '09-04_tokyo.txt', 'feb-24_tokyo.jpg', '05-08_tokyo.txt', '09-10_tokyo.txt', 'aug-05_tokyo.jpg', 'dec-09_tokyo.png', 'sep-20_tokyo.png', '12-19_tokyo.txt', 'sep-01_tokyo.png', 'jun-14_tokyo.pdf', 'feb-05_tokyo.png', 'nov-03_tokyo.pdf', 'mar-27_tokyo.jpg', '10-08_tokyo.txt', 'jan-24_tokyo.pdf', 'dec-10_tokyo.jpg', 'jul-29_tokyo.pdf', 'jun-14_tokyo.jpg', '01-12_tokyo.txt', 'jul-11_tokyo.png', '10-24_tokyo.txt', '11-22_tokyo.txt', '04-17_tokyo.txt', '06-12_tokyo.txt', 'nov-17_tokyo.png', 'nov-03_tokyo.png', '04-03_tokyo.txt', 'mar-27_tokyo.pdf', '05-05_tokyo.txt', 'jul-05_tokyo.png', '02-05_tokyo.txt', 'jan-08_tokyo.jpg', 'dec-25_tokyo.png', '11-17_tokyo.txt', '02-24_tokyo.txt', 'nov-22_tokyo.jpg', 'apr-07_tokyo.pdf', '05-30_tokyo.txt', 'oct-25_tokyo.pdf', '10-05_tokyo.txt', '11-03_tokyo.txt']]\n"
     ]
    }
   ],
   "source": [
    "city_files = []\n",
    "\n",
    "for city_namee in city_nnames:\n",
    "    city_files.append(glob.glob(f'*{city_namee}*'))\n",
    "    \n",
    "print (city_files)"
   ]
  },
  {
   "cell_type": "code",
   "execution_count": 53,
   "id": "3e9085cf",
   "metadata": {},
   "outputs": [],
   "source": [
    "import os\n",
    "import glob\n",
    "import shutil\n",
    "\n",
    "cities=['Cairo', 'Dhaka', 'Jakarta', 'Karachi', 'Manila',\n",
    " 'Melbourne', 'Osaka', 'Shanghai', 'Singapore', 'Tokyo']\n",
    "\n",
    "for c in cities:\n",
    "    for cy_fl in city_files:\n",
    "        for i in cy_fl:\n",
    "            t = f'{i}'.split('_')\n",
    "            if  t[1][:-4] == c.lower():\n",
    "                shutil.move(i, c)\n",
    "                \n"
   ]
  }
 ],
 "metadata": {
  "kernelspec": {
   "display_name": "Python 3 (ipykernel)",
   "language": "python",
   "name": "python3"
  },
  "language_info": {
   "codemirror_mode": {
    "name": "ipython",
    "version": 3
   },
   "file_extension": ".py",
   "mimetype": "text/x-python",
   "name": "python",
   "nbconvert_exporter": "python",
   "pygments_lexer": "ipython3",
   "version": "3.10.8"
  },
  "toc": {
   "base_numbering": 1,
   "nav_menu": {},
   "number_sections": true,
   "sideBar": true,
   "skip_h1_title": false,
   "title_cell": "Table of Contents",
   "title_sidebar": "Contents",
   "toc_cell": false,
   "toc_position": {},
   "toc_section_display": true,
   "toc_window_display": false
  },
  "varInspector": {
   "cols": {
    "lenName": 16,
    "lenType": 16,
    "lenVar": 40
   },
   "kernels_config": {
    "python": {
     "delete_cmd_postfix": "",
     "delete_cmd_prefix": "del ",
     "library": "var_list.py",
     "varRefreshCmd": "print(var_dic_list())"
    },
    "r": {
     "delete_cmd_postfix": ") ",
     "delete_cmd_prefix": "rm(",
     "library": "var_list.r",
     "varRefreshCmd": "cat(var_dic_list()) "
    }
   },
   "types_to_exclude": [
    "module",
    "function",
    "builtin_function_or_method",
    "instance",
    "_Feature"
   ],
   "window_display": false
  },
  "vscode": {
   "interpreter": {
    "hash": "31f2aee4e71d21fbe5cf8b01ff0e069b9275f58929596ceb00d14d90e3e16cd6"
   }
  }
 },
 "nbformat": 4,
 "nbformat_minor": 5
}
