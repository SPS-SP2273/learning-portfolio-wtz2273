{
 "cells": [
  {
   "cell_type": "markdown",
   "id": "123456",
   "metadata": {},
   "source": [
    "<div style=\"text-align:left;font-size:2em\"><span style=\"font-weight:bolder;font-size:1.25em\">SP2273 | Learning Portfolio</span><br><br><span style=\"font-weight:bold;color:darkred\">Basics (Nice)</span></div>"
   ]
  },
  {
   "cell_type": "markdown",
   "id": "6e12e5e3",
   "metadata": {},
   "source": [
    "## 1 Beyond Python Basics"
   ]
  },
  {
   "cell_type": "markdown",
   "id": "6263088c",
   "metadata": {},
   "source": [
    "### 1.1 If if is not enough"
   ]
  },
  {
   "cell_type": "code",
   "execution_count": 3,
   "id": "923e08a7",
   "metadata": {},
   "outputs": [
    {
     "name": "stdout",
     "output_type": "stream",
     "text": [
      "Hello Hero | Batman!\n"
     ]
    }
   ],
   "source": [
    "name = 'Batman'\n",
    "\n",
    "match name:\n",
    "    case 'Batman':\n",
    "        print('Hello Hero | Batman!')\n",
    "    case 'Robin':\n",
    "        print('Hello Sidekick | Robin!')\n",
    "    case _:\n",
    "        print('Hello World!')"
   ]
  },
  {
   "cell_type": "markdown",
   "id": "652823f8",
   "metadata": {},
   "source": [
    "### 1.2 Ternary operators or Conditional Statements"
   ]
  },
  {
   "cell_type": "code",
   "execution_count": 17,
   "id": "ccd83e53",
   "metadata": {},
   "outputs": [
    {
     "name": "stdout",
     "output_type": "stream",
     "text": [
      "Bonjour!\n"
     ]
    }
   ],
   "source": [
    "\n",
    "if nationality == 'French':\n",
    "    greeting = \"Bonjour!\"\n",
    "else:\n",
    "    greeting = \"Hello!\"\n",
    "    \n",
    "nationality = \"French\"  \n",
    "print (greeting)"
   ]
  },
  {
   "cell_type": "code",
   "execution_count": 25,
   "id": "aaffc66d",
   "metadata": {},
   "outputs": [
    {
     "name": "stdout",
     "output_type": "stream",
     "text": [
      "Hello\n"
     ]
    }
   ],
   "source": [
    "greeting = \"Bonjour!\" if nationality == 'French' else \"Hello\"\n",
    "nationality = \"随机\"\n",
    "print (greeting)"
   ]
  },
  {
   "cell_type": "code",
   "execution_count": 52,
   "id": "61a85920",
   "metadata": {},
   "outputs": [
    {
     "data": {
      "text/plain": [
       "'Bonjour!'"
      ]
     },
     "execution_count": 52,
     "metadata": {},
     "output_type": "execute_result"
    }
   ],
   "source": [
    "nationality = \"a\"\n",
    "(\"Bonjour!\", \"Hello!\")[nationality == 'French']\n",
    "\n",
    "#but for this one, nationality was defined by me as \"a\"?"
   ]
  },
  {
   "cell_type": "code",
   "execution_count": 59,
   "id": "5c01a147",
   "metadata": {},
   "outputs": [
    {
     "name": "stdout",
     "output_type": "stream",
     "text": [
      "No message\n"
     ]
    }
   ],
   "source": [
    "text = None\n",
    "message = text or \"No message\"\n",
    "print (message)"
   ]
  },
  {
   "cell_type": "markdown",
   "id": "3328bc95",
   "metadata": {},
   "source": [
    "### 1.3 Swapping values"
   ]
  },
  {
   "cell_type": "code",
   "execution_count": 61,
   "id": "9eea9e07",
   "metadata": {},
   "outputs": [
    {
     "name": "stdout",
     "output_type": "stream",
     "text": [
      "2 1\n"
     ]
    }
   ],
   "source": [
    "a, b = 1,2\n",
    "a, b = b,a\n",
    "print (a,b)"
   ]
  },
  {
   "cell_type": "markdown",
   "id": "dbfa1ad2",
   "metadata": {},
   "source": [
    "### 1.4 Never compare floats directly"
   ]
  },
  {
   "cell_type": "code",
   "execution_count": 62,
   "id": "ff9c973c",
   "metadata": {},
   "outputs": [
    {
     "data": {
      "text/plain": [
       "False"
      ]
     },
     "execution_count": 62,
     "metadata": {},
     "output_type": "execute_result"
    }
   ],
   "source": [
    "a = 0.1\n",
    "a3 = 0.3\n",
    "a*3 == a3\n",
    "\n",
    "#take away: Floating point numbers \n",
    "#CANNOT be exactly stored in a computer"
   ]
  },
  {
   "cell_type": "code",
   "execution_count": 63,
   "id": "8847106d",
   "metadata": {},
   "outputs": [
    {
     "name": "stdout",
     "output_type": "stream",
     "text": [
      "0.29999999999999999\n"
     ]
    }
   ],
   "source": [
    "print(f\"{0.3:1.17f}\")"
   ]
  },
  {
   "cell_type": "code",
   "execution_count": 66,
   "id": "e2233b94",
   "metadata": {},
   "outputs": [
    {
     "name": "stdout",
     "output_type": "stream",
     "text": [
      "True\n"
     ]
    }
   ],
   "source": [
    "eps = 1E-10\n",
    "print(abs(a * 3 - a3) < eps)"
   ]
  },
  {
   "cell_type": "code",
   "execution_count": 65,
   "id": "e78e9e4a",
   "metadata": {},
   "outputs": [
    {
     "name": "stdout",
     "output_type": "stream",
     "text": [
      "True\n"
     ]
    }
   ],
   "source": [
    "print(np.isclose(a * 3, a3))\n",
    "#how does python define 'is close'?\n",
    "#difference between the two less than 1E-10?"
   ]
  },
  {
   "cell_type": "markdown",
   "id": "327b1662",
   "metadata": {},
   "source": [
    "### 1.5 Operator precedance"
   ]
  },
  {
   "cell_type": "code",
   "execution_count": null,
   "id": "c29b449c",
   "metadata": {},
   "outputs": [],
   "source": [
    "\n",
    "# may i ask whats the difference between \n",
    "# Bitwise AND/ OR and \n",
    "# Boolean AND/ OR\n",
    "\n",
    "#Do we need to memorise every operator?\n"
   ]
  },
  {
   "cell_type": "markdown",
   "id": "9b815a69",
   "metadata": {},
   "source": [
    "## 2 Variables in Python"
   ]
  },
  {
   "cell_type": "markdown",
   "id": "50b574ea",
   "metadata": {},
   "source": [
    "### 2.1 Variables in Python are just names"
   ]
  },
  {
   "cell_type": "code",
   "execution_count": 69,
   "id": "ac2e30d8",
   "metadata": {},
   "outputs": [
    {
     "name": "stdout",
     "output_type": "stream",
     "text": [
      "x:[1, 2, 3], y:[1, 2, 3]\n"
     ]
    }
   ],
   "source": [
    "x = [1,2]\n",
    "y = x\n",
    "y.append(3)\n",
    "print (f\"x:{x}, y:{y}\")\n",
    "# I thought it may print (x:[1,2]\", y:[1,2,3])?\n",
    "# but it turned out to be wrong"
   ]
  },
  {
   "cell_type": "code",
   "execution_count": 79,
   "id": "23f67eb4",
   "metadata": {},
   "outputs": [],
   "source": [
    "#EXPLANATION:\n",
    "# x is bound to a list object with a value [1 ,2]\n",
    "x = [1, 2]\n",
    "\n",
    "# y is bound to the SAME list object with a value [1 ,2]\n",
    "y = x\n",
    "\n",
    "# y is used to change the value of the object from  [1, 2] to [1, 2, 3]\n",
    "y.append(3)"
   ]
  },
  {
   "cell_type": "code",
   "execution_count": 81,
   "id": "45f5d21c",
   "metadata": {},
   "outputs": [
    {
     "name": "stdout",
     "output_type": "stream",
     "text": [
      "x:[1, 2], y:[1, 2, 3]\n"
     ]
    }
   ],
   "source": [
    "x = [1,2]\n",
    "y = x.copy()\n",
    "y.append(3)\n",
    "print (f\"x:{x}, y:{y}\")\n",
    "\n",
    "#good to go"
   ]
  },
  {
   "cell_type": "code",
   "execution_count": 76,
   "id": "16b36256",
   "metadata": {},
   "outputs": [
    {
     "name": "stdout",
     "output_type": "stream",
     "text": [
      "x: 4304945392, y: 4304945392, 1: 4304945392\n"
     ]
    }
   ],
   "source": [
    "x = 1\n",
    "y = 1\n",
    "\n",
    "print(f\"x: {id(x)}, y: {id(y)}, 1: {id(1)}\")\n",
    "\n",
    "#output given on sps website is\n",
    "#\"x: 139937345255728, y: 139937345255728, 1: 139937345255728\"\n",
    "#may i know why my output is different?"
   ]
  },
  {
   "cell_type": "code",
   "execution_count": 77,
   "id": "8ed0679f",
   "metadata": {},
   "outputs": [
    {
     "name": "stdout",
     "output_type": "stream",
     "text": [
      "x: 4304945392, y: 4304945424\n"
     ]
    }
   ],
   "source": [
    "x = 1\n",
    "y = x + 1\n",
    "\n",
    "print(f\"x: {id(x)}, y: {id(y)}\")"
   ]
  },
  {
   "cell_type": "code",
   "execution_count": 78,
   "id": "e8d38cd2",
   "metadata": {},
   "outputs": [
    {
     "name": "stdout",
     "output_type": "stream",
     "text": [
      "1: 4304945392, 2: 4304945424\n"
     ]
    }
   ],
   "source": [
    "print(f\"1: {id(1)}, 2: {id(2)}\")"
   ]
  },
  {
   "cell_type": "markdown",
   "id": "cf3e402d",
   "metadata": {},
   "source": [
    "### 2.2 == is not the same as is"
   ]
  },
  {
   "cell_type": "code",
   "execution_count": 82,
   "id": "51dbc62e",
   "metadata": {},
   "outputs": [
    {
     "data": {
      "text/plain": [
       "False"
      ]
     },
     "execution_count": 82,
     "metadata": {},
     "output_type": "execute_result"
    }
   ],
   "source": [
    "x is y\n",
    "#ask if x and y are bound to \n",
    "#the same object by comparing the ID."
   ]
  },
  {
   "cell_type": "code",
   "execution_count": 83,
   "id": "2c6d0ed0",
   "metadata": {},
   "outputs": [
    {
     "data": {
      "text/plain": [
       "False"
      ]
     },
     "execution_count": 83,
     "metadata": {},
     "output_type": "execute_result"
    }
   ],
   "source": [
    "x == y\n",
    "#check for equality by running a function that \n",
    "#checks for equality"
   ]
  },
  {
   "cell_type": "code",
   "execution_count": 95,
   "id": "0321f986",
   "metadata": {},
   "outputs": [
    {
     "data": {
      "text/plain": [
       "False"
      ]
     },
     "execution_count": 95,
     "metadata": {},
     "output_type": "execute_result"
    }
   ],
   "source": [
    "x = \"12\"\n",
    "y = 12\n",
    "x is y"
   ]
  },
  {
   "cell_type": "code",
   "execution_count": 96,
   "id": "7d98c187",
   "metadata": {},
   "outputs": [
    {
     "data": {
      "text/plain": [
       "True"
      ]
     },
     "execution_count": 96,
     "metadata": {},
     "output_type": "execute_result"
    }
   ],
   "source": [
    "x = 12\n",
    "y = 12\n",
    "x is y"
   ]
  },
  {
   "cell_type": "code",
   "execution_count": 94,
   "id": "eb044f25",
   "metadata": {},
   "outputs": [
    {
     "data": {
      "text/plain": [
       "False"
      ]
     },
     "execution_count": 94,
     "metadata": {},
     "output_type": "execute_result"
    }
   ],
   "source": [
    "x = 12\n",
    "y = \"12\"\n",
    "x == y"
   ]
  },
  {
   "cell_type": "code",
   "execution_count": 98,
   "id": "57bde0a5",
   "metadata": {},
   "outputs": [
    {
     "data": {
      "text/plain": [
       "True"
      ]
     },
     "execution_count": 98,
     "metadata": {},
     "output_type": "execute_result"
    }
   ],
   "source": [
    "x = '12'\n",
    "y = '12'\n",
    "x == y"
   ]
  }
 ],
 "metadata": {
  "kernelspec": {
   "display_name": "Python 3 (ipykernel)",
   "language": "python",
   "name": "python3"
  },
  "language_info": {
   "codemirror_mode": {
    "name": "ipython",
    "version": 3
   },
   "file_extension": ".py",
   "mimetype": "text/x-python",
   "name": "python",
   "nbconvert_exporter": "python",
   "pygments_lexer": "ipython3",
   "version": "3.10.8"
  },
  "toc": {
   "base_numbering": 1,
   "nav_menu": {},
   "number_sections": true,
   "sideBar": true,
   "skip_h1_title": false,
   "title_cell": "Table of Contents",
   "title_sidebar": "Contents",
   "toc_cell": false,
   "toc_position": {},
   "toc_section_display": true,
   "toc_window_display": false
  },
  "varInspector": {
   "cols": {
    "lenName": 16,
    "lenType": 16,
    "lenVar": 40
   },
   "kernels_config": {
    "python": {
     "delete_cmd_postfix": "",
     "delete_cmd_prefix": "del ",
     "library": "var_list.py",
     "varRefreshCmd": "print(var_dic_list())"
    },
    "r": {
     "delete_cmd_postfix": ") ",
     "delete_cmd_prefix": "rm(",
     "library": "var_list.r",
     "varRefreshCmd": "cat(var_dic_list()) "
    }
   },
   "types_to_exclude": [
    "module",
    "function",
    "builtin_function_or_method",
    "instance",
    "_Feature"
   ],
   "window_display": false
  },
  "vscode": {
   "interpreter": {
    "hash": "31f2aee4e71d21fbe5cf8b01ff0e069b9275f58929596ceb00d14d90e3e16cd6"
   }
  }
 },
 "nbformat": 4,
 "nbformat_minor": 5
}
