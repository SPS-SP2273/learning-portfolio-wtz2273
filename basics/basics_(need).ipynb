{
 "cells": [
  {
   "cell_type": "markdown",
   "id": "123456",
   "metadata": {},
   "source": [
    "<div style=\"text-align:left;font-size:2em\"><span style=\"font-weight:bolder;font-size:1.25em\">SP2273 | Learning Portfolio</span><br><br><span style=\"font-weight:bold;color:darkred\">Basics (Need)</span></div>"
   ]
  },
  {
   "cell_type": "markdown",
   "id": "5c61ddec",
   "metadata": {},
   "source": [
    "## 1 Some Python Basics"
   ]
  },
  {
   "cell_type": "markdown",
   "id": "e5988a0d",
   "metadata": {},
   "source": [
    "### 1.1 Functions"
   ]
  },
  {
   "cell_type": "code",
   "execution_count": 1,
   "id": "d2d7a1ee",
   "metadata": {},
   "outputs": [
    {
     "name": "stdout",
     "output_type": "stream",
     "text": [
      "Hello world!\n"
     ]
    }
   ],
   "source": [
    "print('Hello world!')\n"
   ]
  },
  {
   "cell_type": "markdown",
   "id": "06984042",
   "metadata": {},
   "source": [
    "### 1.2 Python is interpreted"
   ]
  },
  {
   "cell_type": "code",
   "execution_count": 4,
   "id": "476b5eaf",
   "metadata": {},
   "outputs": [
    {
     "name": "stdout",
     "output_type": "stream",
     "text": [
      "Hello World\n",
      "Hello World again\n"
     ]
    }
   ],
   "source": [
    "print('Hello World')\n",
    "print('Hello World again')\n"
   ]
  },
  {
   "cell_type": "markdown",
   "id": "9371918c",
   "metadata": {},
   "source": [
    "### 1.3 Python is sensitive."
   ]
  },
  {
   "cell_type": "code",
   "execution_count": 8,
   "id": "849a4c11",
   "metadata": {},
   "outputs": [
    {
     "name": "stdout",
     "output_type": "stream",
     "text": [
      "hello world\n"
     ]
    },
    {
     "ename": "NameError",
     "evalue": "name 'Print' is not defined",
     "output_type": "error",
     "traceback": [
      "\u001b[0;31m---------------------------------------------------------------------------\u001b[0m",
      "\u001b[0;31mNameError\u001b[0m                                 Traceback (most recent call last)",
      "Cell \u001b[0;32mIn[8], line 2\u001b[0m\n\u001b[1;32m      1\u001b[0m \u001b[38;5;28mprint\u001b[39m (\u001b[38;5;124m'\u001b[39m\u001b[38;5;124mhello world\u001b[39m\u001b[38;5;124m'\u001b[39m)\n\u001b[0;32m----> 2\u001b[0m \u001b[43mPrint\u001b[49m (\u001b[38;5;124m'\u001b[39m\u001b[38;5;124mhello world\u001b[39m\u001b[38;5;124m'\u001b[39m)\n",
      "\u001b[0;31mNameError\u001b[0m: name 'Print' is not defined"
     ]
    }
   ],
   "source": [
    "print ('hello world')\n",
    "Print ('hello world')"
   ]
  },
  {
   "cell_type": "markdown",
   "id": "502154f5",
   "metadata": {},
   "source": [
    "### 1.4 Comments"
   ]
  },
  {
   "cell_type": "code",
   "execution_count": 9,
   "id": "eb8048d1",
   "metadata": {},
   "outputs": [
    {
     "name": "stdout",
     "output_type": "stream",
     "text": [
      "Hello world\n"
     ]
    }
   ],
   "source": [
    "print(\"Hello world\" )     # Printing \"Hello World.\"\n"
   ]
  },
  {
   "cell_type": "code",
   "execution_count": 10,
   "id": "e5bee4ab",
   "metadata": {},
   "outputs": [
    {
     "name": "stdout",
     "output_type": "stream",
     "text": [
      "one\n",
      "Three\n"
     ]
    }
   ],
   "source": [
    "# This is a comment\n",
    "print ('one')             #This is a comment.\n",
    "# print('Two')            # The interpreter ignores this line.\n",
    "print('Three')            # This is\n",
    "                          # also a way to\n",
    "                          # write comments"
   ]
  },
  {
   "cell_type": "markdown",
   "id": "582f6f60",
   "metadata": {},
   "source": [
    "### 1.5 = is not the same as =="
   ]
  },
  {
   "cell_type": "code",
   "execution_count": 11,
   "id": "d5411acd",
   "metadata": {},
   "outputs": [],
   "source": [
    "\n",
    "name = 'Batman'\n"
   ]
  },
  {
   "cell_type": "code",
   "execution_count": 12,
   "id": "675e57c4",
   "metadata": {},
   "outputs": [
    {
     "data": {
      "text/plain": [
       "True"
      ]
     },
     "execution_count": 12,
     "metadata": {},
     "output_type": "execute_result"
    }
   ],
   "source": [
    "name == 'Batman'       "
   ]
  },
  {
   "cell_type": "markdown",
   "id": "a2562d80",
   "metadata": {},
   "source": [
    "### 1.6 Use if to make decisions"
   ]
  },
  {
   "cell_type": "code",
   "execution_count": 13,
   "id": "b19acf92",
   "metadata": {},
   "outputs": [
    {
     "name": "stdout",
     "output_type": "stream",
     "text": [
      "Hello Hero | Batman!\n"
     ]
    }
   ],
   "source": [
    "name = 'Batman'\n",
    "\n",
    "if name == 'Batman':\n",
    "    print('Hello Hero | Batman!')\n",
    "else:\n",
    "    print('Hello World!')\n"
   ]
  },
  {
   "cell_type": "markdown",
   "id": "ac17e8e6",
   "metadata": {},
   "source": [
    "### 1.7 Indentations (spaces) are sooo IMPORTANT!"
   ]
  },
  {
   "cell_type": "code",
   "execution_count": 15,
   "id": "73e43e39",
   "metadata": {},
   "outputs": [
    {
     "name": "stdout",
     "output_type": "stream",
     "text": [
      "10\n"
     ]
    }
   ],
   "source": [
    "x = 10\n",
    "print(x)"
   ]
  },
  {
   "cell_type": "code",
   "execution_count": 16,
   "id": "cd2abae0",
   "metadata": {},
   "outputs": [
    {
     "ename": "IndentationError",
     "evalue": "unexpected indent (1537435392.py, line 2)",
     "output_type": "error",
     "traceback": [
      "\u001b[0;36m  Cell \u001b[0;32mIn[16], line 2\u001b[0;36m\u001b[0m\n\u001b[0;31m    print(x)\u001b[0m\n\u001b[0m    ^\u001b[0m\n\u001b[0;31mIndentationError\u001b[0m\u001b[0;31m:\u001b[0m unexpected indent\n"
     ]
    }
   ],
   "source": [
    "x = 10\n",
    " print(x)"
   ]
  },
  {
   "cell_type": "markdown",
   "id": "1a8fa6d5",
   "metadata": {},
   "source": [
    "### 1.8 ‘age’ is English, age is a variable."
   ]
  },
  {
   "cell_type": "code",
   "execution_count": 19,
   "id": "f292d0b4",
   "metadata": {},
   "outputs": [
    {
     "ename": "NameError",
     "evalue": "name 'age' is not defined",
     "output_type": "error",
     "traceback": [
      "\u001b[0;31m---------------------------------------------------------------------------\u001b[0m",
      "\u001b[0;31mNameError\u001b[0m                                 Traceback (most recent call last)",
      "Cell \u001b[0;32mIn[19], line 1\u001b[0m\n\u001b[0;32m----> 1\u001b[0m \u001b[38;5;28mprint\u001b[39m (\u001b[43mage\u001b[49m)\n",
      "\u001b[0;31mNameError\u001b[0m: name 'age' is not defined"
     ]
    }
   ],
   "source": [
    "print (age)\n"
   ]
  },
  {
   "cell_type": "code",
   "execution_count": 18,
   "id": "9e5edc04",
   "metadata": {},
   "outputs": [
    {
     "name": "stdout",
     "output_type": "stream",
     "text": [
      "age\n"
     ]
    }
   ],
   "source": [
    "print (\"age\")"
   ]
  },
  {
   "cell_type": "code",
   "execution_count": 23,
   "id": "5e281252",
   "metadata": {},
   "outputs": [
    {
     "name": "stdout",
     "output_type": "stream",
     "text": [
      "10\n"
     ]
    }
   ],
   "source": [
    "# age = 10\n",
    "print (age)"
   ]
  },
  {
   "cell_type": "code",
   "execution_count": 24,
   "id": "4144b9e9",
   "metadata": {},
   "outputs": [
    {
     "name": "stdout",
     "output_type": "stream",
     "text": [
      "You're twenty years old\n"
     ]
    }
   ],
   "source": [
    "print (\"You're twenty years old\")"
   ]
  },
  {
   "cell_type": "markdown",
   "id": "20c0689d",
   "metadata": {},
   "source": [
    "### 1.9 Escape sequences"
   ]
  },
  {
   "cell_type": "code",
   "execution_count": 13,
   "id": "a043e3b7",
   "metadata": {},
   "outputs": [
    {
     "name": "stdout",
     "output_type": "stream",
     "text": [
      "you're twenty years old.\n"
     ]
    }
   ],
   "source": [
    "print ('you\\'re twenty years old.')\n"
   ]
  },
  {
   "cell_type": "code",
   "execution_count": 21,
   "id": "ff7d2dd2",
   "metadata": {},
   "outputs": [
    {
     "name": "stdout",
     "output_type": "stream",
     "text": [
      "A\\B\\C\n"
     ]
    }
   ],
   "source": [
    "print ('A\\B\\C')\n",
    "#but if i code like this, it gives the same output?"
   ]
  },
  {
   "cell_type": "code",
   "execution_count": 18,
   "id": "ff89eae9",
   "metadata": {},
   "outputs": [
    {
     "name": "stdout",
     "output_type": "stream",
     "text": [
      "A\\B\\C\n"
     ]
    }
   ],
   "source": [
    "print ('A\\\\B\\\\C')     \n",
    "\n",
    "#may i ask whats the dfference between this line \n",
    "#and the above one? thank you!"
   ]
  },
  {
   "cell_type": "code",
   "execution_count": 20,
   "id": "ec1e0748",
   "metadata": {},
   "outputs": [
    {
     "name": "stdout",
     "output_type": "stream",
     "text": [
      "A\n",
      "B\n",
      "C\n"
     ]
    }
   ],
   "source": [
    "print('A\\nB\\nC')"
   ]
  },
  {
   "cell_type": "code",
   "execution_count": 22,
   "id": "0b49fd30",
   "metadata": {},
   "outputs": [
    {
     "name": "stdout",
     "output_type": "stream",
     "text": [
      "A\tB\tC\n"
     ]
    }
   ],
   "source": [
    "print ('A\\tB\\tC')"
   ]
  },
  {
   "cell_type": "markdown",
   "id": "694ed2da",
   "metadata": {},
   "source": [
    "### 1.10 Brackets"
   ]
  },
  {
   "cell_type": "code",
   "execution_count": 29,
   "id": "7323cee8",
   "metadata": {},
   "outputs": [
    {
     "name": "stdout",
     "output_type": "stream",
     "text": [
      "hello\n"
     ]
    }
   ],
   "source": [
    "print('hello')"
   ]
  },
  {
   "cell_type": "code",
   "execution_count": 30,
   "id": "1b96bc4c",
   "metadata": {},
   "outputs": [
    {
     "data": {
      "text/plain": [
       "15"
      ]
     },
     "execution_count": 30,
     "metadata": {},
     "output_type": "execute_result"
    }
   ],
   "source": [
    "(1+2)*5"
   ]
  },
  {
   "cell_type": "code",
   "execution_count": 36,
   "id": "e6cb639d",
   "metadata": {},
   "outputs": [],
   "source": [
    "py_list = [1, 2, 3, 4, 5]  \n",
    "\n",
    "#may i know why i cant see any output for this list"
   ]
  },
  {
   "cell_type": "code",
   "execution_count": 35,
   "id": "bbcaabf7",
   "metadata": {
    "code_folding": []
   },
   "outputs": [],
   "source": [
    "py_list_2 = [[1, \"A\"],      \n",
    "             [2, \"B\"],\n",
    "             [3, \"C\"],\n",
    "             [4, \"D\"],\n",
    "             [5, \"E\"]]"
   ]
  },
  {
   "cell_type": "code",
   "execution_count": 38,
   "id": "80766b77",
   "metadata": {},
   "outputs": [],
   "source": [
    "py_list = [1, 2, 3, 4, 5]   # A 1D list\n",
    "\n",
    "py_list_2 = [[1, \"A\"],      # A 2D list\n",
    "             [2, \"B\"],\n",
    "             [3, \"C\"],\n",
    "             [4, \"D\"],\n",
    "             [5, \"E\"]]\n",
    "\n",
    "#i copied from the instruction, but there is still no output QAQ"
   ]
  },
  {
   "cell_type": "code",
   "execution_count": 39,
   "id": "1c4b17a4",
   "metadata": {},
   "outputs": [],
   "source": [
    "personal_info = {\n",
    "    'Names': 'Batman',\n",
    "    'Real Name': 'Bruce Wayne',\n",
    "    'Age': 55,\n",
    "    'Affiliation': 'Justice League',\n",
    "    'Universe': 'DC'\n",
    "}"
   ]
  },
  {
   "cell_type": "code",
   "execution_count": 40,
   "id": "cb1d0223",
   "metadata": {},
   "outputs": [
    {
     "name": "stdout",
     "output_type": "stream",
     "text": [
      "Bruce Wayne\n"
     ]
    }
   ],
   "source": [
    "print (personal_info['Real Name'])"
   ]
  },
  {
   "cell_type": "markdown",
   "id": "aa22eeb2",
   "metadata": {},
   "source": [
    "## 2 Giving Python superpowers"
   ]
  },
  {
   "cell_type": "markdown",
   "id": "c74b0ae2",
   "metadata": {},
   "source": [
    "### 2.1 Packages"
   ]
  },
  {
   "cell_type": "code",
   "execution_count": 2,
   "id": "f56cfb3b",
   "metadata": {},
   "outputs": [
    {
     "data": {
      "text/plain": [
       "40.5"
      ]
     },
     "execution_count": 2,
     "metadata": {},
     "output_type": "execute_result"
    }
   ],
   "source": [
    "\n",
    "1 * ((2 - 3) + 4) ** 5 / 6"
   ]
  },
  {
   "cell_type": "code",
   "execution_count": 3,
   "id": "d31238cb",
   "metadata": {},
   "outputs": [
    {
     "ename": "NameError",
     "evalue": "name 'sqrt' is not defined",
     "output_type": "error",
     "traceback": [
      "\u001b[0;31m---------------------------------------------------------------------------\u001b[0m",
      "\u001b[0;31mNameError\u001b[0m                                 Traceback (most recent call last)",
      "Cell \u001b[0;32mIn[3], line 1\u001b[0m\n\u001b[0;32m----> 1\u001b[0m \u001b[43msqrt\u001b[49m(\u001b[38;5;241m4\u001b[39m)\n",
      "\u001b[0;31mNameError\u001b[0m: name 'sqrt' is not defined"
     ]
    }
   ],
   "source": [
    "sqrt(4)"
   ]
  },
  {
   "cell_type": "code",
   "execution_count": 6,
   "id": "924d9942",
   "metadata": {},
   "outputs": [],
   "source": [
    "import math #注，在本身基础上加入新功能（记）"
   ]
  },
  {
   "cell_type": "code",
   "execution_count": 5,
   "id": "2edbcfb1",
   "metadata": {},
   "outputs": [
    {
     "data": {
      "text/plain": [
       "2.0"
      ]
     },
     "execution_count": 5,
     "metadata": {},
     "output_type": "execute_result"
    }
   ],
   "source": [
    "math.sqrt(4)"
   ]
  },
  {
   "cell_type": "code",
   "execution_count": 19,
   "id": "f10766d0",
   "metadata": {},
   "outputs": [],
   "source": [
    "import numpy as np"
   ]
  },
  {
   "cell_type": "code",
   "execution_count": 18,
   "id": "1f16e0ae",
   "metadata": {},
   "outputs": [
    {
     "data": {
      "text/plain": [
       "2.0"
      ]
     },
     "execution_count": 18,
     "metadata": {},
     "output_type": "execute_result"
    }
   ],
   "source": [
    "np.sqrt(4)"
   ]
  },
  {
   "cell_type": "code",
   "execution_count": 24,
   "id": "d999ace3",
   "metadata": {},
   "outputs": [
    {
     "data": {
      "text/plain": [
       "array([2., 3., 4.])"
      ]
     },
     "execution_count": 24,
     "metadata": {},
     "output_type": "execute_result"
    }
   ],
   "source": [
    "np.sqrt([4, 9, 16])"
   ]
  },
  {
   "cell_type": "markdown",
   "id": "df99fa03",
   "metadata": {},
   "source": [
    "### 2.2 The dot (.)"
   ]
  },
  {
   "cell_type": "code",
   "execution_count": 29,
   "id": "e21db518",
   "metadata": {},
   "outputs": [
    {
     "data": {
      "text/plain": [
       "2.0"
      ]
     },
     "execution_count": 29,
     "metadata": {},
     "output_type": "execute_result"
    }
   ],
   "source": [
    "\n",
    "math. sqrt (4)  #may i ask why i typed 2 lines,\n",
    "np. sqrt (4)    #but it only gives one output\n"
   ]
  },
  {
   "cell_type": "code",
   "execution_count": 36,
   "id": "e1e66d52",
   "metadata": {},
   "outputs": [
    {
     "data": {
      "text/plain": [
       "['你在干嘛']"
      ]
     },
     "execution_count": 36,
     "metadata": {},
     "output_type": "execute_result"
    }
   ],
   "source": [
    "\"你在干嘛\".split() #it seems like python is not clever \n",
    "                 #enough to recognise seperated chinese word? "
   ]
  },
  {
   "cell_type": "code",
   "execution_count": 37,
   "id": "08cf9483",
   "metadata": {},
   "outputs": [
    {
     "data": {
      "text/plain": [
       "['你', '在', '干', '嘛']"
      ]
     },
     "execution_count": 37,
     "metadata": {},
     "output_type": "execute_result"
    }
   ],
   "source": [
    "\"你 在 干 嘛\".split() "
   ]
  },
  {
   "cell_type": "code",
   "execution_count": 41,
   "id": "5c02e001",
   "metadata": {},
   "outputs": [
    {
     "ename": "SyntaxError",
     "evalue": "invalid decimal literal (3897031440.py, line 1)",
     "output_type": "error",
     "traceback": [
      "\u001b[0;36m  Cell \u001b[0;32mIn[41], line 1\u001b[0;36m\u001b[0m\n\u001b[0;31m    1234.split()\u001b[0m\n\u001b[0m        ^\u001b[0m\n\u001b[0;31mSyntaxError\u001b[0m\u001b[0;31m:\u001b[0m invalid decimal literal\n"
     ]
    }
   ],
   "source": [
    "1234.split()"
   ]
  },
  {
   "cell_type": "code",
   "execution_count": 39,
   "id": "f1738211",
   "metadata": {},
   "outputs": [
    {
     "data": {
      "text/plain": [
       "['1', '2', '3', '4']"
      ]
     },
     "execution_count": 39,
     "metadata": {},
     "output_type": "execute_result"
    }
   ],
   "source": [
    "\"1 2 3 4\".split()"
   ]
  },
  {
   "cell_type": "code",
   "execution_count": 40,
   "id": "110d6b40",
   "metadata": {},
   "outputs": [
    {
     "data": {
      "text/plain": [
       "['1234']"
      ]
     },
     "execution_count": 40,
     "metadata": {},
     "output_type": "execute_result"
    }
   ],
   "source": [
    "\"1234\".split() #is it because we didnt use quotation mark?"
   ]
  },
  {
   "cell_type": "markdown",
   "id": "999d0e5c",
   "metadata": {},
   "source": [
    "## Exercise 1 :  Total recall?"
   ]
  },
  {
   "cell_type": "markdown",
   "id": "6e1b1e35",
   "metadata": {},
   "source": [
    "1. functions,\n",
    "1. comments\n",
    "1. mathematical signs(? **(wrong)** \n",
    "1. *== asks a question. (correct)* \n",
    "1. define (? like sth=sthetc **(wrong)**\n",
    "1. *= assigns a value (correct)*\n",
    "1. if x=y, do sth \n",
    "1. escape sequences\n",
    "1. brackets\n",
    "1. import package\n",
    "1. use . to show ownership\n",
    "\n"
   ]
  },
  {
   "cell_type": "markdown",
   "id": "8fd1fbc8",
   "metadata": {},
   "source": [
    "## Exercise 2 :  Debug me"
   ]
  },
  {
   "cell_type": "code",
   "execution_count": 87,
   "id": "41338836",
   "metadata": {},
   "outputs": [
    {
     "name": "stdout",
     "output_type": "stream",
     "text": [
      "3 4 5.0\n"
     ]
    }
   ],
   "source": [
    "x , y = 3 , 4\n",
    "import math\n",
    "(z) = math.sqrt((x)**2 + (y)**2)\n",
    "\n",
    "print(x , y , z)\n",
    "\n"
   ]
  },
  {
   "cell_type": "markdown",
   "id": "6cb126e1",
   "metadata": {},
   "source": [
    "## Exercise 3 :  In your own words"
   ]
  },
  {
   "cell_type": "markdown",
   "id": "16e691c1",
   "metadata": {},
   "source": [
    "1. Function\t\n",
    "intruction to perform a certain task\n",
    "1. Arguments\t\n",
    "value that is processed by function  \n",
    "1. Comments\t\n",
    "insert additional information (somethinglike FYI) that will not affect the code\n",
    "1. Indentations\t\n",
    "spaces at the beginning of a code line\n",
    "1. Packages\t\n",
    "include new functionalities beyond the basic functions of python\n",
    "1. . (Dot)\n",
    "in case of **A. B** indicate that **B** belongs to **A** "
   ]
  },
  {
   "cell_type": "markdown",
   "id": "1ebca3e5",
   "metadata": {},
   "source": [
    "## Exercise 4 :  More than one way to divide"
   ]
  },
  {
   "cell_type": "code",
   "execution_count": 91,
   "id": "daa9d674",
   "metadata": {},
   "outputs": [
    {
     "data": {
      "text/plain": [
       "2.5"
      ]
     },
     "execution_count": 91,
     "metadata": {},
     "output_type": "execute_result"
    }
   ],
   "source": [
    "5/2           # calculate the exact quotient 5 devided by 2\n",
    "\n"
   ]
  },
  {
   "cell_type": "code",
   "execution_count": 96,
   "id": "4aa15084",
   "metadata": {},
   "outputs": [
    {
     "data": {
      "text/plain": [
       "1"
      ]
     },
     "execution_count": 96,
     "metadata": {},
     "output_type": "execute_result"
    }
   ],
   "source": [
    "5//2         # calculate the integer quotient of 5 devided by 2"
   ]
  },
  {
   "cell_type": "code",
   "execution_count": 102,
   "id": "7d792993",
   "metadata": {},
   "outputs": [
    {
     "data": {
      "text/plain": [
       "1"
      ]
     },
     "execution_count": 102,
     "metadata": {},
     "output_type": "execute_result"
    }
   ],
   "source": [
    "5%2           # calculate the remainder of 5 devided by 2"
   ]
  }
 ],
 "metadata": {
  "kernelspec": {
   "display_name": "Python 3 (ipykernel)",
   "language": "python",
   "name": "python3"
  },
  "language_info": {
   "codemirror_mode": {
    "name": "ipython",
    "version": 3
   },
   "file_extension": ".py",
   "mimetype": "text/x-python",
   "name": "python",
   "nbconvert_exporter": "python",
   "pygments_lexer": "ipython3",
   "version": "3.10.8"
  },
  "toc": {
   "base_numbering": 1,
   "nav_menu": {},
   "number_sections": true,
   "sideBar": true,
   "skip_h1_title": false,
   "title_cell": "Table of Contents",
   "title_sidebar": "Contents",
   "toc_cell": false,
   "toc_position": {},
   "toc_section_display": true,
   "toc_window_display": false
  },
  "varInspector": {
   "cols": {
    "lenName": 16,
    "lenType": 16,
    "lenVar": 40
   },
   "kernels_config": {
    "python": {
     "delete_cmd_postfix": "",
     "delete_cmd_prefix": "del ",
     "library": "var_list.py",
     "varRefreshCmd": "print(var_dic_list())"
    },
    "r": {
     "delete_cmd_postfix": ") ",
     "delete_cmd_prefix": "rm(",
     "library": "var_list.r",
     "varRefreshCmd": "cat(var_dic_list()) "
    }
   },
   "types_to_exclude": [
    "module",
    "function",
    "builtin_function_or_method",
    "instance",
    "_Feature"
   ],
   "window_display": false
  },
  "vscode": {
   "interpreter": {
    "hash": "31f2aee4e71d21fbe5cf8b01ff0e069b9275f58929596ceb00d14d90e3e16cd6"
   }
  }
 },
 "nbformat": 4,
 "nbformat_minor": 5
}
