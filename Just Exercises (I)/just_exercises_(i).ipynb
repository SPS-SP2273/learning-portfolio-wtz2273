{
 "cells": [
  {
   "cell_type": "markdown",
   "id": "123456",
   "metadata": {},
   "source": [
    "<div style=\"text-align:left;font-size:2em\"><span style=\"font-weight:bolder;font-size:1.25em\">SP2273 | Learning Portfolio</span><br><br><span style=\"font-weight:bold;color:darkred\">Just Exercises (I)</span></div>"
   ]
  },
  {
   "cell_type": "markdown",
   "id": "6aa88238",
   "metadata": {},
   "source": [
    "## Exercise 1 :  F-strings to the rescue"
   ]
  },
  {
   "cell_type": "code",
   "execution_count": 2,
   "id": "7be8cfb2",
   "metadata": {},
   "outputs": [
    {
     "name": "stdout",
     "output_type": "stream",
     "text": [
      "00001\n",
      "00002\n",
      "00003\n",
      "00004\n",
      "00005\n",
      "00006\n",
      "00007\n",
      "00008\n",
      "00009\n",
      "00010\n"
     ]
    }
   ],
   "source": [
    "for i in range(1,11):\n",
    "    print(f\"{i:05}\") "
   ]
  },
  {
   "cell_type": "code",
   "execution_count": 11,
   "id": "bebffc72",
   "metadata": {},
   "outputs": [
    {
     "name": "stdout",
     "output_type": "stream",
     "text": [
      "001          +\n",
      "002         ++\n",
      "003        +++\n",
      "004       ++++\n",
      "005      +++++\n",
      "006     ++++++\n",
      "007    +++++++\n",
      "008   ++++++++\n",
      "009  +++++++++\n",
      "010 ++++++++++\n"
     ]
    }
   ],
   "source": [
    "for i in range(1,11):\n",
    "    print(f\"{i:03}\"+' '*(10-i), '+'*i) "
   ]
  },
  {
   "cell_type": "code",
   "execution_count": 15,
   "id": "2f2cf187",
   "metadata": {},
   "outputs": [
    {
     "name": "stdout",
     "output_type": "stream",
     "text": [
      "001 -+++++++++\n",
      "002 --++++++++\n",
      "003 ---+++++++\n",
      "004 ----++++++\n",
      "005 -----+++++\n",
      "006 ------++++\n",
      "007 -------+++\n",
      "008 --------++\n",
      "009 ---------+\n",
      "010 ----------\n"
     ]
    }
   ],
   "source": [
    "for i in range(1,11):\n",
    "    print(f\"{i:03}\" , '-'*i + '+'*(10-i)) "
   ]
  },
  {
   "cell_type": "code",
   "execution_count": 22,
   "id": "b61a2ce3",
   "metadata": {},
   "outputs": [
    {
     "name": "stdout",
     "output_type": "stream",
     "text": [
      "bruce_exploits.txt, bruce_enemies.txt,bruce_friends.txt,\n",
      "natasha_exploits.txt, natasha_enemies.txt,natasha_friends.txt,\n",
      "tony_exploits.txt, tony_enemies.txt,tony_friends.txt,\n"
     ]
    }
   ],
   "source": [
    "np_exploits_info = np.array(['bruce_exploits.txt', 'natasha_exploits.txt','tony_exploits.txt' ])\n",
    "np_enemies_info = np.array(['bruce_enemies.txt', 'natasha_enemies.txt', 'tony_enemies.txt'])\n",
    "np_friends_info = np.array(['bruce_friends.txt','natasha_friends.txt', 'tony_friends.txt'])\n",
    "\n",
    "for i, exploits in enumerate(np_exploits_info):\n",
    "    enemies = np_enemies_info[i]\n",
    "    friends = np_friends_info[i]\n",
    "    print(f'{exploits}, {enemies},{friends},')"
   ]
  },
  {
   "cell_type": "code",
   "execution_count": 49,
   "id": "65c68606",
   "metadata": {},
   "outputs": [
    {
     "name": "stdout",
     "output_type": "stream",
     "text": [
      "['bruce_exploits.txt', 'bruce_enemies.txt', 'bruce_friends.txt', 'natasha_exploits.txt', 'natasha_enemies.txt', 'natasha_friends.txt', 'tony_exploits.txt', 'tony_enemies.txt', 'tony_friends.txt']\n"
     ]
    }
   ],
   "source": [
    "name = ['bruce', 'natasha','tony' ]\n",
    "text = ['_exploits.txt', '_enemies.txt', '_friends.txt']\n",
    "my_list = []\n",
    "\n",
    "for i in name:\n",
    "    for a in text:\n",
    "        my_list.append(f'{i}{a}')\n",
    "print(my_list)"
   ]
  },
  {
   "cell_type": "code",
   "execution_count": 72,
   "id": "f5c8f620",
   "metadata": {},
   "outputs": [
    {
     "name": "stdout",
     "output_type": "stream",
     "text": [
      "['data_sg_exp-01_trial-001' 'data_sg_exp-01_trial-002'\n",
      " 'data_sg_exp-01_trial-003' 'data_sg_exp-01_trial-004'\n",
      " 'data_sg_exp-01_trial-005' 'data_sg_exp-01_trial-006'\n",
      " 'data_sg_exp-01_trial-007' 'data_sg_exp-01_trial-008'\n",
      " 'data_sg_exp-01_trial-009' 'data_sg_exp-01_trial-010'\n",
      " 'data_sg_exp-01_trial-011' 'data_sg_exp-01_trial-012'\n",
      " 'data_sg_exp-01_trial-013' 'data_sg_exp-01_trial-014'\n",
      " 'data_sg_exp-01_trial-015' 'data_sg_exp-01_trial-016'\n",
      " 'data_sg_exp-01_trial-017' 'data_sg_exp-01_trial-018'\n",
      " 'data_sg_exp-01_trial-019' 'data_sg_exp-01_trial-020'\n",
      " 'data_sg_exp-01_trial-021' 'data_sg_exp-01_trial-022'\n",
      " 'data_sg_exp-01_trial-023' 'data_sg_exp-01_trial-024'\n",
      " 'data_sg_exp-01_trial-025' 'data_sg_exp-01_trial-026'\n",
      " 'data_sg_exp-01_trial-027' 'data_sg_exp-01_trial-028'\n",
      " 'data_sg_exp-01_trial-029' 'data_sg_exp-01_trial-030'\n",
      " 'data_sg_exp-01_trial-031' 'data_sg_exp-01_trial-032'\n",
      " 'data_sg_exp-01_trial-033' 'data_sg_exp-01_trial-034'\n",
      " 'data_sg_exp-01_trial-035' 'data_sg_exp-01_trial-036'\n",
      " 'data_sg_exp-01_trial-037' 'data_sg_exp-01_trial-038'\n",
      " 'data_sg_exp-01_trial-039' 'data_sg_exp-01_trial-040'\n",
      " 'data_sg_exp-01_trial-041' 'data_sg_exp-01_trial-042'\n",
      " 'data_sg_exp-01_trial-043' 'data_sg_exp-01_trial-044'\n",
      " 'data_sg_exp-01_trial-045' 'data_sg_exp-01_trial-046'\n",
      " 'data_sg_exp-01_trial-047' 'data_sg_exp-01_trial-048'\n",
      " 'data_sg_exp-01_trial-049' 'data_sg_exp-01_trial-050'\n",
      " 'data_sg_exp-02_trial-001' 'data_sg_exp-02_trial-002'\n",
      " 'data_sg_exp-02_trial-003' 'data_sg_exp-02_trial-004'\n",
      " 'data_sg_exp-02_trial-005' 'data_sg_exp-02_trial-006'\n",
      " 'data_sg_exp-02_trial-007' 'data_sg_exp-02_trial-008'\n",
      " 'data_sg_exp-02_trial-009' 'data_sg_exp-02_trial-010'\n",
      " 'data_sg_exp-02_trial-011' 'data_sg_exp-02_trial-012'\n",
      " 'data_sg_exp-02_trial-013' 'data_sg_exp-02_trial-014'\n",
      " 'data_sg_exp-02_trial-015' 'data_sg_exp-02_trial-016'\n",
      " 'data_sg_exp-02_trial-017' 'data_sg_exp-02_trial-018'\n",
      " 'data_sg_exp-02_trial-019' 'data_sg_exp-02_trial-020'\n",
      " 'data_sg_exp-02_trial-021' 'data_sg_exp-02_trial-022'\n",
      " 'data_sg_exp-02_trial-023' 'data_sg_exp-02_trial-024'\n",
      " 'data_sg_exp-02_trial-025' 'data_sg_exp-02_trial-026'\n",
      " 'data_sg_exp-02_trial-027' 'data_sg_exp-02_trial-028'\n",
      " 'data_sg_exp-02_trial-029' 'data_sg_exp-02_trial-030'\n",
      " 'data_sg_exp-02_trial-031' 'data_sg_exp-02_trial-032'\n",
      " 'data_sg_exp-02_trial-033' 'data_sg_exp-02_trial-034'\n",
      " 'data_sg_exp-02_trial-035' 'data_sg_exp-02_trial-036'\n",
      " 'data_sg_exp-02_trial-037' 'data_sg_exp-02_trial-038'\n",
      " 'data_sg_exp-02_trial-039' 'data_sg_exp-02_trial-040'\n",
      " 'data_sg_exp-02_trial-041' 'data_sg_exp-02_trial-042'\n",
      " 'data_sg_exp-02_trial-043' 'data_sg_exp-02_trial-044'\n",
      " 'data_sg_exp-02_trial-045' 'data_sg_exp-02_trial-046'\n",
      " 'data_sg_exp-02_trial-047' 'data_sg_exp-02_trial-048'\n",
      " 'data_sg_exp-02_trial-049' 'data_sg_exp-02_trial-050'\n",
      " 'data_sg_exp-03_trial-001' 'data_sg_exp-03_trial-002'\n",
      " 'data_sg_exp-03_trial-003' 'data_sg_exp-03_trial-004'\n",
      " 'data_sg_exp-03_trial-005' 'data_sg_exp-03_trial-006'\n",
      " 'data_sg_exp-03_trial-007' 'data_sg_exp-03_trial-008'\n",
      " 'data_sg_exp-03_trial-009' 'data_sg_exp-03_trial-010'\n",
      " 'data_sg_exp-03_trial-011' 'data_sg_exp-03_trial-012'\n",
      " 'data_sg_exp-03_trial-013' 'data_sg_exp-03_trial-014'\n",
      " 'data_sg_exp-03_trial-015' 'data_sg_exp-03_trial-016'\n",
      " 'data_sg_exp-03_trial-017' 'data_sg_exp-03_trial-018'\n",
      " 'data_sg_exp-03_trial-019' 'data_sg_exp-03_trial-020'\n",
      " 'data_sg_exp-03_trial-021' 'data_sg_exp-03_trial-022'\n",
      " 'data_sg_exp-03_trial-023' 'data_sg_exp-03_trial-024'\n",
      " 'data_sg_exp-03_trial-025' 'data_sg_exp-03_trial-026'\n",
      " 'data_sg_exp-03_trial-027' 'data_sg_exp-03_trial-028'\n",
      " 'data_sg_exp-03_trial-029' 'data_sg_exp-03_trial-030'\n",
      " 'data_sg_exp-03_trial-031' 'data_sg_exp-03_trial-032'\n",
      " 'data_sg_exp-03_trial-033' 'data_sg_exp-03_trial-034'\n",
      " 'data_sg_exp-03_trial-035' 'data_sg_exp-03_trial-036'\n",
      " 'data_sg_exp-03_trial-037' 'data_sg_exp-03_trial-038'\n",
      " 'data_sg_exp-03_trial-039' 'data_sg_exp-03_trial-040'\n",
      " 'data_sg_exp-03_trial-041' 'data_sg_exp-03_trial-042'\n",
      " 'data_sg_exp-03_trial-043' 'data_sg_exp-03_trial-044'\n",
      " 'data_sg_exp-03_trial-045' 'data_sg_exp-03_trial-046'\n",
      " 'data_sg_exp-03_trial-047' 'data_sg_exp-03_trial-048'\n",
      " 'data_sg_exp-03_trial-049' 'data_sg_exp-03_trial-050'\n",
      " 'data_gb_exp-01_trial-001' 'data_gb_exp-01_trial-002'\n",
      " 'data_gb_exp-01_trial-003' 'data_gb_exp-01_trial-004'\n",
      " 'data_gb_exp-01_trial-005' 'data_gb_exp-01_trial-006'\n",
      " 'data_gb_exp-01_trial-007' 'data_gb_exp-01_trial-008'\n",
      " 'data_gb_exp-01_trial-009' 'data_gb_exp-01_trial-010'\n",
      " 'data_gb_exp-01_trial-011' 'data_gb_exp-01_trial-012'\n",
      " 'data_gb_exp-01_trial-013' 'data_gb_exp-01_trial-014'\n",
      " 'data_gb_exp-01_trial-015' 'data_gb_exp-01_trial-016'\n",
      " 'data_gb_exp-01_trial-017' 'data_gb_exp-01_trial-018'\n",
      " 'data_gb_exp-01_trial-019' 'data_gb_exp-01_trial-020'\n",
      " 'data_gb_exp-01_trial-021' 'data_gb_exp-01_trial-022'\n",
      " 'data_gb_exp-01_trial-023' 'data_gb_exp-01_trial-024'\n",
      " 'data_gb_exp-01_trial-025' 'data_gb_exp-01_trial-026'\n",
      " 'data_gb_exp-01_trial-027' 'data_gb_exp-01_trial-028'\n",
      " 'data_gb_exp-01_trial-029' 'data_gb_exp-01_trial-030'\n",
      " 'data_gb_exp-01_trial-031' 'data_gb_exp-01_trial-032'\n",
      " 'data_gb_exp-01_trial-033' 'data_gb_exp-01_trial-034'\n",
      " 'data_gb_exp-01_trial-035' 'data_gb_exp-01_trial-036'\n",
      " 'data_gb_exp-01_trial-037' 'data_gb_exp-01_trial-038'\n",
      " 'data_gb_exp-01_trial-039' 'data_gb_exp-01_trial-040'\n",
      " 'data_gb_exp-01_trial-041' 'data_gb_exp-01_trial-042'\n",
      " 'data_gb_exp-01_trial-043' 'data_gb_exp-01_trial-044'\n",
      " 'data_gb_exp-01_trial-045' 'data_gb_exp-01_trial-046'\n",
      " 'data_gb_exp-01_trial-047' 'data_gb_exp-01_trial-048'\n",
      " 'data_gb_exp-01_trial-049' 'data_gb_exp-01_trial-050'\n",
      " 'data_gb_exp-02_trial-001' 'data_gb_exp-02_trial-002'\n",
      " 'data_gb_exp-02_trial-003' 'data_gb_exp-02_trial-004'\n",
      " 'data_gb_exp-02_trial-005' 'data_gb_exp-02_trial-006'\n",
      " 'data_gb_exp-02_trial-007' 'data_gb_exp-02_trial-008'\n",
      " 'data_gb_exp-02_trial-009' 'data_gb_exp-02_trial-010'\n",
      " 'data_gb_exp-02_trial-011' 'data_gb_exp-02_trial-012'\n",
      " 'data_gb_exp-02_trial-013' 'data_gb_exp-02_trial-014'\n",
      " 'data_gb_exp-02_trial-015' 'data_gb_exp-02_trial-016'\n",
      " 'data_gb_exp-02_trial-017' 'data_gb_exp-02_trial-018'\n",
      " 'data_gb_exp-02_trial-019' 'data_gb_exp-02_trial-020'\n",
      " 'data_gb_exp-02_trial-021' 'data_gb_exp-02_trial-022'\n",
      " 'data_gb_exp-02_trial-023' 'data_gb_exp-02_trial-024'\n",
      " 'data_gb_exp-02_trial-025' 'data_gb_exp-02_trial-026'\n",
      " 'data_gb_exp-02_trial-027' 'data_gb_exp-02_trial-028'\n",
      " 'data_gb_exp-02_trial-029' 'data_gb_exp-02_trial-030'\n",
      " 'data_gb_exp-02_trial-031' 'data_gb_exp-02_trial-032'\n",
      " 'data_gb_exp-02_trial-033' 'data_gb_exp-02_trial-034'\n",
      " 'data_gb_exp-02_trial-035' 'data_gb_exp-02_trial-036'\n",
      " 'data_gb_exp-02_trial-037' 'data_gb_exp-02_trial-038'\n",
      " 'data_gb_exp-02_trial-039' 'data_gb_exp-02_trial-040'\n",
      " 'data_gb_exp-02_trial-041' 'data_gb_exp-02_trial-042'\n",
      " 'data_gb_exp-02_trial-043' 'data_gb_exp-02_trial-044'\n",
      " 'data_gb_exp-02_trial-045' 'data_gb_exp-02_trial-046'\n",
      " 'data_gb_exp-02_trial-047' 'data_gb_exp-02_trial-048'\n",
      " 'data_gb_exp-02_trial-049' 'data_gb_exp-02_trial-050'\n",
      " 'data_gb_exp-03_trial-001' 'data_gb_exp-03_trial-002'\n",
      " 'data_gb_exp-03_trial-003' 'data_gb_exp-03_trial-004'\n",
      " 'data_gb_exp-03_trial-005' 'data_gb_exp-03_trial-006'\n",
      " 'data_gb_exp-03_trial-007' 'data_gb_exp-03_trial-008'\n",
      " 'data_gb_exp-03_trial-009' 'data_gb_exp-03_trial-010'\n",
      " 'data_gb_exp-03_trial-011' 'data_gb_exp-03_trial-012'\n",
      " 'data_gb_exp-03_trial-013' 'data_gb_exp-03_trial-014'\n",
      " 'data_gb_exp-03_trial-015' 'data_gb_exp-03_trial-016'\n",
      " 'data_gb_exp-03_trial-017' 'data_gb_exp-03_trial-018'\n",
      " 'data_gb_exp-03_trial-019' 'data_gb_exp-03_trial-020'\n",
      " 'data_gb_exp-03_trial-021' 'data_gb_exp-03_trial-022'\n",
      " 'data_gb_exp-03_trial-023' 'data_gb_exp-03_trial-024'\n",
      " 'data_gb_exp-03_trial-025' 'data_gb_exp-03_trial-026'\n",
      " 'data_gb_exp-03_trial-027' 'data_gb_exp-03_trial-028'\n",
      " 'data_gb_exp-03_trial-029' 'data_gb_exp-03_trial-030'\n",
      " 'data_gb_exp-03_trial-031' 'data_gb_exp-03_trial-032'\n",
      " 'data_gb_exp-03_trial-033' 'data_gb_exp-03_trial-034'\n",
      " 'data_gb_exp-03_trial-035' 'data_gb_exp-03_trial-036'\n",
      " 'data_gb_exp-03_trial-037' 'data_gb_exp-03_trial-038'\n",
      " 'data_gb_exp-03_trial-039' 'data_gb_exp-03_trial-040'\n",
      " 'data_gb_exp-03_trial-041' 'data_gb_exp-03_trial-042'\n",
      " 'data_gb_exp-03_trial-043' 'data_gb_exp-03_trial-044'\n",
      " 'data_gb_exp-03_trial-045' 'data_gb_exp-03_trial-046'\n",
      " 'data_gb_exp-03_trial-047' 'data_gb_exp-03_trial-048'\n",
      " 'data_gb_exp-03_trial-049' 'data_gb_exp-03_trial-050'\n",
      " 'data_us_exp-01_trial-001' 'data_us_exp-01_trial-002'\n",
      " 'data_us_exp-01_trial-003' 'data_us_exp-01_trial-004'\n",
      " 'data_us_exp-01_trial-005' 'data_us_exp-01_trial-006'\n",
      " 'data_us_exp-01_trial-007' 'data_us_exp-01_trial-008'\n",
      " 'data_us_exp-01_trial-009' 'data_us_exp-01_trial-010'\n",
      " 'data_us_exp-01_trial-011' 'data_us_exp-01_trial-012'\n",
      " 'data_us_exp-01_trial-013' 'data_us_exp-01_trial-014'\n",
      " 'data_us_exp-01_trial-015' 'data_us_exp-01_trial-016'\n",
      " 'data_us_exp-01_trial-017' 'data_us_exp-01_trial-018'\n",
      " 'data_us_exp-01_trial-019' 'data_us_exp-01_trial-020'\n",
      " 'data_us_exp-01_trial-021' 'data_us_exp-01_trial-022'\n",
      " 'data_us_exp-01_trial-023' 'data_us_exp-01_trial-024'\n",
      " 'data_us_exp-01_trial-025' 'data_us_exp-01_trial-026'\n",
      " 'data_us_exp-01_trial-027' 'data_us_exp-01_trial-028'\n",
      " 'data_us_exp-01_trial-029' 'data_us_exp-01_trial-030'\n",
      " 'data_us_exp-01_trial-031' 'data_us_exp-01_trial-032'\n",
      " 'data_us_exp-01_trial-033' 'data_us_exp-01_trial-034'\n",
      " 'data_us_exp-01_trial-035' 'data_us_exp-01_trial-036'\n",
      " 'data_us_exp-01_trial-037' 'data_us_exp-01_trial-038'\n",
      " 'data_us_exp-01_trial-039' 'data_us_exp-01_trial-040'\n",
      " 'data_us_exp-01_trial-041' 'data_us_exp-01_trial-042'\n",
      " 'data_us_exp-01_trial-043' 'data_us_exp-01_trial-044'\n",
      " 'data_us_exp-01_trial-045' 'data_us_exp-01_trial-046'\n",
      " 'data_us_exp-01_trial-047' 'data_us_exp-01_trial-048'\n",
      " 'data_us_exp-01_trial-049' 'data_us_exp-01_trial-050'\n",
      " 'data_us_exp-02_trial-001' 'data_us_exp-02_trial-002'\n",
      " 'data_us_exp-02_trial-003' 'data_us_exp-02_trial-004'\n",
      " 'data_us_exp-02_trial-005' 'data_us_exp-02_trial-006'\n",
      " 'data_us_exp-02_trial-007' 'data_us_exp-02_trial-008'\n",
      " 'data_us_exp-02_trial-009' 'data_us_exp-02_trial-010'\n",
      " 'data_us_exp-02_trial-011' 'data_us_exp-02_trial-012'\n",
      " 'data_us_exp-02_trial-013' 'data_us_exp-02_trial-014'\n",
      " 'data_us_exp-02_trial-015' 'data_us_exp-02_trial-016'\n",
      " 'data_us_exp-02_trial-017' 'data_us_exp-02_trial-018'\n",
      " 'data_us_exp-02_trial-019' 'data_us_exp-02_trial-020'\n",
      " 'data_us_exp-02_trial-021' 'data_us_exp-02_trial-022'\n",
      " 'data_us_exp-02_trial-023' 'data_us_exp-02_trial-024'\n",
      " 'data_us_exp-02_trial-025' 'data_us_exp-02_trial-026'\n",
      " 'data_us_exp-02_trial-027' 'data_us_exp-02_trial-028'\n",
      " 'data_us_exp-02_trial-029' 'data_us_exp-02_trial-030'\n",
      " 'data_us_exp-02_trial-031' 'data_us_exp-02_trial-032'\n",
      " 'data_us_exp-02_trial-033' 'data_us_exp-02_trial-034'\n",
      " 'data_us_exp-02_trial-035' 'data_us_exp-02_trial-036'\n",
      " 'data_us_exp-02_trial-037' 'data_us_exp-02_trial-038'\n",
      " 'data_us_exp-02_trial-039' 'data_us_exp-02_trial-040'\n",
      " 'data_us_exp-02_trial-041' 'data_us_exp-02_trial-042'\n",
      " 'data_us_exp-02_trial-043' 'data_us_exp-02_trial-044'\n",
      " 'data_us_exp-02_trial-045' 'data_us_exp-02_trial-046'\n",
      " 'data_us_exp-02_trial-047' 'data_us_exp-02_trial-048'\n",
      " 'data_us_exp-02_trial-049' 'data_us_exp-02_trial-050'\n",
      " 'data_us_exp-03_trial-001' 'data_us_exp-03_trial-002'\n",
      " 'data_us_exp-03_trial-003' 'data_us_exp-03_trial-004'\n",
      " 'data_us_exp-03_trial-005' 'data_us_exp-03_trial-006'\n",
      " 'data_us_exp-03_trial-007' 'data_us_exp-03_trial-008'\n",
      " 'data_us_exp-03_trial-009' 'data_us_exp-03_trial-010'\n",
      " 'data_us_exp-03_trial-011' 'data_us_exp-03_trial-012'\n",
      " 'data_us_exp-03_trial-013' 'data_us_exp-03_trial-014'\n",
      " 'data_us_exp-03_trial-015' 'data_us_exp-03_trial-016'\n",
      " 'data_us_exp-03_trial-017' 'data_us_exp-03_trial-018'\n",
      " 'data_us_exp-03_trial-019' 'data_us_exp-03_trial-020'\n",
      " 'data_us_exp-03_trial-021' 'data_us_exp-03_trial-022'\n",
      " 'data_us_exp-03_trial-023' 'data_us_exp-03_trial-024'\n",
      " 'data_us_exp-03_trial-025' 'data_us_exp-03_trial-026'\n",
      " 'data_us_exp-03_trial-027' 'data_us_exp-03_trial-028'\n",
      " 'data_us_exp-03_trial-029' 'data_us_exp-03_trial-030'\n",
      " 'data_us_exp-03_trial-031' 'data_us_exp-03_trial-032'\n",
      " 'data_us_exp-03_trial-033' 'data_us_exp-03_trial-034'\n",
      " 'data_us_exp-03_trial-035' 'data_us_exp-03_trial-036'\n",
      " 'data_us_exp-03_trial-037' 'data_us_exp-03_trial-038'\n",
      " 'data_us_exp-03_trial-039' 'data_us_exp-03_trial-040'\n",
      " 'data_us_exp-03_trial-041' 'data_us_exp-03_trial-042'\n",
      " 'data_us_exp-03_trial-043' 'data_us_exp-03_trial-044'\n",
      " 'data_us_exp-03_trial-045' 'data_us_exp-03_trial-046'\n",
      " 'data_us_exp-03_trial-047' 'data_us_exp-03_trial-048'\n",
      " 'data_us_exp-03_trial-049' 'data_us_exp-03_trial-050']\n"
     ]
    }
   ],
   "source": [
    "country = ['sg','gb','us']\n",
    "experiment = ['01','02','03']\n",
    "xx_list = []\n",
    "\n",
    "for x in country:\n",
    "    for y in experiment:\n",
    "        for i in range(1,51):\n",
    "            xx_list.append(f'data_{x}_exp-{y}_trial-{i:03}')\n",
    "            np_aray_1 = np.array(xx_list)\n",
    "        \n",
    "print(np_aray_1)\n"
   ]
  },
  {
   "cell_type": "markdown",
   "id": "1ca2ff86",
   "metadata": {},
   "source": [
    "## Exercise 2 :  Tutti frutti"
   ]
  },
  {
   "cell_type": "code",
   "execution_count": 57,
   "id": "91c667ee",
   "metadata": {},
   "outputs": [],
   "source": [
    "fruits = ['apple', 'banana', 'pineapple', 'jackfruit',\n",
    "        \"peach\", \"durian\", \"watermelon\", \"mango\",\n",
    "        \"strawberry\", \"passionfruit\"]"
   ]
  },
  {
   "cell_type": "code",
   "execution_count": 12,
   "id": "73e05a85",
   "metadata": {},
   "outputs": [
    {
     "data": {
      "text/plain": [
       "True"
      ]
     },
     "execution_count": 12,
     "metadata": {},
     "output_type": "execute_result"
    }
   ],
   "source": [
    "'mango' in fruits"
   ]
  },
  {
   "cell_type": "code",
   "execution_count": 13,
   "id": "a3c44587",
   "metadata": {},
   "outputs": [
    {
     "name": "stdout",
     "output_type": "stream",
     "text": [
      "a e\n",
      "b a\n",
      "p e\n",
      "j t\n",
      "p h\n",
      "d n\n",
      "w n\n",
      "m o\n",
      "s y\n",
      "p t\n"
     ]
    }
   ],
   "source": [
    "for letter in fruits:\n",
    "    print (letter[0],letter[-1])"
   ]
  },
  {
   "cell_type": "code",
   "execution_count": 45,
   "id": "9a71f316",
   "metadata": {},
   "outputs": [
    {
     "name": "stdout",
     "output_type": "stream",
     "text": [
      "apple\n",
      "banana\n",
      "PINEAPPLE\n",
      "jackfruit\n",
      "PEACH\n",
      "durian\n",
      "watermelon\n",
      "mango\n",
      "strawberry\n",
      "PASSIONFRUIT\n"
     ]
    }
   ],
   "source": [
    "for word in fruits:\n",
    "    if word[0]== \"p\":\n",
    "        print (word.upper())\n",
    "    else:\n",
    "        print (word)"
   ]
  },
  {
   "cell_type": "code",
   "execution_count": 25,
   "id": "6a913059",
   "metadata": {},
   "outputs": [
    {
     "name": "stdout",
     "output_type": "stream",
     "text": [
      "['apple', 'banana', 'pineapple', 'jackfruit', 'peach', 'durian', 'watermelon', 'mango', 'strawberry', 'passionfruit', 'dragon fruit', 'apricots', 'oranges']\n"
     ]
    }
   ],
   "source": [
    "try1 = [\"dragon fruit\", \"apricots\", \"oranges\"]\n",
    "try1 = fruits + try1\n",
    "print (try1)"
   ]
  },
  {
   "cell_type": "code",
   "execution_count": 26,
   "id": "00946323",
   "metadata": {},
   "outputs": [
    {
     "name": "stdout",
     "output_type": "stream",
     "text": [
      "['dragon fruit', 'apricots', 'oranges', 'apple', 'banana', 'pineapple', 'jackfruit', 'peach', 'durian', 'watermelon', 'mango', 'strawberry', 'passionfruit']\n"
     ]
    }
   ],
   "source": [
    "try2 = [\"dragon fruit\", \"apricots\", \"oranges\"]\n",
    "try2 = try2 + fruits\n",
    "print (try2)"
   ]
  },
  {
   "cell_type": "code",
   "execution_count": 46,
   "id": "7755930d",
   "metadata": {},
   "outputs": [
    {
     "name": "stdout",
     "output_type": "stream",
     "text": [
      "['apple', 'banana', 'pineapple', 'jackfruit', 'peach', 'dragon fruit', 'apricots', 'oranges', 'durian', 'watermelon', 'mango', 'strawberry', 'passionfruit']\n"
     ]
    }
   ],
   "source": [
    "try3 = [\"dragon fruit\", \"apricots\", \"oranges\"]\n",
    "for word in range(3):\n",
    "    fruits.insert(5+word, try3[word])\n",
    "\n",
    "print (fruits)"
   ]
  },
  {
   "cell_type": "code",
   "execution_count": 60,
   "id": "eeaf646b",
   "metadata": {},
   "outputs": [
    {
     "name": "stdout",
     "output_type": "stream",
     "text": [
      "pineapple jackfruit watermelon strawberry passionfruit\n"
     ]
    }
   ],
   "source": [
    "newfruits = [word for word in fruits if len(word)>8]\n",
    "print (*newfruits)"
   ]
  },
  {
   "cell_type": "markdown",
   "id": "9b2da8f4",
   "metadata": {},
   "source": [
    "## Exercise 3 :  Ciao Fibonacci"
   ]
  },
  {
   "cell_type": "code",
   "execution_count": 2,
   "id": "55fad2fa",
   "metadata": {},
   "outputs": [
    {
     "name": "stdout",
     "output_type": "stream",
     "text": [
      "[0, 1, 1, 2, 3, 5, 8, 13, 21, 34, 55, 89, 144, 233, 377]\n"
     ]
    }
   ],
   "source": [
    "fibonnaci=[0, 1]\n",
    "for nu in range (2,15):\n",
    "    fibonnaci.append(fibonnaci[nu-1]+fibonnaci[nu-2])\n",
    "print (fibonnaci)"
   ]
  },
  {
   "cell_type": "markdown",
   "id": "94efa333",
   "metadata": {},
   "source": [
    "## Exercise 4 :  A function for Fibonacci"
   ]
  },
  {
   "cell_type": "code",
   "execution_count": 23,
   "id": "864e2214",
   "metadata": {},
   "outputs": [],
   "source": [
    "def fibonacci():\n",
    "    n=input(\"give me a number:\")\n",
    "    fibonnaci=[0, 1]\n",
    "    try:\n",
    "        if int(n)==0:\n",
    "            return(\"no answer!\")\n",
    "        if int(n)==1:\n",
    "            return(0) \n",
    "        else:\n",
    "            for nu in range (2,int(n)):\n",
    "                fibonnaci.append(fibonnaci[nu-1]+fibonnaci[nu-2])\n",
    "            return fibonnaci\n",
    "    except:\n",
    "            print(f\"please give me an integer!\")"
   ]
  },
  {
   "cell_type": "code",
   "execution_count": 25,
   "id": "2bb1c0cb",
   "metadata": {},
   "outputs": [
    {
     "name": "stdout",
     "output_type": "stream",
     "text": [
      "give me a number:2,5\n",
      "please give me an integer!\n"
     ]
    }
   ],
   "source": [
    "fibonacci()"
   ]
  },
  {
   "cell_type": "markdown",
   "id": "1495629c",
   "metadata": {},
   "source": [
    "## Exercise 5 :  max_info() without NumPy"
   ]
  },
  {
   "cell_type": "code",
   "execution_count": 54,
   "id": "f5e9f289",
   "metadata": {},
   "outputs": [],
   "source": [
    "def max_info(numbers):\n",
    "    my_max=numbers[0]\n",
    "    for num in numbers:\n",
    "        if num>my_max:\n",
    "            my_max=num\n",
    "            my_max_index=numbers.index(my_max)\n",
    "    return (my_max, my_max_index)\n",
    "        "
   ]
  },
  {
   "cell_type": "code",
   "execution_count": 55,
   "id": "da4a8975",
   "metadata": {},
   "outputs": [
    {
     "name": "stdout",
     "output_type": "stream",
     "text": [
      "(83, 2)\n"
     ]
    }
   ],
   "source": [
    "numbers = [40, 27, 83, 44, 74, 51, 76, 77, 10, 49]\n",
    "print(max_info(numbers))"
   ]
  },
  {
   "cell_type": "markdown",
   "id": "67c82d5f",
   "metadata": {},
   "source": [
    "## Exercise 6 :  Take count"
   ]
  },
  {
   "cell_type": "code",
   "execution_count": 5,
   "id": "4a20cff2",
   "metadata": {},
   "outputs": [
    {
     "name": "stdout",
     "output_type": "stream",
     "text": [
      "['A', 'G', 'G', 'C', 'A', 'A', 'G', 'A', 'A', 'G', 'C', 'T', 'A', 'G', 'A', 'A', 'T', 'T', 'C', 'T', 'G', 'G', 'C', 'C', 'T', 'G', 'A', 'G', 'T', 'A', 'T', 'C', 'T', 'C', 'A', 'G', 'T', 'A', 'C', 'A', 'G', 'G', 'C', 'G', 'C', 'A', 'G', 'T', 'C', 'G', 'A', 'A', 'T', 'C', 'T', 'T', 'C', 'C', 'G', 'G', 'A', 'A', 'T', 'C', 'A', 'C', 'A', 'T', 'T', 'G', 'C', 'T', 'C', 'G', 'C', 'G', 'C', 'T', 'T', 'A', 'A', 'A', 'C', 'C', 'C', 'G', 'C', 'T', 'C', 'T', 'A', 'A', 'A', 'C', 'C', 'T', 'T', 'T', 'G', 'A', 'G', 'T', 'A', 'A', 'T', 'T', 'C', 'G', 'A', 'C', 'G', 'A', 'C', 'A', 'T', 'T', 'G', 'G', 'G', 'T', 'T', 'C', 'C', 'C', 'T', 'C', 'C', 'G', 'A', 'C', 'G', 'C', 'T', 'G', 'T', 'C', 'T', 'G', 'A', 'C', 'A', 'A', 'C', 'T', 'C', 'T', 'T', 'T', 'A', 'A', 'G', 'A', 'T', 'C', 'C', 'T', 'T', 'G', 'G', 'C', 'A', 'C', 'G', 'A', 'T', 'G', 'T', 'C', 'G', 'A', 'T', 'A', 'G', 'A', 'C', 'A', 'T', 'T', 'G', 'T', 'C', 'C', 'C', 'T', 'G', 'A', 'T', 'G', 'A', 'C', 'G', 'C', 'C', 'T', 'C', 'A', 'C', 'A', 'A', 'G', 'G', 'T', 'A', 'A', 'C', 'C', 'T', 'G', 'G', 'C', 'T', 'C', 'T', 'A', 'G', 'T', 'A', 'G', 'G', 'G', 'T', 'G', 'G', 'T', 'C', 'T', 'T', 'T', 'G', 'C', 'T', 'G', 'C', 'G', 'G', 'A', 'A', 'C', 'T', 'T', 'A', 'C', 'C', 'A', 'C', 'C', 'T', 'G', 'G', 'T', 'G', 'G', 'A', 'T', 'C', 'C', 'A', 'A', 'G', 'C', 'A', 'C', 'C', 'A', 'G', 'A', 'G', 'G', 'A', 'G', 'T', 'T', 'C', 'G', 'A', 'A', 'G', 'A', 'G', 'G', 'C', 'T', 'G', 'G', 'G', 'G', 'T', 'A', 'C', 'C', 'C', 'C', 'C', 'T', 'A', 'T', 'T', 'T', 'A', 'G', 'G', 'A', 'A', 'G', 'G', 'G', 'C', 'G', 'A', 'G', 'A', 'C', 'T', 'A', 'C', 'G', 'G', 'T', 'C', 'A', 'C', 'A', 'A', 'A', 'T', 'T', 'C', 'C', 'A', 'A', 'A', 'T', 'G', 'G', 'C', 'T', 'T', 'C', 'C', 'C', 'T', 'C', 'G', 'A', 'T', 'T', 'C', 'A', 'T', 'G', 'A', 'C', 'G', 'C', 'C', 'A', 'G', 'A', 'A', 'T', 'G', 'C', 'C', 'T', 'G', 'G', 'C', 'T', 'G', 'T', 'G', 'C', 'C', 'A', 'A', 'T', 'T', 'T', 'G', 'T', 'C', 'G', 'C', 'C', 'T', 'T', 'G', 'C', 'G', 'T', 'C', 'G', 'T', 'T', 'C', 'T', 'G', 'T', 'C', 'A', 'A', 'T', 'C', 'T', 'T', 'T', 'A', 'C', 'T', 'C', 'G', 'T', 'G', 'T', 'C', 'G', 'T', 'G', 'T', 'T', 'G', 'T', 'G', 'A', 'T', 'A', 'A', 'A', 'T', 'G', 'A', 'C', 'A', 'A', 'A', 'C', 'C', 'C', 'T', 'G', 'C', 'A', 'C', 'A', 'A', 'C', 'G', 'T', 'A', 'G', 'G', 'G', 'C', 'T', 'C', 'A', 'C', 'A', 'C', 'A', 'A', 'G', 'G', 'G', 'A', 'A', 'T', 'C', 'T', 'A', 'G', 'A', 'G', 'T', 'A', 'T', 'C', 'C', 'G', 'A', 'T', 'A', 'C', 'A', 'G', 'G', 'G', 'A', 'G', 'C', 'T', 'T', 'T', 'A', 'G', 'C', 'T', 'T', 'C', 'C', 'G', 'T', 'C', 'C', 'C', 'T', 'T', 'A', 'T', 'A', 'G', 'C', 'C', 'T', 'G', 'C', 'C', 'A', 'T', 'A', 'T', 'T', 'C', 'T', 'T', 'G', 'C', 'G', 'G', 'T', 'A', 'G', 'C', 'A', 'C', 'G', 'A', 'G', 'C', 'C', 'T', 'C', 'A', 'G', 'A', 'T', 'C', 'T', 'T', 'C', 'T', 'C', 'A', 'C', 'T', 'C', 'C', 'G', 'G', 'A', 'A', 'A', 'T', 'G', 'G', 'G', 'A', 'G', 'C', 'T', 'T', 'C', 'G', 'A', 'C', 'G', 'G', 'T', 'C', 'A', 'A', 'G', 'G', 'G', 'C', 'T', 'A', 'A', 'G', 'A', 'C', 'G', 'T', 'C', 'T', 'T', 'C', 'G', 'G', 'G', 'A', 'G', 'A', 'A', 'A', 'T', 'A', 'C', 'C', 'T', 'A', 'G', 'G', 'C', 'G', 'A', 'T', 'G', 'A', 'C', 'C', 'C', 'T', 'G', 'A', 'G', 'T', 'G', 'G', 'T', 'T', 'T', 'T', 'C', 'C', 'G', 'C', 'G', 'T', 'A', 'T', 'A', 'A', 'C', 'T', 'C', 'A', 'T', 'C', 'C', 'T', 'G', 'G', 'T', 'T', 'G', 'C', 'A', 'A', 'A', 'T', 'G', 'A', 'T', 'T', 'A', 'C', 'C', 'G', 'T', 'T', 'A', 'T', 'A', 'G', 'C', 'C', 'T', 'G', 'G', 'G', 'G', 'A', 'T', 'A', 'T', 'G', 'C', 'C', 'T', 'C', 'A', 'A', 'T', 'T', 'C', 'C', 'G', 'A', 'A', 'C', 'C', 'C', 'A', 'G', 'G', 'A', 'G', 'C', 'A', 'T', 'C', 'A', 'C', 'T', 'C', 'G', 'A', 'G', 'C', 'A', 'A', 'T', 'A', 'G', 'C', 'G', 'G', 'T', 'A', 'A', 'A', 'G', 'G', 'A', 'G', 'G', 'C', 'T', 'A', 'T', 'T', 'A', 'G', 'C', 'A', 'A', 'A', 'A', 'T', 'T', 'G', 'T', 'C', 'A', 'C', 'G', 'A', 'T', 'A', 'A', 'G', 'C', 'G', 'C', 'C', 'G', 'T', 'T', 'G', 'T', 'A', 'G', 'T', 'G', 'A', 'A', 'A', 'T', 'T', 'A', 'A', 'G', 'A', 'T', 'A', 'C', 'A', 'T', 'A', 'C', 'A', 'T', 'C', 'G', 'T', 'T', 'T', 'A', 'G', 'C', 'A', 'C', 'A', 'T', 'C', 'A', 'C', 'T', 'C', 'T', 'C', 'A', 'C', 'G', 'G', 'C', 'G', 'T', 'C', 'T', 'A', 'G', 'A', 'A', 'G', 'C', 'T', 'G', 'A', 'T', 'C', 'T', 'T', 'C', 'A', 'T', 'A', 'T', 'G', 'C', 'T', 'G', 'A', 'C', 'T', 'C', 'A', 'G', 'A', 'A', 'G', 'G', 'C', 'T', 'C', 'G', 'G', 'A', 'T', 'A', 'A', 'T', 'A', 'G', 'A', 'G', 'G', 'A', 'C', 'G', 'A', 'A', 'G', 'G', 'T', 'A', 'G', 'T', 'T', 'T', 'A', 'C', 'T', 'C', 'A', 'T', 'C', 'G', 'C', 'T', 'G', 'C', 'C', 'C', 'C', 'G', 'A', 'C', 'T', 'A', 'T', 'T', 'A', 'C', 'G', 'T', 'G', 'T', 'G', 'C', 'A', 'T', 'G', 'A', 'T', 'A', 'A', 'A', 'G', 'T', 'C', 'T', 'G', 'A', 'C', 'C', 'C', 'T', 'G', 'A', 'C', 'G', 'T', 'T', 'C', 'C', 'C', 'A', 'A', 'G', 'C', 'C', 'G', 'A', 'G', 'G', 'C', 'A', 'G', 'A', 'G', 'G', 'G', 'G', 'T', 'T', 'T', 'T', 'A', 'C', 'G', 'C', 'T', 'G', 'A', 'A', 'T', 'G', 'T', 'C', 'C', 'G', 'C', 'T', 'C', 'T', 'C', 'T', 'G', 'T', 'C', 'G', 'G', 'A', 'T', 'G', 'A', 'T', 'T', 'T', 'C', 'G', 'G', 'A', 'A', 'G', 'C', 'T', 'G']\n"
     ]
    }
   ],
   "source": [
    "DNA ='AGGCAAGAAGCTAGAATTCTGGCCTGAGTATCTCAGTACAGGCGCAGTCGAATCTTCCGGAATCACATTGCTCGCGCTTAAACCCGCTCTAAACCTTTGAGTAATTCGACGACATTGGGTTCCCTCCGACGCTGTCTGACAACTCTTTAAGATCCTTGGCACGATGTCGATAGACATTGTCCCTGATGACGCCTCACAAGGTAACCTGGCTCTAGTAGGGTGGTCTTTGCTGCGGAACTTACCACCTGGTGGATCCAAGCACCAGAGGAGTTCGAAGAGGCTGGGGTACCCCCTATTTAGGAAGGGCGAGACTACGGTCACAAATTCCAAATGGCTTCCCTCGATTCATGACGCCAGAATGCCTGGCTGTGCCAATTTGTCGCCTTGCGTCGTTCTGTCAATCTTTACTCGTGTCGTGTTGTGATAAATGACAAACCCTGCACAACGTAGGGCTCACACAAGGGAATCTAGAGTATCCGATACAGGGAGCTTTAGCTTCCGTCCCTTATAGCCTGCCATATTCTTGCGGTAGCACGAGCCTCAGATCTTCTCACTCCGGAAATGGGAGCTTCGACGGTCAAGGGCTAAGACGTCTTCGGGAGAAATACCTAGGCGATGACCCTGAGTGGTTTTCCGCGTATAACTCATCCTGGTTGCAAATGATTACCGTTATAGCCTGGGGATATGCCTCAATTCCGAACCCAGGAGCATCACTCGAGCAATAGCGGTAAAGGAGGCTATTAGCAAAATTGTCACGATAAGCGCCGTTGTAGTGAAATTAAGATACATACATCGTTTAGCACATCACTCTCACGGCGTCTAGAAGCTGATCTTCATATGCTGACTCAGAAGGCTCGGATAATAGAGGACGAAGGTAGTTTACTCATCGCTGCCCCGACTATTACGTGTGCATGATAAAGTCTGACCCTGACGTTCCCAAGCCGAGGCAGAGGGGTTTTACGCTGAATGTCCGCTCTCTGTCGGATGATTTCGGAAGCTG'\n",
    "list2=list(DNA)\n",
    "print (list2)\n"
   ]
  },
  {
   "cell_type": "code",
   "execution_count": 6,
   "id": "640d898b",
   "metadata": {},
   "outputs": [
    {
     "name": "stdout",
     "output_type": "stream",
     "text": [
      "254\n"
     ]
    }
   ],
   "source": [
    "count=0\n",
    "for letter in list2:\n",
    "    if letter == 'T':\n",
    "        count = count +1\n",
    "print(count)"
   ]
  },
  {
   "cell_type": "code",
   "execution_count": 7,
   "id": "21139118",
   "metadata": {},
   "outputs": [
    {
     "data": {
      "text/plain": [
       "254"
      ]
     },
     "execution_count": 7,
     "metadata": {},
     "output_type": "execute_result"
    }
   ],
   "source": [
    "([t for t in list2 if t=='T']).count('T')"
   ]
  },
  {
   "cell_type": "code",
   "execution_count": 8,
   "id": "0e770702",
   "metadata": {},
   "outputs": [
    {
     "name": "stdout",
     "output_type": "stream",
     "text": [
      "{'A': 247, 'C': 250, 'G': 249, 'T': 254}\n"
     ]
    }
   ],
   "source": [
    "count1=0\n",
    "count2=0\n",
    "count3=0\n",
    "count4=0\n",
    "\n",
    "\n",
    "for letter in list2:\n",
    "    if letter == 'A':\n",
    "        count1 = count1 +1\n",
    "    elif letter == 'C':\n",
    "        count2 = count2 +1\n",
    "    elif letter == 'G':\n",
    "        count3 = count3 +1\n",
    "    else:\n",
    "        count4 = count4 +1\n",
    "        \n",
    "letter_info = {\"A\": count1,\n",
    "               \"C\": count2,\n",
    "               \"G\": count3,\n",
    "               \"T\": count4\n",
    "               }\n",
    "        \n",
    "print(letter_info)"
   ]
  },
  {
   "cell_type": "code",
   "execution_count": 9,
   "id": "6b53ceb8",
   "metadata": {},
   "outputs": [
    {
     "data": {
      "text/plain": [
       "(array(['A', 'C', 'G', 'T'], dtype='<U1'), array([247, 250, 249, 254]))"
      ]
     },
     "execution_count": 9,
     "metadata": {},
     "output_type": "execute_result"
    }
   ],
   "source": [
    "list_np= np.array(list2)\n",
    "np.unique(list_np,return_counts=True)"
   ]
  },
  {
   "cell_type": "code",
   "execution_count": 28,
   "id": "e2fc4c32",
   "metadata": {},
   "outputs": [
    {
     "data": {
      "text/plain": [
       "['A', 'G', 'G', 'C']"
      ]
     },
     "execution_count": 28,
     "metadata": {},
     "output_type": "execute_result"
    }
   ],
   "source": [
    "list2[0*4:(0+1)*4]"
   ]
  },
  {
   "cell_type": "code",
   "execution_count": 42,
   "id": "5a5c5976",
   "metadata": {},
   "outputs": [
    {
     "name": "stdout",
     "output_type": "stream",
     "text": [
      "['A', 'G', 'G', 'C']\n",
      "['A', 'A', 'G', 'A']\n",
      "['A', 'G', 'C', 'T']\n",
      "['A', 'G', 'A', 'A']\n",
      "['T', 'T', 'C', 'T']\n",
      "['G', 'G', 'C', 'C']\n",
      "['T', 'G', 'A', 'G']\n",
      "['T', 'A', 'T', 'C']\n",
      "['T', 'C', 'A', 'G']\n",
      "['T', 'A', 'C', 'A']\n",
      "['G', 'G', 'C', 'G']\n",
      "['C', 'A', 'G', 'T']\n",
      "['C', 'G', 'A', 'A']\n",
      "['T', 'C', 'T', 'T']\n",
      "['C', 'C', 'G', 'G']\n",
      "['A', 'A', 'T', 'C']\n",
      "['A', 'C', 'A', 'T']\n",
      "['T', 'G', 'C', 'T']\n",
      "['C', 'G', 'C', 'G']\n",
      "['C', 'T', 'T', 'A']\n",
      "['A', 'A', 'C', 'C']\n",
      "['C', 'G', 'C', 'T']\n",
      "['C', 'T', 'A', 'A']\n",
      "['A', 'C', 'C', 'T']\n",
      "['T', 'T', 'G', 'A']\n",
      "['G', 'T', 'A', 'A']\n",
      "['T', 'T', 'C', 'G']\n",
      "['A', 'C', 'G', 'A']\n",
      "['C', 'A', 'T', 'T']\n",
      "['G', 'G', 'G', 'T']\n",
      "['T', 'C', 'C', 'C']\n",
      "['T', 'C', 'C', 'G']\n",
      "['A', 'C', 'G', 'C']\n",
      "['T', 'G', 'T', 'C']\n",
      "['T', 'G', 'A', 'C']\n",
      "['A', 'A', 'C', 'T']\n",
      "['C', 'T', 'T', 'T']\n",
      "['A', 'A', 'G', 'A']\n",
      "['T', 'C', 'C', 'T']\n",
      "['T', 'G', 'G', 'C']\n",
      "['A', 'C', 'G', 'A']\n",
      "['T', 'G', 'T', 'C']\n",
      "['G', 'A', 'T', 'A']\n",
      "['G', 'A', 'C', 'A']\n",
      "['T', 'T', 'G', 'T']\n",
      "['C', 'C', 'C', 'T']\n",
      "['G', 'A', 'T', 'G']\n",
      "['A', 'C', 'G', 'C']\n",
      "['C', 'T', 'C', 'A']\n",
      "['C', 'A', 'A', 'G']\n",
      "['G', 'T', 'A', 'A']\n",
      "['C', 'C', 'T', 'G']\n",
      "['G', 'C', 'T', 'C']\n",
      "['T', 'A', 'G', 'T']\n",
      "['A', 'G', 'G', 'G']\n",
      "['T', 'G', 'G', 'T']\n",
      "['C', 'T', 'T', 'T']\n",
      "['G', 'C', 'T', 'G']\n",
      "['C', 'G', 'G', 'A']\n",
      "['A', 'C', 'T', 'T']\n",
      "['A', 'C', 'C', 'A']\n",
      "['C', 'C', 'T', 'G']\n",
      "['G', 'T', 'G', 'G']\n",
      "['A', 'T', 'C', 'C']\n",
      "['A', 'A', 'G', 'C']\n",
      "['A', 'C', 'C', 'A']\n",
      "['G', 'A', 'G', 'G']\n",
      "['A', 'G', 'T', 'T']\n",
      "['C', 'G', 'A', 'A']\n",
      "['G', 'A', 'G', 'G']\n",
      "['C', 'T', 'G', 'G']\n",
      "['G', 'G', 'T', 'A']\n",
      "['C', 'C', 'C', 'C']\n",
      "['C', 'T', 'A', 'T']\n",
      "['T', 'T', 'A', 'G']\n",
      "['G', 'A', 'A', 'G']\n",
      "['G', 'G', 'C', 'G']\n",
      "['A', 'G', 'A', 'C']\n",
      "['T', 'A', 'C', 'G']\n",
      "['G', 'T', 'C', 'A']\n",
      "['C', 'A', 'A', 'A']\n",
      "['T', 'T', 'C', 'C']\n",
      "['A', 'A', 'A', 'T']\n",
      "['G', 'G', 'C', 'T']\n",
      "['T', 'C', 'C', 'C']\n",
      "['T', 'C', 'G', 'A']\n",
      "['T', 'T', 'C', 'A']\n",
      "['T', 'G', 'A', 'C']\n",
      "['G', 'C', 'C', 'A']\n",
      "['G', 'A', 'A', 'T']\n",
      "['G', 'C', 'C', 'T']\n",
      "['G', 'G', 'C', 'T']\n",
      "['G', 'T', 'G', 'C']\n",
      "['C', 'A', 'A', 'T']\n",
      "['T', 'T', 'G', 'T']\n",
      "['C', 'G', 'C', 'C']\n",
      "['T', 'T', 'G', 'C']\n",
      "['G', 'T', 'C', 'G']\n",
      "['T', 'T', 'C', 'T']\n",
      "['G', 'T', 'C', 'A']\n",
      "['A', 'T', 'C', 'T']\n",
      "['T', 'T', 'A', 'C']\n",
      "['T', 'C', 'G', 'T']\n",
      "['G', 'T', 'C', 'G']\n",
      "['T', 'G', 'T', 'T']\n",
      "['G', 'T', 'G', 'A']\n",
      "['T', 'A', 'A', 'A']\n",
      "['T', 'G', 'A', 'C']\n",
      "['A', 'A', 'A', 'C']\n",
      "['C', 'C', 'T', 'G']\n",
      "['C', 'A', 'C', 'A']\n",
      "['A', 'C', 'G', 'T']\n",
      "['A', 'G', 'G', 'G']\n",
      "['C', 'T', 'C', 'A']\n",
      "['C', 'A', 'C', 'A']\n",
      "['A', 'G', 'G', 'G']\n",
      "['A', 'A', 'T', 'C']\n",
      "['T', 'A', 'G', 'A']\n",
      "['G', 'T', 'A', 'T']\n",
      "['C', 'C', 'G', 'A']\n",
      "['T', 'A', 'C', 'A']\n",
      "['G', 'G', 'G', 'A']\n",
      "['G', 'C', 'T', 'T']\n",
      "['T', 'A', 'G', 'C']\n",
      "['T', 'T', 'C', 'C']\n",
      "['G', 'T', 'C', 'C']\n",
      "['C', 'T', 'T', 'A']\n",
      "['T', 'A', 'G', 'C']\n",
      "['C', 'T', 'G', 'C']\n",
      "['C', 'A', 'T', 'A']\n",
      "['T', 'T', 'C', 'T']\n",
      "['T', 'G', 'C', 'G']\n",
      "['G', 'T', 'A', 'G']\n",
      "['C', 'A', 'C', 'G']\n",
      "['A', 'G', 'C', 'C']\n",
      "['T', 'C', 'A', 'G']\n",
      "['A', 'T', 'C', 'T']\n",
      "['T', 'C', 'T', 'C']\n",
      "['A', 'C', 'T', 'C']\n",
      "['C', 'G', 'G', 'A']\n",
      "['A', 'A', 'T', 'G']\n",
      "['G', 'G', 'A', 'G']\n",
      "['C', 'T', 'T', 'C']\n",
      "['G', 'A', 'C', 'G']\n",
      "['G', 'T', 'C', 'A']\n",
      "['A', 'G', 'G', 'G']\n",
      "['C', 'T', 'A', 'A']\n",
      "['G', 'A', 'C', 'G']\n",
      "['T', 'C', 'T', 'T']\n",
      "['C', 'G', 'G', 'G']\n",
      "['A', 'G', 'A', 'A']\n",
      "['A', 'T', 'A', 'C']\n",
      "['C', 'T', 'A', 'G']\n",
      "['G', 'C', 'G', 'A']\n",
      "['T', 'G', 'A', 'C']\n",
      "['C', 'C', 'T', 'G']\n",
      "['A', 'G', 'T', 'G']\n",
      "['G', 'T', 'T', 'T']\n",
      "['T', 'C', 'C', 'G']\n",
      "['C', 'G', 'T', 'A']\n",
      "['T', 'A', 'A', 'C']\n",
      "['T', 'C', 'A', 'T']\n",
      "['C', 'C', 'T', 'G']\n",
      "['G', 'T', 'T', 'G']\n",
      "['C', 'A', 'A', 'A']\n",
      "['T', 'G', 'A', 'T']\n",
      "['T', 'A', 'C', 'C']\n",
      "['G', 'T', 'T', 'A']\n",
      "['T', 'A', 'G', 'C']\n",
      "['C', 'T', 'G', 'G']\n",
      "['G', 'G', 'A', 'T']\n",
      "['A', 'T', 'G', 'C']\n",
      "['C', 'T', 'C', 'A']\n",
      "['A', 'T', 'T', 'C']\n",
      "['C', 'G', 'A', 'A']\n",
      "['C', 'C', 'C', 'A']\n",
      "['G', 'G', 'A', 'G']\n",
      "['C', 'A', 'T', 'C']\n",
      "['A', 'C', 'T', 'C']\n",
      "['G', 'A', 'G', 'C']\n",
      "['A', 'A', 'T', 'A']\n",
      "['G', 'C', 'G', 'G']\n",
      "['T', 'A', 'A', 'A']\n",
      "['G', 'G', 'A', 'G']\n",
      "['G', 'C', 'T', 'A']\n",
      "['T', 'T', 'A', 'G']\n",
      "['C', 'A', 'A', 'A']\n",
      "['A', 'T', 'T', 'G']\n",
      "['T', 'C', 'A', 'C']\n",
      "['G', 'A', 'T', 'A']\n",
      "['A', 'G', 'C', 'G']\n",
      "['C', 'C', 'G', 'T']\n",
      "['T', 'G', 'T', 'A']\n",
      "['G', 'T', 'G', 'A']\n",
      "['A', 'A', 'T', 'T']\n",
      "['A', 'A', 'G', 'A']\n",
      "['T', 'A', 'C', 'A']\n",
      "['T', 'A', 'C', 'A']\n",
      "['T', 'C', 'G', 'T']\n",
      "['T', 'T', 'A', 'G']\n",
      "['C', 'A', 'C', 'A']\n",
      "['T', 'C', 'A', 'C']\n",
      "['T', 'C', 'T', 'C']\n",
      "['A', 'C', 'G', 'G']\n",
      "['C', 'G', 'T', 'C']\n",
      "['T', 'A', 'G', 'A']\n",
      "['A', 'G', 'C', 'T']\n",
      "['G', 'A', 'T', 'C']\n",
      "['T', 'T', 'C', 'A']\n",
      "['T', 'A', 'T', 'G']\n",
      "['C', 'T', 'G', 'A']\n",
      "['C', 'T', 'C', 'A']\n",
      "['G', 'A', 'A', 'G']\n",
      "['G', 'C', 'T', 'C']\n",
      "['G', 'G', 'A', 'T']\n",
      "['A', 'A', 'T', 'A']\n",
      "['G', 'A', 'G', 'G']\n",
      "['A', 'C', 'G', 'A']\n",
      "['A', 'G', 'G', 'T']\n",
      "['A', 'G', 'T', 'T']\n",
      "['T', 'A', 'C', 'T']\n",
      "['C', 'A', 'T', 'C']\n",
      "['G', 'C', 'T', 'G']\n",
      "['C', 'C', 'C', 'C']\n",
      "['G', 'A', 'C', 'T']\n",
      "['A', 'T', 'T', 'A']\n",
      "['C', 'G', 'T', 'G']\n",
      "['T', 'G', 'C', 'A']\n",
      "['T', 'G', 'A', 'T']\n",
      "['A', 'A', 'A', 'G']\n",
      "['T', 'C', 'T', 'G']\n",
      "['A', 'C', 'C', 'C']\n",
      "['T', 'G', 'A', 'C']\n",
      "['G', 'T', 'T', 'C']\n",
      "['C', 'C', 'A', 'A']\n",
      "['G', 'C', 'C', 'G']\n",
      "['A', 'G', 'G', 'C']\n",
      "['A', 'G', 'A', 'G']\n",
      "['G', 'G', 'G', 'T']\n",
      "['T', 'T', 'T', 'A']\n",
      "['C', 'G', 'C', 'T']\n",
      "['G', 'A', 'A', 'T']\n",
      "['G', 'T', 'C', 'C']\n",
      "['G', 'C', 'T', 'C']\n",
      "['T', 'C', 'T', 'G']\n",
      "['T', 'C', 'G', 'G']\n",
      "['A', 'T', 'G', 'A']\n",
      "['T', 'T', 'T', 'C']\n",
      "['G', 'G', 'A', 'A']\n",
      "['G', 'C', 'T', 'G']\n"
     ]
    }
   ],
   "source": [
    "for i in range(0,250):\n",
    "    print(list2[i*4:(i+1)*4])"
   ]
  },
  {
   "cell_type": "code",
   "execution_count": null,
   "id": "f22abd4c",
   "metadata": {},
   "outputs": [],
   "source": []
  }
 ],
 "metadata": {
  "kernelspec": {
   "display_name": "Python 3 (ipykernel)",
   "language": "python",
   "name": "python3"
  },
  "language_info": {
   "codemirror_mode": {
    "name": "ipython",
    "version": 3
   },
   "file_extension": ".py",
   "mimetype": "text/x-python",
   "name": "python",
   "nbconvert_exporter": "python",
   "pygments_lexer": "ipython3",
   "version": "3.10.8"
  },
  "toc": {
   "base_numbering": 1,
   "nav_menu": {},
   "number_sections": true,
   "sideBar": true,
   "skip_h1_title": false,
   "title_cell": "Table of Contents",
   "title_sidebar": "Contents",
   "toc_cell": false,
   "toc_position": {},
   "toc_section_display": true,
   "toc_window_display": false
  },
  "varInspector": {
   "cols": {
    "lenName": 16,
    "lenType": 16,
    "lenVar": 40
   },
   "kernels_config": {
    "python": {
     "delete_cmd_postfix": "",
     "delete_cmd_prefix": "del ",
     "library": "var_list.py",
     "varRefreshCmd": "print(var_dic_list())"
    },
    "r": {
     "delete_cmd_postfix": ") ",
     "delete_cmd_prefix": "rm(",
     "library": "var_list.r",
     "varRefreshCmd": "cat(var_dic_list()) "
    }
   },
   "types_to_exclude": [
    "module",
    "function",
    "builtin_function_or_method",
    "instance",
    "_Feature"
   ],
   "window_display": false
  },
  "vscode": {
   "interpreter": {
    "hash": "31f2aee4e71d21fbe5cf8b01ff0e069b9275f58929596ceb00d14d90e3e16cd6"
   }
  }
 },
 "nbformat": 4,
 "nbformat_minor": 5
}
