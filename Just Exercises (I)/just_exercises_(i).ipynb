{
 "cells": [
  {
   "cell_type": "markdown",
   "id": "123456",
   "metadata": {},
   "source": [
    "<div style=\"text-align:left;font-size:2em\"><span style=\"font-weight:bolder;font-size:1.25em\">SP2273 | Learning Portfolio</span><br><br><span style=\"font-weight:bold;color:darkred\">Just Exercises (I)</span></div>"
   ]
  },
  {
   "cell_type": "markdown",
   "id": "6aa88238",
   "metadata": {},
   "source": [
    "## Exercise 1 :  F-strings to the rescue"
   ]
  },
  {
   "cell_type": "code",
   "execution_count": 2,
   "id": "7be8cfb2",
   "metadata": {},
   "outputs": [
    {
     "name": "stdout",
     "output_type": "stream",
     "text": [
      "00001\n",
      "00002\n",
      "00003\n",
      "00004\n",
      "00005\n",
      "00006\n",
      "00007\n",
      "00008\n",
      "00009\n",
      "00010\n"
     ]
    }
   ],
   "source": [
    "for i in range(1,11):\n",
    "    print(f\"{i:05}\") "
   ]
  },
  {
   "cell_type": "code",
   "execution_count": 11,
   "id": "bebffc72",
   "metadata": {},
   "outputs": [
    {
     "name": "stdout",
     "output_type": "stream",
     "text": [
      "001          +\n",
      "002         ++\n",
      "003        +++\n",
      "004       ++++\n",
      "005      +++++\n",
      "006     ++++++\n",
      "007    +++++++\n",
      "008   ++++++++\n",
      "009  +++++++++\n",
      "010 ++++++++++\n"
     ]
    }
   ],
   "source": [
    "for i in range(1,11):\n",
    "    print(f\"{i:03}\"+' '*(10-i), '+'*i) "
   ]
  },
  {
   "cell_type": "code",
   "execution_count": 15,
   "id": "2f2cf187",
   "metadata": {},
   "outputs": [
    {
     "name": "stdout",
     "output_type": "stream",
     "text": [
      "001 -+++++++++\n",
      "002 --++++++++\n",
      "003 ---+++++++\n",
      "004 ----++++++\n",
      "005 -----+++++\n",
      "006 ------++++\n",
      "007 -------+++\n",
      "008 --------++\n",
      "009 ---------+\n",
      "010 ----------\n"
     ]
    }
   ],
   "source": [
    "for i in range(1,11):\n",
    "    print(f\"{i:03}\" , '-'*i + '+'*(10-i)) "
   ]
  },
  {
   "cell_type": "code",
   "execution_count": 22,
   "id": "b61a2ce3",
   "metadata": {},
   "outputs": [
    {
     "name": "stdout",
     "output_type": "stream",
     "text": [
      "bruce_exploits.txt, bruce_enemies.txt,bruce_friends.txt,\n",
      "natasha_exploits.txt, natasha_enemies.txt,natasha_friends.txt,\n",
      "tony_exploits.txt, tony_enemies.txt,tony_friends.txt,\n"
     ]
    }
   ],
   "source": [
    "np_exploits_info = np.array(['bruce_exploits.txt', 'natasha_exploits.txt','tony_exploits.txt' ])\n",
    "np_enemies_info = np.array(['bruce_enemies.txt', 'natasha_enemies.txt', 'tony_enemies.txt'])\n",
    "np_friends_info = np.array(['bruce_friends.txt','natasha_friends.txt', 'tony_friends.txt'])\n",
    "\n",
    "for i, exploits in enumerate(np_exploits_info):\n",
    "    enemies = np_enemies_info[i]\n",
    "    friends = np_friends_info[i]\n",
    "    print(f'{exploits}, {enemies},{friends},')"
   ]
  },
  {
   "cell_type": "code",
   "execution_count": 49,
   "id": "65c68606",
   "metadata": {},
   "outputs": [
    {
     "name": "stdout",
     "output_type": "stream",
     "text": [
      "['bruce_exploits.txt', 'bruce_enemies.txt', 'bruce_friends.txt', 'natasha_exploits.txt', 'natasha_enemies.txt', 'natasha_friends.txt', 'tony_exploits.txt', 'tony_enemies.txt', 'tony_friends.txt']\n"
     ]
    }
   ],
   "source": [
    "name = ['bruce', 'natasha','tony' ]\n",
    "text = ['_exploits.txt', '_enemies.txt', '_friends.txt']\n",
    "my_list = []\n",
    "\n",
    "for i in name:\n",
    "    for a in text:\n",
    "        my_list.append(f'{i}{a}')\n",
    "print(my_list)"
   ]
  },
  {
   "cell_type": "code",
   "execution_count": 72,
   "id": "f5c8f620",
   "metadata": {},
   "outputs": [
    {
     "name": "stdout",
     "output_type": "stream",
     "text": [
      "['data_sg_exp-01_trial-001' 'data_sg_exp-01_trial-002'\n",
      " 'data_sg_exp-01_trial-003' 'data_sg_exp-01_trial-004'\n",
      " 'data_sg_exp-01_trial-005' 'data_sg_exp-01_trial-006'\n",
      " 'data_sg_exp-01_trial-007' 'data_sg_exp-01_trial-008'\n",
      " 'data_sg_exp-01_trial-009' 'data_sg_exp-01_trial-010'\n",
      " 'data_sg_exp-01_trial-011' 'data_sg_exp-01_trial-012'\n",
      " 'data_sg_exp-01_trial-013' 'data_sg_exp-01_trial-014'\n",
      " 'data_sg_exp-01_trial-015' 'data_sg_exp-01_trial-016'\n",
      " 'data_sg_exp-01_trial-017' 'data_sg_exp-01_trial-018'\n",
      " 'data_sg_exp-01_trial-019' 'data_sg_exp-01_trial-020'\n",
      " 'data_sg_exp-01_trial-021' 'data_sg_exp-01_trial-022'\n",
      " 'data_sg_exp-01_trial-023' 'data_sg_exp-01_trial-024'\n",
      " 'data_sg_exp-01_trial-025' 'data_sg_exp-01_trial-026'\n",
      " 'data_sg_exp-01_trial-027' 'data_sg_exp-01_trial-028'\n",
      " 'data_sg_exp-01_trial-029' 'data_sg_exp-01_trial-030'\n",
      " 'data_sg_exp-01_trial-031' 'data_sg_exp-01_trial-032'\n",
      " 'data_sg_exp-01_trial-033' 'data_sg_exp-01_trial-034'\n",
      " 'data_sg_exp-01_trial-035' 'data_sg_exp-01_trial-036'\n",
      " 'data_sg_exp-01_trial-037' 'data_sg_exp-01_trial-038'\n",
      " 'data_sg_exp-01_trial-039' 'data_sg_exp-01_trial-040'\n",
      " 'data_sg_exp-01_trial-041' 'data_sg_exp-01_trial-042'\n",
      " 'data_sg_exp-01_trial-043' 'data_sg_exp-01_trial-044'\n",
      " 'data_sg_exp-01_trial-045' 'data_sg_exp-01_trial-046'\n",
      " 'data_sg_exp-01_trial-047' 'data_sg_exp-01_trial-048'\n",
      " 'data_sg_exp-01_trial-049' 'data_sg_exp-01_trial-050'\n",
      " 'data_sg_exp-02_trial-001' 'data_sg_exp-02_trial-002'\n",
      " 'data_sg_exp-02_trial-003' 'data_sg_exp-02_trial-004'\n",
      " 'data_sg_exp-02_trial-005' 'data_sg_exp-02_trial-006'\n",
      " 'data_sg_exp-02_trial-007' 'data_sg_exp-02_trial-008'\n",
      " 'data_sg_exp-02_trial-009' 'data_sg_exp-02_trial-010'\n",
      " 'data_sg_exp-02_trial-011' 'data_sg_exp-02_trial-012'\n",
      " 'data_sg_exp-02_trial-013' 'data_sg_exp-02_trial-014'\n",
      " 'data_sg_exp-02_trial-015' 'data_sg_exp-02_trial-016'\n",
      " 'data_sg_exp-02_trial-017' 'data_sg_exp-02_trial-018'\n",
      " 'data_sg_exp-02_trial-019' 'data_sg_exp-02_trial-020'\n",
      " 'data_sg_exp-02_trial-021' 'data_sg_exp-02_trial-022'\n",
      " 'data_sg_exp-02_trial-023' 'data_sg_exp-02_trial-024'\n",
      " 'data_sg_exp-02_trial-025' 'data_sg_exp-02_trial-026'\n",
      " 'data_sg_exp-02_trial-027' 'data_sg_exp-02_trial-028'\n",
      " 'data_sg_exp-02_trial-029' 'data_sg_exp-02_trial-030'\n",
      " 'data_sg_exp-02_trial-031' 'data_sg_exp-02_trial-032'\n",
      " 'data_sg_exp-02_trial-033' 'data_sg_exp-02_trial-034'\n",
      " 'data_sg_exp-02_trial-035' 'data_sg_exp-02_trial-036'\n",
      " 'data_sg_exp-02_trial-037' 'data_sg_exp-02_trial-038'\n",
      " 'data_sg_exp-02_trial-039' 'data_sg_exp-02_trial-040'\n",
      " 'data_sg_exp-02_trial-041' 'data_sg_exp-02_trial-042'\n",
      " 'data_sg_exp-02_trial-043' 'data_sg_exp-02_trial-044'\n",
      " 'data_sg_exp-02_trial-045' 'data_sg_exp-02_trial-046'\n",
      " 'data_sg_exp-02_trial-047' 'data_sg_exp-02_trial-048'\n",
      " 'data_sg_exp-02_trial-049' 'data_sg_exp-02_trial-050'\n",
      " 'data_sg_exp-03_trial-001' 'data_sg_exp-03_trial-002'\n",
      " 'data_sg_exp-03_trial-003' 'data_sg_exp-03_trial-004'\n",
      " 'data_sg_exp-03_trial-005' 'data_sg_exp-03_trial-006'\n",
      " 'data_sg_exp-03_trial-007' 'data_sg_exp-03_trial-008'\n",
      " 'data_sg_exp-03_trial-009' 'data_sg_exp-03_trial-010'\n",
      " 'data_sg_exp-03_trial-011' 'data_sg_exp-03_trial-012'\n",
      " 'data_sg_exp-03_trial-013' 'data_sg_exp-03_trial-014'\n",
      " 'data_sg_exp-03_trial-015' 'data_sg_exp-03_trial-016'\n",
      " 'data_sg_exp-03_trial-017' 'data_sg_exp-03_trial-018'\n",
      " 'data_sg_exp-03_trial-019' 'data_sg_exp-03_trial-020'\n",
      " 'data_sg_exp-03_trial-021' 'data_sg_exp-03_trial-022'\n",
      " 'data_sg_exp-03_trial-023' 'data_sg_exp-03_trial-024'\n",
      " 'data_sg_exp-03_trial-025' 'data_sg_exp-03_trial-026'\n",
      " 'data_sg_exp-03_trial-027' 'data_sg_exp-03_trial-028'\n",
      " 'data_sg_exp-03_trial-029' 'data_sg_exp-03_trial-030'\n",
      " 'data_sg_exp-03_trial-031' 'data_sg_exp-03_trial-032'\n",
      " 'data_sg_exp-03_trial-033' 'data_sg_exp-03_trial-034'\n",
      " 'data_sg_exp-03_trial-035' 'data_sg_exp-03_trial-036'\n",
      " 'data_sg_exp-03_trial-037' 'data_sg_exp-03_trial-038'\n",
      " 'data_sg_exp-03_trial-039' 'data_sg_exp-03_trial-040'\n",
      " 'data_sg_exp-03_trial-041' 'data_sg_exp-03_trial-042'\n",
      " 'data_sg_exp-03_trial-043' 'data_sg_exp-03_trial-044'\n",
      " 'data_sg_exp-03_trial-045' 'data_sg_exp-03_trial-046'\n",
      " 'data_sg_exp-03_trial-047' 'data_sg_exp-03_trial-048'\n",
      " 'data_sg_exp-03_trial-049' 'data_sg_exp-03_trial-050'\n",
      " 'data_gb_exp-01_trial-001' 'data_gb_exp-01_trial-002'\n",
      " 'data_gb_exp-01_trial-003' 'data_gb_exp-01_trial-004'\n",
      " 'data_gb_exp-01_trial-005' 'data_gb_exp-01_trial-006'\n",
      " 'data_gb_exp-01_trial-007' 'data_gb_exp-01_trial-008'\n",
      " 'data_gb_exp-01_trial-009' 'data_gb_exp-01_trial-010'\n",
      " 'data_gb_exp-01_trial-011' 'data_gb_exp-01_trial-012'\n",
      " 'data_gb_exp-01_trial-013' 'data_gb_exp-01_trial-014'\n",
      " 'data_gb_exp-01_trial-015' 'data_gb_exp-01_trial-016'\n",
      " 'data_gb_exp-01_trial-017' 'data_gb_exp-01_trial-018'\n",
      " 'data_gb_exp-01_trial-019' 'data_gb_exp-01_trial-020'\n",
      " 'data_gb_exp-01_trial-021' 'data_gb_exp-01_trial-022'\n",
      " 'data_gb_exp-01_trial-023' 'data_gb_exp-01_trial-024'\n",
      " 'data_gb_exp-01_trial-025' 'data_gb_exp-01_trial-026'\n",
      " 'data_gb_exp-01_trial-027' 'data_gb_exp-01_trial-028'\n",
      " 'data_gb_exp-01_trial-029' 'data_gb_exp-01_trial-030'\n",
      " 'data_gb_exp-01_trial-031' 'data_gb_exp-01_trial-032'\n",
      " 'data_gb_exp-01_trial-033' 'data_gb_exp-01_trial-034'\n",
      " 'data_gb_exp-01_trial-035' 'data_gb_exp-01_trial-036'\n",
      " 'data_gb_exp-01_trial-037' 'data_gb_exp-01_trial-038'\n",
      " 'data_gb_exp-01_trial-039' 'data_gb_exp-01_trial-040'\n",
      " 'data_gb_exp-01_trial-041' 'data_gb_exp-01_trial-042'\n",
      " 'data_gb_exp-01_trial-043' 'data_gb_exp-01_trial-044'\n",
      " 'data_gb_exp-01_trial-045' 'data_gb_exp-01_trial-046'\n",
      " 'data_gb_exp-01_trial-047' 'data_gb_exp-01_trial-048'\n",
      " 'data_gb_exp-01_trial-049' 'data_gb_exp-01_trial-050'\n",
      " 'data_gb_exp-02_trial-001' 'data_gb_exp-02_trial-002'\n",
      " 'data_gb_exp-02_trial-003' 'data_gb_exp-02_trial-004'\n",
      " 'data_gb_exp-02_trial-005' 'data_gb_exp-02_trial-006'\n",
      " 'data_gb_exp-02_trial-007' 'data_gb_exp-02_trial-008'\n",
      " 'data_gb_exp-02_trial-009' 'data_gb_exp-02_trial-010'\n",
      " 'data_gb_exp-02_trial-011' 'data_gb_exp-02_trial-012'\n",
      " 'data_gb_exp-02_trial-013' 'data_gb_exp-02_trial-014'\n",
      " 'data_gb_exp-02_trial-015' 'data_gb_exp-02_trial-016'\n",
      " 'data_gb_exp-02_trial-017' 'data_gb_exp-02_trial-018'\n",
      " 'data_gb_exp-02_trial-019' 'data_gb_exp-02_trial-020'\n",
      " 'data_gb_exp-02_trial-021' 'data_gb_exp-02_trial-022'\n",
      " 'data_gb_exp-02_trial-023' 'data_gb_exp-02_trial-024'\n",
      " 'data_gb_exp-02_trial-025' 'data_gb_exp-02_trial-026'\n",
      " 'data_gb_exp-02_trial-027' 'data_gb_exp-02_trial-028'\n",
      " 'data_gb_exp-02_trial-029' 'data_gb_exp-02_trial-030'\n",
      " 'data_gb_exp-02_trial-031' 'data_gb_exp-02_trial-032'\n",
      " 'data_gb_exp-02_trial-033' 'data_gb_exp-02_trial-034'\n",
      " 'data_gb_exp-02_trial-035' 'data_gb_exp-02_trial-036'\n",
      " 'data_gb_exp-02_trial-037' 'data_gb_exp-02_trial-038'\n",
      " 'data_gb_exp-02_trial-039' 'data_gb_exp-02_trial-040'\n",
      " 'data_gb_exp-02_trial-041' 'data_gb_exp-02_trial-042'\n",
      " 'data_gb_exp-02_trial-043' 'data_gb_exp-02_trial-044'\n",
      " 'data_gb_exp-02_trial-045' 'data_gb_exp-02_trial-046'\n",
      " 'data_gb_exp-02_trial-047' 'data_gb_exp-02_trial-048'\n",
      " 'data_gb_exp-02_trial-049' 'data_gb_exp-02_trial-050'\n",
      " 'data_gb_exp-03_trial-001' 'data_gb_exp-03_trial-002'\n",
      " 'data_gb_exp-03_trial-003' 'data_gb_exp-03_trial-004'\n",
      " 'data_gb_exp-03_trial-005' 'data_gb_exp-03_trial-006'\n",
      " 'data_gb_exp-03_trial-007' 'data_gb_exp-03_trial-008'\n",
      " 'data_gb_exp-03_trial-009' 'data_gb_exp-03_trial-010'\n",
      " 'data_gb_exp-03_trial-011' 'data_gb_exp-03_trial-012'\n",
      " 'data_gb_exp-03_trial-013' 'data_gb_exp-03_trial-014'\n",
      " 'data_gb_exp-03_trial-015' 'data_gb_exp-03_trial-016'\n",
      " 'data_gb_exp-03_trial-017' 'data_gb_exp-03_trial-018'\n",
      " 'data_gb_exp-03_trial-019' 'data_gb_exp-03_trial-020'\n",
      " 'data_gb_exp-03_trial-021' 'data_gb_exp-03_trial-022'\n",
      " 'data_gb_exp-03_trial-023' 'data_gb_exp-03_trial-024'\n",
      " 'data_gb_exp-03_trial-025' 'data_gb_exp-03_trial-026'\n",
      " 'data_gb_exp-03_trial-027' 'data_gb_exp-03_trial-028'\n",
      " 'data_gb_exp-03_trial-029' 'data_gb_exp-03_trial-030'\n",
      " 'data_gb_exp-03_trial-031' 'data_gb_exp-03_trial-032'\n",
      " 'data_gb_exp-03_trial-033' 'data_gb_exp-03_trial-034'\n",
      " 'data_gb_exp-03_trial-035' 'data_gb_exp-03_trial-036'\n",
      " 'data_gb_exp-03_trial-037' 'data_gb_exp-03_trial-038'\n",
      " 'data_gb_exp-03_trial-039' 'data_gb_exp-03_trial-040'\n",
      " 'data_gb_exp-03_trial-041' 'data_gb_exp-03_trial-042'\n",
      " 'data_gb_exp-03_trial-043' 'data_gb_exp-03_trial-044'\n",
      " 'data_gb_exp-03_trial-045' 'data_gb_exp-03_trial-046'\n",
      " 'data_gb_exp-03_trial-047' 'data_gb_exp-03_trial-048'\n",
      " 'data_gb_exp-03_trial-049' 'data_gb_exp-03_trial-050'\n",
      " 'data_us_exp-01_trial-001' 'data_us_exp-01_trial-002'\n",
      " 'data_us_exp-01_trial-003' 'data_us_exp-01_trial-004'\n",
      " 'data_us_exp-01_trial-005' 'data_us_exp-01_trial-006'\n",
      " 'data_us_exp-01_trial-007' 'data_us_exp-01_trial-008'\n",
      " 'data_us_exp-01_trial-009' 'data_us_exp-01_trial-010'\n",
      " 'data_us_exp-01_trial-011' 'data_us_exp-01_trial-012'\n",
      " 'data_us_exp-01_trial-013' 'data_us_exp-01_trial-014'\n",
      " 'data_us_exp-01_trial-015' 'data_us_exp-01_trial-016'\n",
      " 'data_us_exp-01_trial-017' 'data_us_exp-01_trial-018'\n",
      " 'data_us_exp-01_trial-019' 'data_us_exp-01_trial-020'\n",
      " 'data_us_exp-01_trial-021' 'data_us_exp-01_trial-022'\n",
      " 'data_us_exp-01_trial-023' 'data_us_exp-01_trial-024'\n",
      " 'data_us_exp-01_trial-025' 'data_us_exp-01_trial-026'\n",
      " 'data_us_exp-01_trial-027' 'data_us_exp-01_trial-028'\n",
      " 'data_us_exp-01_trial-029' 'data_us_exp-01_trial-030'\n",
      " 'data_us_exp-01_trial-031' 'data_us_exp-01_trial-032'\n",
      " 'data_us_exp-01_trial-033' 'data_us_exp-01_trial-034'\n",
      " 'data_us_exp-01_trial-035' 'data_us_exp-01_trial-036'\n",
      " 'data_us_exp-01_trial-037' 'data_us_exp-01_trial-038'\n",
      " 'data_us_exp-01_trial-039' 'data_us_exp-01_trial-040'\n",
      " 'data_us_exp-01_trial-041' 'data_us_exp-01_trial-042'\n",
      " 'data_us_exp-01_trial-043' 'data_us_exp-01_trial-044'\n",
      " 'data_us_exp-01_trial-045' 'data_us_exp-01_trial-046'\n",
      " 'data_us_exp-01_trial-047' 'data_us_exp-01_trial-048'\n",
      " 'data_us_exp-01_trial-049' 'data_us_exp-01_trial-050'\n",
      " 'data_us_exp-02_trial-001' 'data_us_exp-02_trial-002'\n",
      " 'data_us_exp-02_trial-003' 'data_us_exp-02_trial-004'\n",
      " 'data_us_exp-02_trial-005' 'data_us_exp-02_trial-006'\n",
      " 'data_us_exp-02_trial-007' 'data_us_exp-02_trial-008'\n",
      " 'data_us_exp-02_trial-009' 'data_us_exp-02_trial-010'\n",
      " 'data_us_exp-02_trial-011' 'data_us_exp-02_trial-012'\n",
      " 'data_us_exp-02_trial-013' 'data_us_exp-02_trial-014'\n",
      " 'data_us_exp-02_trial-015' 'data_us_exp-02_trial-016'\n",
      " 'data_us_exp-02_trial-017' 'data_us_exp-02_trial-018'\n",
      " 'data_us_exp-02_trial-019' 'data_us_exp-02_trial-020'\n",
      " 'data_us_exp-02_trial-021' 'data_us_exp-02_trial-022'\n",
      " 'data_us_exp-02_trial-023' 'data_us_exp-02_trial-024'\n",
      " 'data_us_exp-02_trial-025' 'data_us_exp-02_trial-026'\n",
      " 'data_us_exp-02_trial-027' 'data_us_exp-02_trial-028'\n",
      " 'data_us_exp-02_trial-029' 'data_us_exp-02_trial-030'\n",
      " 'data_us_exp-02_trial-031' 'data_us_exp-02_trial-032'\n",
      " 'data_us_exp-02_trial-033' 'data_us_exp-02_trial-034'\n",
      " 'data_us_exp-02_trial-035' 'data_us_exp-02_trial-036'\n",
      " 'data_us_exp-02_trial-037' 'data_us_exp-02_trial-038'\n",
      " 'data_us_exp-02_trial-039' 'data_us_exp-02_trial-040'\n",
      " 'data_us_exp-02_trial-041' 'data_us_exp-02_trial-042'\n",
      " 'data_us_exp-02_trial-043' 'data_us_exp-02_trial-044'\n",
      " 'data_us_exp-02_trial-045' 'data_us_exp-02_trial-046'\n",
      " 'data_us_exp-02_trial-047' 'data_us_exp-02_trial-048'\n",
      " 'data_us_exp-02_trial-049' 'data_us_exp-02_trial-050'\n",
      " 'data_us_exp-03_trial-001' 'data_us_exp-03_trial-002'\n",
      " 'data_us_exp-03_trial-003' 'data_us_exp-03_trial-004'\n",
      " 'data_us_exp-03_trial-005' 'data_us_exp-03_trial-006'\n",
      " 'data_us_exp-03_trial-007' 'data_us_exp-03_trial-008'\n",
      " 'data_us_exp-03_trial-009' 'data_us_exp-03_trial-010'\n",
      " 'data_us_exp-03_trial-011' 'data_us_exp-03_trial-012'\n",
      " 'data_us_exp-03_trial-013' 'data_us_exp-03_trial-014'\n",
      " 'data_us_exp-03_trial-015' 'data_us_exp-03_trial-016'\n",
      " 'data_us_exp-03_trial-017' 'data_us_exp-03_trial-018'\n",
      " 'data_us_exp-03_trial-019' 'data_us_exp-03_trial-020'\n",
      " 'data_us_exp-03_trial-021' 'data_us_exp-03_trial-022'\n",
      " 'data_us_exp-03_trial-023' 'data_us_exp-03_trial-024'\n",
      " 'data_us_exp-03_trial-025' 'data_us_exp-03_trial-026'\n",
      " 'data_us_exp-03_trial-027' 'data_us_exp-03_trial-028'\n",
      " 'data_us_exp-03_trial-029' 'data_us_exp-03_trial-030'\n",
      " 'data_us_exp-03_trial-031' 'data_us_exp-03_trial-032'\n",
      " 'data_us_exp-03_trial-033' 'data_us_exp-03_trial-034'\n",
      " 'data_us_exp-03_trial-035' 'data_us_exp-03_trial-036'\n",
      " 'data_us_exp-03_trial-037' 'data_us_exp-03_trial-038'\n",
      " 'data_us_exp-03_trial-039' 'data_us_exp-03_trial-040'\n",
      " 'data_us_exp-03_trial-041' 'data_us_exp-03_trial-042'\n",
      " 'data_us_exp-03_trial-043' 'data_us_exp-03_trial-044'\n",
      " 'data_us_exp-03_trial-045' 'data_us_exp-03_trial-046'\n",
      " 'data_us_exp-03_trial-047' 'data_us_exp-03_trial-048'\n",
      " 'data_us_exp-03_trial-049' 'data_us_exp-03_trial-050']\n"
     ]
    }
   ],
   "source": [
    "country = ['sg','gb','us']\n",
    "experiment = ['01','02','03']\n",
    "xx_list = []\n",
    "\n",
    "for x in country:\n",
    "    for y in experiment:\n",
    "        for i in range(1,51):\n",
    "            xx_list.append(f'data_{x}_exp-{y}_trial-{i:03}')\n",
    "            np_aray_1 = np.array(xx_list)\n",
    "        \n",
    "print(np_aray_1)\n"
   ]
  },
  {
   "cell_type": "markdown",
   "id": "1ca2ff86",
   "metadata": {},
   "source": [
    "## Exercise 2 :  Tutti frutti"
   ]
  },
  {
   "cell_type": "code",
   "execution_count": 73,
   "id": "91c667ee",
   "metadata": {},
   "outputs": [],
   "source": [
    "fruits = ['apple', 'banana', 'pineapple', 'jackfruit',\n",
    "        \"peach\", \"durian\", \"watermelon\", \"mango\",\n",
    "        \"strawberry\", \"passionfruit\"]"
   ]
  },
  {
   "cell_type": "code",
   "execution_count": 79,
   "id": "73e05a85",
   "metadata": {},
   "outputs": [
    {
     "data": {
      "text/plain": [
       "True"
      ]
     },
     "execution_count": 79,
     "metadata": {},
     "output_type": "execute_result"
    }
   ],
   "source": [
    "'mango' in fruits"
   ]
  },
  {
   "cell_type": "code",
   "execution_count": 89,
   "id": "a3c44587",
   "metadata": {},
   "outputs": [
    {
     "ename": "NameError",
     "evalue": "name 'abc' is not defined",
     "output_type": "error",
     "traceback": [
      "\u001b[0;31m---------------------------------------------------------------------------\u001b[0m",
      "\u001b[0;31mNameError\u001b[0m                                 Traceback (most recent call last)",
      "Cell \u001b[0;32mIn[89], line 1\u001b[0m\n\u001b[0;32m----> 1\u001b[0m \u001b[43mabc\u001b[49m[\u001b[38;5;241m-\u001b[39m\u001b[38;5;241m1\u001b[39m]\n",
      "\u001b[0;31mNameError\u001b[0m: name 'abc' is not defined"
     ]
    }
   ],
   "source": [
    "for nam in fruits:"
   ]
  },
  {
   "cell_type": "code",
   "execution_count": 88,
   "id": "6a913059",
   "metadata": {},
   "outputs": [
    {
     "name": "stdout",
     "output_type": "stream",
     "text": [
      "['[\\'apple\\', \\'banana\\', \\'pineapple\\', \\'jackfruit\\', \\'peach\\', \\'durian\\', \\'watermelon\\', \\'mango\\', \\'strawberry\\', \\'passionfruit\\', \"[\\'apple\\', \\'banana\\', \\'pineapple\\', \\'jackfruit\\', \\'peach\\', \\'durian\\', \\'watermelon\\', \\'mango\\', \\'strawberry\\', \\'passionfruit\\'][\\'dragon fruit\\', \\'apricots\\', \\'oranges\\']\", \\'[\\\\\\'apple\\\\\\', \\\\\\'banana\\\\\\', \\\\\\'pineapple\\\\\\', \\\\\\'jackfruit\\\\\\', \\\\\\'peach\\\\\\', \\\\\\'durian\\\\\\', \\\\\\'watermelon\\\\\\', \\\\\\'mango\\\\\\', \\\\\\'strawberry\\\\\\', \\\\\\'passionfruit\\\\\\', \"[\\\\\\'apple\\\\\\', \\\\\\'banana\\\\\\', \\\\\\'pineapple\\\\\\', \\\\\\'jackfruit\\\\\\', \\\\\\'peach\\\\\\', \\\\\\'durian\\\\\\', \\\\\\'watermelon\\\\\\', \\\\\\'mango\\\\\\', \\\\\\'strawberry\\\\\\', \\\\\\'passionfruit\\\\\\'][\\\\\\'dragon fruit\\\\\\', \\\\\\'apricots\\\\\\', \\\\\\'oranges\\\\\\']\"][\\\\\\'dragon fruit\\\\\\', \\\\\\'apricots\\\\\\', \\\\\\'oranges\\\\\\']\\'][\\'dragon fruit\\', \\'apricots\\', \\'oranges\\']', '[\\'apple\\', \\'banana\\', \\'pineapple\\', \\'jackfruit\\', \\'peach\\', \\'durian\\', \\'watermelon\\', \\'mango\\', \\'strawberry\\', \\'passionfruit\\', \"[\\'apple\\', \\'banana\\', \\'pineapple\\', \\'jackfruit\\', \\'peach\\', \\'durian\\', \\'watermelon\\', \\'mango\\', \\'strawberry\\', \\'passionfruit\\'][\\'dragon fruit\\', \\'apricots\\', \\'oranges\\']\", \\'[\\\\\\'apple\\\\\\', \\\\\\'banana\\\\\\', \\\\\\'pineapple\\\\\\', \\\\\\'jackfruit\\\\\\', \\\\\\'peach\\\\\\', \\\\\\'durian\\\\\\', \\\\\\'watermelon\\\\\\', \\\\\\'mango\\\\\\', \\\\\\'strawberry\\\\\\', \\\\\\'passionfruit\\\\\\', \"[\\\\\\'apple\\\\\\', \\\\\\'banana\\\\\\', \\\\\\'pineapple\\\\\\', \\\\\\'jackfruit\\\\\\', \\\\\\'peach\\\\\\', \\\\\\'durian\\\\\\', \\\\\\'watermelon\\\\\\', \\\\\\'mango\\\\\\', \\\\\\'strawberry\\\\\\', \\\\\\'passionfruit\\\\\\'][\\\\\\'dragon fruit\\\\\\', \\\\\\'apricots\\\\\\', \\\\\\'oranges\\\\\\']\"][\\\\\\'dragon fruit\\\\\\', \\\\\\'apricots\\\\\\', \\\\\\'oranges\\\\\\']\\'][\\'dragon fruit\\', \\'apricots\\', \\'oranges\\']', '[\\'apple\\', \\'banana\\', \\'pineapple\\', \\'jackfruit\\', \\'peach\\', \\'durian\\', \\'watermelon\\', \\'mango\\', \\'strawberry\\', \\'passionfruit\\', \"[\\'apple\\', \\'banana\\', \\'pineapple\\', \\'jackfruit\\', \\'peach\\', \\'durian\\', \\'watermelon\\', \\'mango\\', \\'strawberry\\', \\'passionfruit\\'][\\'dragon fruit\\', \\'apricots\\', \\'oranges\\']\", \\'[\\\\\\'apple\\\\\\', \\\\\\'banana\\\\\\', \\\\\\'pineapple\\\\\\', \\\\\\'jackfruit\\\\\\', \\\\\\'peach\\\\\\', \\\\\\'durian\\\\\\', \\\\\\'watermelon\\\\\\', \\\\\\'mango\\\\\\', \\\\\\'strawberry\\\\\\', \\\\\\'passionfruit\\\\\\', \"[\\\\\\'apple\\\\\\', \\\\\\'banana\\\\\\', \\\\\\'pineapple\\\\\\', \\\\\\'jackfruit\\\\\\', \\\\\\'peach\\\\\\', \\\\\\'durian\\\\\\', \\\\\\'watermelon\\\\\\', \\\\\\'mango\\\\\\', \\\\\\'strawberry\\\\\\', \\\\\\'passionfruit\\\\\\'][\\\\\\'dragon fruit\\\\\\', \\\\\\'apricots\\\\\\', \\\\\\'oranges\\\\\\']\"][\\\\\\'dragon fruit\\\\\\', \\\\\\'apricots\\\\\\', \\\\\\'oranges\\\\\\']\\'][\\'dragon fruit\\', \\'apricots\\', \\'oranges\\']', '[\\'apple\\', \\'banana\\', \\'pineapple\\', \\'jackfruit\\', \\'peach\\', \\'durian\\', \\'watermelon\\', \\'mango\\', \\'strawberry\\', \\'passionfruit\\', \"[\\'apple\\', \\'banana\\', \\'pineapple\\', \\'jackfruit\\', \\'peach\\', \\'durian\\', \\'watermelon\\', \\'mango\\', \\'strawberry\\', \\'passionfruit\\'][\\'dragon fruit\\', \\'apricots\\', \\'oranges\\']\", \\'[\\\\\\'apple\\\\\\', \\\\\\'banana\\\\\\', \\\\\\'pineapple\\\\\\', \\\\\\'jackfruit\\\\\\', \\\\\\'peach\\\\\\', \\\\\\'durian\\\\\\', \\\\\\'watermelon\\\\\\', \\\\\\'mango\\\\\\', \\\\\\'strawberry\\\\\\', \\\\\\'passionfruit\\\\\\', \"[\\\\\\'apple\\\\\\', \\\\\\'banana\\\\\\', \\\\\\'pineapple\\\\\\', \\\\\\'jackfruit\\\\\\', \\\\\\'peach\\\\\\', \\\\\\'durian\\\\\\', \\\\\\'watermelon\\\\\\', \\\\\\'mango\\\\\\', \\\\\\'strawberry\\\\\\', \\\\\\'passionfruit\\\\\\'][\\\\\\'dragon fruit\\\\\\', \\\\\\'apricots\\\\\\', \\\\\\'oranges\\\\\\']\"][\\\\\\'dragon fruit\\\\\\', \\\\\\'apricots\\\\\\', \\\\\\'oranges\\\\\\']\\'][\\'dragon fruit\\', \\'apricots\\', \\'oranges\\']', '[\\'apple\\', \\'banana\\', \\'pineapple\\', \\'jackfruit\\', \\'peach\\', \\'durian\\', \\'watermelon\\', \\'mango\\', \\'strawberry\\', \\'passionfruit\\', \"[\\'apple\\', \\'banana\\', \\'pineapple\\', \\'jackfruit\\', \\'peach\\', \\'durian\\', \\'watermelon\\', \\'mango\\', \\'strawberry\\', \\'passionfruit\\'][\\'dragon fruit\\', \\'apricots\\', \\'oranges\\']\", \\'[\\\\\\'apple\\\\\\', \\\\\\'banana\\\\\\', \\\\\\'pineapple\\\\\\', \\\\\\'jackfruit\\\\\\', \\\\\\'peach\\\\\\', \\\\\\'durian\\\\\\', \\\\\\'watermelon\\\\\\', \\\\\\'mango\\\\\\', \\\\\\'strawberry\\\\\\', \\\\\\'passionfruit\\\\\\', \"[\\\\\\'apple\\\\\\', \\\\\\'banana\\\\\\', \\\\\\'pineapple\\\\\\', \\\\\\'jackfruit\\\\\\', \\\\\\'peach\\\\\\', \\\\\\'durian\\\\\\', \\\\\\'watermelon\\\\\\', \\\\\\'mango\\\\\\', \\\\\\'strawberry\\\\\\', \\\\\\'passionfruit\\\\\\'][\\\\\\'dragon fruit\\\\\\', \\\\\\'apricots\\\\\\', \\\\\\'oranges\\\\\\']\"][\\\\\\'dragon fruit\\\\\\', \\\\\\'apricots\\\\\\', \\\\\\'oranges\\\\\\']\\'][\\'dragon fruit\\', \\'apricots\\', \\'oranges\\']', '[\\'apple\\', \\'banana\\', \\'pineapple\\', \\'jackfruit\\', \\'peach\\', \\'durian\\', \\'watermelon\\', \\'mango\\', \\'strawberry\\', \\'passionfruit\\', \"[\\'apple\\', \\'banana\\', \\'pineapple\\', \\'jackfruit\\', \\'peach\\', \\'durian\\', \\'watermelon\\', \\'mango\\', \\'strawberry\\', \\'passionfruit\\'][\\'dragon fruit\\', \\'apricots\\', \\'oranges\\']\", \\'[\\\\\\'apple\\\\\\', \\\\\\'banana\\\\\\', \\\\\\'pineapple\\\\\\', \\\\\\'jackfruit\\\\\\', \\\\\\'peach\\\\\\', \\\\\\'durian\\\\\\', \\\\\\'watermelon\\\\\\', \\\\\\'mango\\\\\\', \\\\\\'strawberry\\\\\\', \\\\\\'passionfruit\\\\\\', \"[\\\\\\'apple\\\\\\', \\\\\\'banana\\\\\\', \\\\\\'pineapple\\\\\\', \\\\\\'jackfruit\\\\\\', \\\\\\'peach\\\\\\', \\\\\\'durian\\\\\\', \\\\\\'watermelon\\\\\\', \\\\\\'mango\\\\\\', \\\\\\'strawberry\\\\\\', \\\\\\'passionfruit\\\\\\'][\\\\\\'dragon fruit\\\\\\', \\\\\\'apricots\\\\\\', \\\\\\'oranges\\\\\\']\"][\\\\\\'dragon fruit\\\\\\', \\\\\\'apricots\\\\\\', \\\\\\'oranges\\\\\\']\\'][\\'dragon fruit\\', \\'apricots\\', \\'oranges\\']', '[\\'apple\\', \\'banana\\', \\'pineapple\\', \\'jackfruit\\', \\'peach\\', \\'durian\\', \\'watermelon\\', \\'mango\\', \\'strawberry\\', \\'passionfruit\\', \"[\\'apple\\', \\'banana\\', \\'pineapple\\', \\'jackfruit\\', \\'peach\\', \\'durian\\', \\'watermelon\\', \\'mango\\', \\'strawberry\\', \\'passionfruit\\'][\\'dragon fruit\\', \\'apricots\\', \\'oranges\\']\", \\'[\\\\\\'apple\\\\\\', \\\\\\'banana\\\\\\', \\\\\\'pineapple\\\\\\', \\\\\\'jackfruit\\\\\\', \\\\\\'peach\\\\\\', \\\\\\'durian\\\\\\', \\\\\\'watermelon\\\\\\', \\\\\\'mango\\\\\\', \\\\\\'strawberry\\\\\\', \\\\\\'passionfruit\\\\\\', \"[\\\\\\'apple\\\\\\', \\\\\\'banana\\\\\\', \\\\\\'pineapple\\\\\\', \\\\\\'jackfruit\\\\\\', \\\\\\'peach\\\\\\', \\\\\\'durian\\\\\\', \\\\\\'watermelon\\\\\\', \\\\\\'mango\\\\\\', \\\\\\'strawberry\\\\\\', \\\\\\'passionfruit\\\\\\'][\\\\\\'dragon fruit\\\\\\', \\\\\\'apricots\\\\\\', \\\\\\'oranges\\\\\\']\"][\\\\\\'dragon fruit\\\\\\', \\\\\\'apricots\\\\\\', \\\\\\'oranges\\\\\\']\\'][\\'dragon fruit\\', \\'apricots\\', \\'oranges\\']', '[\\'apple\\', \\'banana\\', \\'pineapple\\', \\'jackfruit\\', \\'peach\\', \\'durian\\', \\'watermelon\\', \\'mango\\', \\'strawberry\\', \\'passionfruit\\', \"[\\'apple\\', \\'banana\\', \\'pineapple\\', \\'jackfruit\\', \\'peach\\', \\'durian\\', \\'watermelon\\', \\'mango\\', \\'strawberry\\', \\'passionfruit\\'][\\'dragon fruit\\', \\'apricots\\', \\'oranges\\']\", \\'[\\\\\\'apple\\\\\\', \\\\\\'banana\\\\\\', \\\\\\'pineapple\\\\\\', \\\\\\'jackfruit\\\\\\', \\\\\\'peach\\\\\\', \\\\\\'durian\\\\\\', \\\\\\'watermelon\\\\\\', \\\\\\'mango\\\\\\', \\\\\\'strawberry\\\\\\', \\\\\\'passionfruit\\\\\\', \"[\\\\\\'apple\\\\\\', \\\\\\'banana\\\\\\', \\\\\\'pineapple\\\\\\', \\\\\\'jackfruit\\\\\\', \\\\\\'peach\\\\\\', \\\\\\'durian\\\\\\', \\\\\\'watermelon\\\\\\', \\\\\\'mango\\\\\\', \\\\\\'strawberry\\\\\\', \\\\\\'passionfruit\\\\\\'][\\\\\\'dragon fruit\\\\\\', \\\\\\'apricots\\\\\\', \\\\\\'oranges\\\\\\']\"][\\\\\\'dragon fruit\\\\\\', \\\\\\'apricots\\\\\\', \\\\\\'oranges\\\\\\']\\'][\\'dragon fruit\\', \\'apricots\\', \\'oranges\\']', '[\\'apple\\', \\'banana\\', \\'pineapple\\', \\'jackfruit\\', \\'peach\\', \\'durian\\', \\'watermelon\\', \\'mango\\', \\'strawberry\\', \\'passionfruit\\', \"[\\'apple\\', \\'banana\\', \\'pineapple\\', \\'jackfruit\\', \\'peach\\', \\'durian\\', \\'watermelon\\', \\'mango\\', \\'strawberry\\', \\'passionfruit\\'][\\'dragon fruit\\', \\'apricots\\', \\'oranges\\']\", \\'[\\\\\\'apple\\\\\\', \\\\\\'banana\\\\\\', \\\\\\'pineapple\\\\\\', \\\\\\'jackfruit\\\\\\', \\\\\\'peach\\\\\\', \\\\\\'durian\\\\\\', \\\\\\'watermelon\\\\\\', \\\\\\'mango\\\\\\', \\\\\\'strawberry\\\\\\', \\\\\\'passionfruit\\\\\\', \"[\\\\\\'apple\\\\\\', \\\\\\'banana\\\\\\', \\\\\\'pineapple\\\\\\', \\\\\\'jackfruit\\\\\\', \\\\\\'peach\\\\\\', \\\\\\'durian\\\\\\', \\\\\\'watermelon\\\\\\', \\\\\\'mango\\\\\\', \\\\\\'strawberry\\\\\\', \\\\\\'passionfruit\\\\\\'][\\\\\\'dragon fruit\\\\\\', \\\\\\'apricots\\\\\\', \\\\\\'oranges\\\\\\']\"][\\\\\\'dragon fruit\\\\\\', \\\\\\'apricots\\\\\\', \\\\\\'oranges\\\\\\']\\'][\\'dragon fruit\\', \\'apricots\\', \\'oranges\\']', '[\\'apple\\', \\'banana\\', \\'pineapple\\', \\'jackfruit\\', \\'peach\\', \\'durian\\', \\'watermelon\\', \\'mango\\', \\'strawberry\\', \\'passionfruit\\', \"[\\'apple\\', \\'banana\\', \\'pineapple\\', \\'jackfruit\\', \\'peach\\', \\'durian\\', \\'watermelon\\', \\'mango\\', \\'strawberry\\', \\'passionfruit\\'][\\'dragon fruit\\', \\'apricots\\', \\'oranges\\']\", \\'[\\\\\\'apple\\\\\\', \\\\\\'banana\\\\\\', \\\\\\'pineapple\\\\\\', \\\\\\'jackfruit\\\\\\', \\\\\\'peach\\\\\\', \\\\\\'durian\\\\\\', \\\\\\'watermelon\\\\\\', \\\\\\'mango\\\\\\', \\\\\\'strawberry\\\\\\', \\\\\\'passionfruit\\\\\\', \"[\\\\\\'apple\\\\\\', \\\\\\'banana\\\\\\', \\\\\\'pineapple\\\\\\', \\\\\\'jackfruit\\\\\\', \\\\\\'peach\\\\\\', \\\\\\'durian\\\\\\', \\\\\\'watermelon\\\\\\', \\\\\\'mango\\\\\\', \\\\\\'strawberry\\\\\\', \\\\\\'passionfruit\\\\\\'][\\\\\\'dragon fruit\\\\\\', \\\\\\'apricots\\\\\\', \\\\\\'oranges\\\\\\']\"][\\\\\\'dragon fruit\\\\\\', \\\\\\'apricots\\\\\\', \\\\\\'oranges\\\\\\']\\'][\\'dragon fruit\\', \\'apricots\\', \\'oranges\\']', '[\\'apple\\', \\'banana\\', \\'pineapple\\', \\'jackfruit\\', \\'peach\\', \\'durian\\', \\'watermelon\\', \\'mango\\', \\'strawberry\\', \\'passionfruit\\', \"[\\'apple\\', \\'banana\\', \\'pineapple\\', \\'jackfruit\\', \\'peach\\', \\'durian\\', \\'watermelon\\', \\'mango\\', \\'strawberry\\', \\'passionfruit\\'][\\'dragon fruit\\', \\'apricots\\', \\'oranges\\']\", \\'[\\\\\\'apple\\\\\\', \\\\\\'banana\\\\\\', \\\\\\'pineapple\\\\\\', \\\\\\'jackfruit\\\\\\', \\\\\\'peach\\\\\\', \\\\\\'durian\\\\\\', \\\\\\'watermelon\\\\\\', \\\\\\'mango\\\\\\', \\\\\\'strawberry\\\\\\', \\\\\\'passionfruit\\\\\\', \"[\\\\\\'apple\\\\\\', \\\\\\'banana\\\\\\', \\\\\\'pineapple\\\\\\', \\\\\\'jackfruit\\\\\\', \\\\\\'peach\\\\\\', \\\\\\'durian\\\\\\', \\\\\\'watermelon\\\\\\', \\\\\\'mango\\\\\\', \\\\\\'strawberry\\\\\\', \\\\\\'passionfruit\\\\\\'][\\\\\\'dragon fruit\\\\\\', \\\\\\'apricots\\\\\\', \\\\\\'oranges\\\\\\']\"][\\\\\\'dragon fruit\\\\\\', \\\\\\'apricots\\\\\\', \\\\\\'oranges\\\\\\']\\'][\\'dragon fruit\\', \\'apricots\\', \\'oranges\\']', '[\\'apple\\', \\'banana\\', \\'pineapple\\', \\'jackfruit\\', \\'peach\\', \\'durian\\', \\'watermelon\\', \\'mango\\', \\'strawberry\\', \\'passionfruit\\', \"[\\'apple\\', \\'banana\\', \\'pineapple\\', \\'jackfruit\\', \\'peach\\', \\'durian\\', \\'watermelon\\', \\'mango\\', \\'strawberry\\', \\'passionfruit\\'][\\'dragon fruit\\', \\'apricots\\', \\'oranges\\']\", \\'[\\\\\\'apple\\\\\\', \\\\\\'banana\\\\\\', \\\\\\'pineapple\\\\\\', \\\\\\'jackfruit\\\\\\', \\\\\\'peach\\\\\\', \\\\\\'durian\\\\\\', \\\\\\'watermelon\\\\\\', \\\\\\'mango\\\\\\', \\\\\\'strawberry\\\\\\', \\\\\\'passionfruit\\\\\\', \"[\\\\\\'apple\\\\\\', \\\\\\'banana\\\\\\', \\\\\\'pineapple\\\\\\', \\\\\\'jackfruit\\\\\\', \\\\\\'peach\\\\\\', \\\\\\'durian\\\\\\', \\\\\\'watermelon\\\\\\', \\\\\\'mango\\\\\\', \\\\\\'strawberry\\\\\\', \\\\\\'passionfruit\\\\\\'][\\\\\\'dragon fruit\\\\\\', \\\\\\'apricots\\\\\\', \\\\\\'oranges\\\\\\']\"][\\\\\\'dragon fruit\\\\\\', \\\\\\'apricots\\\\\\', \\\\\\'oranges\\\\\\']\\'][\\'dragon fruit\\', \\'apricots\\', \\'oranges\\']', '[\\'apple\\', \\'banana\\', \\'pineapple\\', \\'jackfruit\\', \\'peach\\', \\'durian\\', \\'watermelon\\', \\'mango\\', \\'strawberry\\', \\'passionfruit\\', \"[\\'apple\\', \\'banana\\', \\'pineapple\\', \\'jackfruit\\', \\'peach\\', \\'durian\\', \\'watermelon\\', \\'mango\\', \\'strawberry\\', \\'passionfruit\\'][\\'dragon fruit\\', \\'apricots\\', \\'oranges\\']\", \\'[\\\\\\'apple\\\\\\', \\\\\\'banana\\\\\\', \\\\\\'pineapple\\\\\\', \\\\\\'jackfruit\\\\\\', \\\\\\'peach\\\\\\', \\\\\\'durian\\\\\\', \\\\\\'watermelon\\\\\\', \\\\\\'mango\\\\\\', \\\\\\'strawberry\\\\\\', \\\\\\'passionfruit\\\\\\', \"[\\\\\\'apple\\\\\\', \\\\\\'banana\\\\\\', \\\\\\'pineapple\\\\\\', \\\\\\'jackfruit\\\\\\', \\\\\\'peach\\\\\\', \\\\\\'durian\\\\\\', \\\\\\'watermelon\\\\\\', \\\\\\'mango\\\\\\', \\\\\\'strawberry\\\\\\', \\\\\\'passionfruit\\\\\\'][\\\\\\'dragon fruit\\\\\\', \\\\\\'apricots\\\\\\', \\\\\\'oranges\\\\\\']\"][\\\\\\'dragon fruit\\\\\\', \\\\\\'apricots\\\\\\', \\\\\\'oranges\\\\\\']\\'][\\'dragon fruit\\', \\'apricots\\', \\'oranges\\']', '[\\'apple\\', \\'banana\\', \\'pineapple\\', \\'jackfruit\\', \\'peach\\', \\'durian\\', \\'watermelon\\', \\'mango\\', \\'strawberry\\', \\'passionfruit\\', \"[\\'apple\\', \\'banana\\', \\'pineapple\\', \\'jackfruit\\', \\'peach\\', \\'durian\\', \\'watermelon\\', \\'mango\\', \\'strawberry\\', \\'passionfruit\\'][\\'dragon fruit\\', \\'apricots\\', \\'oranges\\']\", \\'[\\\\\\'apple\\\\\\', \\\\\\'banana\\\\\\', \\\\\\'pineapple\\\\\\', \\\\\\'jackfruit\\\\\\', \\\\\\'peach\\\\\\', \\\\\\'durian\\\\\\', \\\\\\'watermelon\\\\\\', \\\\\\'mango\\\\\\', \\\\\\'strawberry\\\\\\', \\\\\\'passionfruit\\\\\\', \"[\\\\\\'apple\\\\\\', \\\\\\'banana\\\\\\', \\\\\\'pineapple\\\\\\', \\\\\\'jackfruit\\\\\\', \\\\\\'peach\\\\\\', \\\\\\'durian\\\\\\', \\\\\\'watermelon\\\\\\', \\\\\\'mango\\\\\\', \\\\\\'strawberry\\\\\\', \\\\\\'passionfruit\\\\\\'][\\\\\\'dragon fruit\\\\\\', \\\\\\'apricots\\\\\\', \\\\\\'oranges\\\\\\']\"][\\\\\\'dragon fruit\\\\\\', \\\\\\'apricots\\\\\\', \\\\\\'oranges\\\\\\']\\'][\\'dragon fruit\\', \\'apricots\\', \\'oranges\\']', '[\\'apple\\', \\'banana\\', \\'pineapple\\', \\'jackfruit\\', \\'peach\\', \\'durian\\', \\'watermelon\\', \\'mango\\', \\'strawberry\\', \\'passionfruit\\', \"[\\'apple\\', \\'banana\\', \\'pineapple\\', \\'jackfruit\\', \\'peach\\', \\'durian\\', \\'watermelon\\', \\'mango\\', \\'strawberry\\', \\'passionfruit\\'][\\'dragon fruit\\', \\'apricots\\', \\'oranges\\']\", \\'[\\\\\\'apple\\\\\\', \\\\\\'banana\\\\\\', \\\\\\'pineapple\\\\\\', \\\\\\'jackfruit\\\\\\', \\\\\\'peach\\\\\\', \\\\\\'durian\\\\\\', \\\\\\'watermelon\\\\\\', \\\\\\'mango\\\\\\', \\\\\\'strawberry\\\\\\', \\\\\\'passionfruit\\\\\\', \"[\\\\\\'apple\\\\\\', \\\\\\'banana\\\\\\', \\\\\\'pineapple\\\\\\', \\\\\\'jackfruit\\\\\\', \\\\\\'peach\\\\\\', \\\\\\'durian\\\\\\', \\\\\\'watermelon\\\\\\', \\\\\\'mango\\\\\\', \\\\\\'strawberry\\\\\\', \\\\\\'passionfruit\\\\\\'][\\\\\\'dragon fruit\\\\\\', \\\\\\'apricots\\\\\\', \\\\\\'oranges\\\\\\']\"][\\\\\\'dragon fruit\\\\\\', \\\\\\'apricots\\\\\\', \\\\\\'oranges\\\\\\']\\'][\\'dragon fruit\\', \\'apricots\\', \\'oranges\\']', '[\\'apple\\', \\'banana\\', \\'pineapple\\', \\'jackfruit\\', \\'peach\\', \\'durian\\', \\'watermelon\\', \\'mango\\', \\'strawberry\\', \\'passionfruit\\', \"[\\'apple\\', \\'banana\\', \\'pineapple\\', \\'jackfruit\\', \\'peach\\', \\'durian\\', \\'watermelon\\', \\'mango\\', \\'strawberry\\', \\'passionfruit\\'][\\'dragon fruit\\', \\'apricots\\', \\'oranges\\']\", \\'[\\\\\\'apple\\\\\\', \\\\\\'banana\\\\\\', \\\\\\'pineapple\\\\\\', \\\\\\'jackfruit\\\\\\', \\\\\\'peach\\\\\\', \\\\\\'durian\\\\\\', \\\\\\'watermelon\\\\\\', \\\\\\'mango\\\\\\', \\\\\\'strawberry\\\\\\', \\\\\\'passionfruit\\\\\\', \"[\\\\\\'apple\\\\\\', \\\\\\'banana\\\\\\', \\\\\\'pineapple\\\\\\', \\\\\\'jackfruit\\\\\\', \\\\\\'peach\\\\\\', \\\\\\'durian\\\\\\', \\\\\\'watermelon\\\\\\', \\\\\\'mango\\\\\\', \\\\\\'strawberry\\\\\\', \\\\\\'passionfruit\\\\\\'][\\\\\\'dragon fruit\\\\\\', \\\\\\'apricots\\\\\\', \\\\\\'oranges\\\\\\']\"][\\\\\\'dragon fruit\\\\\\', \\\\\\'apricots\\\\\\', \\\\\\'oranges\\\\\\']\\'][\\'dragon fruit\\', \\'apricots\\', \\'oranges\\']', '[\\'apple\\', \\'banana\\', \\'pineapple\\', \\'jackfruit\\', \\'peach\\', \\'durian\\', \\'watermelon\\', \\'mango\\', \\'strawberry\\', \\'passionfruit\\', \"[\\'apple\\', \\'banana\\', \\'pineapple\\', \\'jackfruit\\', \\'peach\\', \\'durian\\', \\'watermelon\\', \\'mango\\', \\'strawberry\\', \\'passionfruit\\'][\\'dragon fruit\\', \\'apricots\\', \\'oranges\\']\", \\'[\\\\\\'apple\\\\\\', \\\\\\'banana\\\\\\', \\\\\\'pineapple\\\\\\', \\\\\\'jackfruit\\\\\\', \\\\\\'peach\\\\\\', \\\\\\'durian\\\\\\', \\\\\\'watermelon\\\\\\', \\\\\\'mango\\\\\\', \\\\\\'strawberry\\\\\\', \\\\\\'passionfruit\\\\\\', \"[\\\\\\'apple\\\\\\', \\\\\\'banana\\\\\\', \\\\\\'pineapple\\\\\\', \\\\\\'jackfruit\\\\\\', \\\\\\'peach\\\\\\', \\\\\\'durian\\\\\\', \\\\\\'watermelon\\\\\\', \\\\\\'mango\\\\\\', \\\\\\'strawberry\\\\\\', \\\\\\'passionfruit\\\\\\'][\\\\\\'dragon fruit\\\\\\', \\\\\\'apricots\\\\\\', \\\\\\'oranges\\\\\\']\"][\\\\\\'dragon fruit\\\\\\', \\\\\\'apricots\\\\\\', \\\\\\'oranges\\\\\\']\\'][\\'dragon fruit\\', \\'apricots\\', \\'oranges\\']', '[\\'apple\\', \\'banana\\', \\'pineapple\\', \\'jackfruit\\', \\'peach\\', \\'durian\\', \\'watermelon\\', \\'mango\\', \\'strawberry\\', \\'passionfruit\\', \"[\\'apple\\', \\'banana\\', \\'pineapple\\', \\'jackfruit\\', \\'peach\\', \\'durian\\', \\'watermelon\\', \\'mango\\', \\'strawberry\\', \\'passionfruit\\'][\\'dragon fruit\\', \\'apricots\\', \\'oranges\\']\", \\'[\\\\\\'apple\\\\\\', \\\\\\'banana\\\\\\', \\\\\\'pineapple\\\\\\', \\\\\\'jackfruit\\\\\\', \\\\\\'peach\\\\\\', \\\\\\'durian\\\\\\', \\\\\\'watermelon\\\\\\', \\\\\\'mango\\\\\\', \\\\\\'strawberry\\\\\\', \\\\\\'passionfruit\\\\\\', \"[\\\\\\'apple\\\\\\', \\\\\\'banana\\\\\\', \\\\\\'pineapple\\\\\\', \\\\\\'jackfruit\\\\\\', \\\\\\'peach\\\\\\', \\\\\\'durian\\\\\\', \\\\\\'watermelon\\\\\\', \\\\\\'mango\\\\\\', \\\\\\'strawberry\\\\\\', \\\\\\'passionfruit\\\\\\'][\\\\\\'dragon fruit\\\\\\', \\\\\\'apricots\\\\\\', \\\\\\'oranges\\\\\\']\"][\\\\\\'dragon fruit\\\\\\', \\\\\\'apricots\\\\\\', \\\\\\'oranges\\\\\\']\\'][\\'dragon fruit\\', \\'apricots\\', \\'oranges\\']', '[\\'apple\\', \\'banana\\', \\'pineapple\\', \\'jackfruit\\', \\'peach\\', \\'durian\\', \\'watermelon\\', \\'mango\\', \\'strawberry\\', \\'passionfruit\\', \"[\\'apple\\', \\'banana\\', \\'pineapple\\', \\'jackfruit\\', \\'peach\\', \\'durian\\', \\'watermelon\\', \\'mango\\', \\'strawberry\\', \\'passionfruit\\'][\\'dragon fruit\\', \\'apricots\\', \\'oranges\\']\", \\'[\\\\\\'apple\\\\\\', \\\\\\'banana\\\\\\', \\\\\\'pineapple\\\\\\', \\\\\\'jackfruit\\\\\\', \\\\\\'peach\\\\\\', \\\\\\'durian\\\\\\', \\\\\\'watermelon\\\\\\', \\\\\\'mango\\\\\\', \\\\\\'strawberry\\\\\\', \\\\\\'passionfruit\\\\\\', \"[\\\\\\'apple\\\\\\', \\\\\\'banana\\\\\\', \\\\\\'pineapple\\\\\\', \\\\\\'jackfruit\\\\\\', \\\\\\'peach\\\\\\', \\\\\\'durian\\\\\\', \\\\\\'watermelon\\\\\\', \\\\\\'mango\\\\\\', \\\\\\'strawberry\\\\\\', \\\\\\'passionfruit\\\\\\'][\\\\\\'dragon fruit\\\\\\', \\\\\\'apricots\\\\\\', \\\\\\'oranges\\\\\\']\"][\\\\\\'dragon fruit\\\\\\', \\\\\\'apricots\\\\\\', \\\\\\'oranges\\\\\\']\\'][\\'dragon fruit\\', \\'apricots\\', \\'oranges\\']', '[\\'apple\\', \\'banana\\', \\'pineapple\\', \\'jackfruit\\', \\'peach\\', \\'durian\\', \\'watermelon\\', \\'mango\\', \\'strawberry\\', \\'passionfruit\\', \"[\\'apple\\', \\'banana\\', \\'pineapple\\', \\'jackfruit\\', \\'peach\\', \\'durian\\', \\'watermelon\\', \\'mango\\', \\'strawberry\\', \\'passionfruit\\'][\\'dragon fruit\\', \\'apricots\\', \\'oranges\\']\", \\'[\\\\\\'apple\\\\\\', \\\\\\'banana\\\\\\', \\\\\\'pineapple\\\\\\', \\\\\\'jackfruit\\\\\\', \\\\\\'peach\\\\\\', \\\\\\'durian\\\\\\', \\\\\\'watermelon\\\\\\', \\\\\\'mango\\\\\\', \\\\\\'strawberry\\\\\\', \\\\\\'passionfruit\\\\\\', \"[\\\\\\'apple\\\\\\', \\\\\\'banana\\\\\\', \\\\\\'pineapple\\\\\\', \\\\\\'jackfruit\\\\\\', \\\\\\'peach\\\\\\', \\\\\\'durian\\\\\\', \\\\\\'watermelon\\\\\\', \\\\\\'mango\\\\\\', \\\\\\'strawberry\\\\\\', \\\\\\'passionfruit\\\\\\'][\\\\\\'dragon fruit\\\\\\', \\\\\\'apricots\\\\\\', \\\\\\'oranges\\\\\\']\"][\\\\\\'dragon fruit\\\\\\', \\\\\\'apricots\\\\\\', \\\\\\'oranges\\\\\\']\\'][\\'dragon fruit\\', \\'apricots\\', \\'oranges\\']', '[\\'apple\\', \\'banana\\', \\'pineapple\\', \\'jackfruit\\', \\'peach\\', \\'durian\\', \\'watermelon\\', \\'mango\\', \\'strawberry\\', \\'passionfruit\\', \"[\\'apple\\', \\'banana\\', \\'pineapple\\', \\'jackfruit\\', \\'peach\\', \\'durian\\', \\'watermelon\\', \\'mango\\', \\'strawberry\\', \\'passionfruit\\'][\\'dragon fruit\\', \\'apricots\\', \\'oranges\\']\", \\'[\\\\\\'apple\\\\\\', \\\\\\'banana\\\\\\', \\\\\\'pineapple\\\\\\', \\\\\\'jackfruit\\\\\\', \\\\\\'peach\\\\\\', \\\\\\'durian\\\\\\', \\\\\\'watermelon\\\\\\', \\\\\\'mango\\\\\\', \\\\\\'strawberry\\\\\\', \\\\\\'passionfruit\\\\\\', \"[\\\\\\'apple\\\\\\', \\\\\\'banana\\\\\\', \\\\\\'pineapple\\\\\\', \\\\\\'jackfruit\\\\\\', \\\\\\'peach\\\\\\', \\\\\\'durian\\\\\\', \\\\\\'watermelon\\\\\\', \\\\\\'mango\\\\\\', \\\\\\'strawberry\\\\\\', \\\\\\'passionfruit\\\\\\'][\\\\\\'dragon fruit\\\\\\', \\\\\\'apricots\\\\\\', \\\\\\'oranges\\\\\\']\"][\\\\\\'dragon fruit\\\\\\', \\\\\\'apricots\\\\\\', \\\\\\'oranges\\\\\\']\\'][\\'dragon fruit\\', \\'apricots\\', \\'oranges\\']', '[\\'apple\\', \\'banana\\', \\'pineapple\\', \\'jackfruit\\', \\'peach\\', \\'durian\\', \\'watermelon\\', \\'mango\\', \\'strawberry\\', \\'passionfruit\\', \"[\\'apple\\', \\'banana\\', \\'pineapple\\', \\'jackfruit\\', \\'peach\\', \\'durian\\', \\'watermelon\\', \\'mango\\', \\'strawberry\\', \\'passionfruit\\'][\\'dragon fruit\\', \\'apricots\\', \\'oranges\\']\", \\'[\\\\\\'apple\\\\\\', \\\\\\'banana\\\\\\', \\\\\\'pineapple\\\\\\', \\\\\\'jackfruit\\\\\\', \\\\\\'peach\\\\\\', \\\\\\'durian\\\\\\', \\\\\\'watermelon\\\\\\', \\\\\\'mango\\\\\\', \\\\\\'strawberry\\\\\\', \\\\\\'passionfruit\\\\\\', \"[\\\\\\'apple\\\\\\', \\\\\\'banana\\\\\\', \\\\\\'pineapple\\\\\\', \\\\\\'jackfruit\\\\\\', \\\\\\'peach\\\\\\', \\\\\\'durian\\\\\\', \\\\\\'watermelon\\\\\\', \\\\\\'mango\\\\\\', \\\\\\'strawberry\\\\\\', \\\\\\'passionfruit\\\\\\'][\\\\\\'dragon fruit\\\\\\', \\\\\\'apricots\\\\\\', \\\\\\'oranges\\\\\\']\"][\\\\\\'dragon fruit\\\\\\', \\\\\\'apricots\\\\\\', \\\\\\'oranges\\\\\\']\\'][\\'dragon fruit\\', \\'apricots\\', \\'oranges\\']', '[\\'apple\\', \\'banana\\', \\'pineapple\\', \\'jackfruit\\', \\'peach\\', \\'durian\\', \\'watermelon\\', \\'mango\\', \\'strawberry\\', \\'passionfruit\\', \"[\\'apple\\', \\'banana\\', \\'pineapple\\', \\'jackfruit\\', \\'peach\\', \\'durian\\', \\'watermelon\\', \\'mango\\', \\'strawberry\\', \\'passionfruit\\'][\\'dragon fruit\\', \\'apricots\\', \\'oranges\\']\", \\'[\\\\\\'apple\\\\\\', \\\\\\'banana\\\\\\', \\\\\\'pineapple\\\\\\', \\\\\\'jackfruit\\\\\\', \\\\\\'peach\\\\\\', \\\\\\'durian\\\\\\', \\\\\\'watermelon\\\\\\', \\\\\\'mango\\\\\\', \\\\\\'strawberry\\\\\\', \\\\\\'passionfruit\\\\\\', \"[\\\\\\'apple\\\\\\', \\\\\\'banana\\\\\\', \\\\\\'pineapple\\\\\\', \\\\\\'jackfruit\\\\\\', \\\\\\'peach\\\\\\', \\\\\\'durian\\\\\\', \\\\\\'watermelon\\\\\\', \\\\\\'mango\\\\\\', \\\\\\'strawberry\\\\\\', \\\\\\'passionfruit\\\\\\'][\\\\\\'dragon fruit\\\\\\', \\\\\\'apricots\\\\\\', \\\\\\'oranges\\\\\\']\"][\\\\\\'dragon fruit\\\\\\', \\\\\\'apricots\\\\\\', \\\\\\'oranges\\\\\\']\\'][\\'dragon fruit\\', \\'apricots\\', \\'oranges\\']', '[\\'apple\\', \\'banana\\', \\'pineapple\\', \\'jackfruit\\', \\'peach\\', \\'durian\\', \\'watermelon\\', \\'mango\\', \\'strawberry\\', \\'passionfruit\\', \"[\\'apple\\', \\'banana\\', \\'pineapple\\', \\'jackfruit\\', \\'peach\\', \\'durian\\', \\'watermelon\\', \\'mango\\', \\'strawberry\\', \\'passionfruit\\'][\\'dragon fruit\\', \\'apricots\\', \\'oranges\\']\", \\'[\\\\\\'apple\\\\\\', \\\\\\'banana\\\\\\', \\\\\\'pineapple\\\\\\', \\\\\\'jackfruit\\\\\\', \\\\\\'peach\\\\\\', \\\\\\'durian\\\\\\', \\\\\\'watermelon\\\\\\', \\\\\\'mango\\\\\\', \\\\\\'strawberry\\\\\\', \\\\\\'passionfruit\\\\\\', \"[\\\\\\'apple\\\\\\', \\\\\\'banana\\\\\\', \\\\\\'pineapple\\\\\\', \\\\\\'jackfruit\\\\\\', \\\\\\'peach\\\\\\', \\\\\\'durian\\\\\\', \\\\\\'watermelon\\\\\\', \\\\\\'mango\\\\\\', \\\\\\'strawberry\\\\\\', \\\\\\'passionfruit\\\\\\'][\\\\\\'dragon fruit\\\\\\', \\\\\\'apricots\\\\\\', \\\\\\'oranges\\\\\\']\"][\\\\\\'dragon fruit\\\\\\', \\\\\\'apricots\\\\\\', \\\\\\'oranges\\\\\\']\\'][\\'dragon fruit\\', \\'apricots\\', \\'oranges\\']', '[\\'apple\\', \\'banana\\', \\'pineapple\\', \\'jackfruit\\', \\'peach\\', \\'durian\\', \\'watermelon\\', \\'mango\\', \\'strawberry\\', \\'passionfruit\\', \"[\\'apple\\', \\'banana\\', \\'pineapple\\', \\'jackfruit\\', \\'peach\\', \\'durian\\', \\'watermelon\\', \\'mango\\', \\'strawberry\\', \\'passionfruit\\'][\\'dragon fruit\\', \\'apricots\\', \\'oranges\\']\", \\'[\\\\\\'apple\\\\\\', \\\\\\'banana\\\\\\', \\\\\\'pineapple\\\\\\', \\\\\\'jackfruit\\\\\\', \\\\\\'peach\\\\\\', \\\\\\'durian\\\\\\', \\\\\\'watermelon\\\\\\', \\\\\\'mango\\\\\\', \\\\\\'strawberry\\\\\\', \\\\\\'passionfruit\\\\\\', \"[\\\\\\'apple\\\\\\', \\\\\\'banana\\\\\\', \\\\\\'pineapple\\\\\\', \\\\\\'jackfruit\\\\\\', \\\\\\'peach\\\\\\', \\\\\\'durian\\\\\\', \\\\\\'watermelon\\\\\\', \\\\\\'mango\\\\\\', \\\\\\'strawberry\\\\\\', \\\\\\'passionfruit\\\\\\'][\\\\\\'dragon fruit\\\\\\', \\\\\\'apricots\\\\\\', \\\\\\'oranges\\\\\\']\"][\\\\\\'dragon fruit\\\\\\', \\\\\\'apricots\\\\\\', \\\\\\'oranges\\\\\\']\\'][\\'dragon fruit\\', \\'apricots\\', \\'oranges\\']', '[\\'apple\\', \\'banana\\', \\'pineapple\\', \\'jackfruit\\', \\'peach\\', \\'durian\\', \\'watermelon\\', \\'mango\\', \\'strawberry\\', \\'passionfruit\\', \"[\\'apple\\', \\'banana\\', \\'pineapple\\', \\'jackfruit\\', \\'peach\\', \\'durian\\', \\'watermelon\\', \\'mango\\', \\'strawberry\\', \\'passionfruit\\'][\\'dragon fruit\\', \\'apricots\\', \\'oranges\\']\", \\'[\\\\\\'apple\\\\\\', \\\\\\'banana\\\\\\', \\\\\\'pineapple\\\\\\', \\\\\\'jackfruit\\\\\\', \\\\\\'peach\\\\\\', \\\\\\'durian\\\\\\', \\\\\\'watermelon\\\\\\', \\\\\\'mango\\\\\\', \\\\\\'strawberry\\\\\\', \\\\\\'passionfruit\\\\\\', \"[\\\\\\'apple\\\\\\', \\\\\\'banana\\\\\\', \\\\\\'pineapple\\\\\\', \\\\\\'jackfruit\\\\\\', \\\\\\'peach\\\\\\', \\\\\\'durian\\\\\\', \\\\\\'watermelon\\\\\\', \\\\\\'mango\\\\\\', \\\\\\'strawberry\\\\\\', \\\\\\'passionfruit\\\\\\'][\\\\\\'dragon fruit\\\\\\', \\\\\\'apricots\\\\\\', \\\\\\'oranges\\\\\\']\"][\\\\\\'dragon fruit\\\\\\', \\\\\\'apricots\\\\\\', \\\\\\'oranges\\\\\\']\\'][\\'dragon fruit\\', \\'apricots\\', \\'oranges\\']', '[\\'apple\\', \\'banana\\', \\'pineapple\\', \\'jackfruit\\', \\'peach\\', \\'durian\\', \\'watermelon\\', \\'mango\\', \\'strawberry\\', \\'passionfruit\\', \"[\\'apple\\', \\'banana\\', \\'pineapple\\', \\'jackfruit\\', \\'peach\\', \\'durian\\', \\'watermelon\\', \\'mango\\', \\'strawberry\\', \\'passionfruit\\'][\\'dragon fruit\\', \\'apricots\\', \\'oranges\\']\", \\'[\\\\\\'apple\\\\\\', \\\\\\'banana\\\\\\', \\\\\\'pineapple\\\\\\', \\\\\\'jackfruit\\\\\\', \\\\\\'peach\\\\\\', \\\\\\'durian\\\\\\', \\\\\\'watermelon\\\\\\', \\\\\\'mango\\\\\\', \\\\\\'strawberry\\\\\\', \\\\\\'passionfruit\\\\\\', \"[\\\\\\'apple\\\\\\', \\\\\\'banana\\\\\\', \\\\\\'pineapple\\\\\\', \\\\\\'jackfruit\\\\\\', \\\\\\'peach\\\\\\', \\\\\\'durian\\\\\\', \\\\\\'watermelon\\\\\\', \\\\\\'mango\\\\\\', \\\\\\'strawberry\\\\\\', \\\\\\'passionfruit\\\\\\'][\\\\\\'dragon fruit\\\\\\', \\\\\\'apricots\\\\\\', \\\\\\'oranges\\\\\\']\"][\\\\\\'dragon fruit\\\\\\', \\\\\\'apricots\\\\\\', \\\\\\'oranges\\\\\\']\\'][\\'dragon fruit\\', \\'apricots\\', \\'oranges\\']', '[\\'apple\\', \\'banana\\', \\'pineapple\\', \\'jackfruit\\', \\'peach\\', \\'durian\\', \\'watermelon\\', \\'mango\\', \\'strawberry\\', \\'passionfruit\\', \"[\\'apple\\', \\'banana\\', \\'pineapple\\', \\'jackfruit\\', \\'peach\\', \\'durian\\', \\'watermelon\\', \\'mango\\', \\'strawberry\\', \\'passionfruit\\'][\\'dragon fruit\\', \\'apricots\\', \\'oranges\\']\", \\'[\\\\\\'apple\\\\\\', \\\\\\'banana\\\\\\', \\\\\\'pineapple\\\\\\', \\\\\\'jackfruit\\\\\\', \\\\\\'peach\\\\\\', \\\\\\'durian\\\\\\', \\\\\\'watermelon\\\\\\', \\\\\\'mango\\\\\\', \\\\\\'strawberry\\\\\\', \\\\\\'passionfruit\\\\\\', \"[\\\\\\'apple\\\\\\', \\\\\\'banana\\\\\\', \\\\\\'pineapple\\\\\\', \\\\\\'jackfruit\\\\\\', \\\\\\'peach\\\\\\', \\\\\\'durian\\\\\\', \\\\\\'watermelon\\\\\\', \\\\\\'mango\\\\\\', \\\\\\'strawberry\\\\\\', \\\\\\'passionfruit\\\\\\'][\\\\\\'dragon fruit\\\\\\', \\\\\\'apricots\\\\\\', \\\\\\'oranges\\\\\\']\"][\\\\\\'dragon fruit\\\\\\', \\\\\\'apricots\\\\\\', \\\\\\'oranges\\\\\\']\\'][\\'dragon fruit\\', \\'apricots\\', \\'oranges\\']', '[\\'apple\\', \\'banana\\', \\'pineapple\\', \\'jackfruit\\', \\'peach\\', \\'durian\\', \\'watermelon\\', \\'mango\\', \\'strawberry\\', \\'passionfruit\\', \"[\\'apple\\', \\'banana\\', \\'pineapple\\', \\'jackfruit\\', \\'peach\\', \\'durian\\', \\'watermelon\\', \\'mango\\', \\'strawberry\\', \\'passionfruit\\'][\\'dragon fruit\\', \\'apricots\\', \\'oranges\\']\", \\'[\\\\\\'apple\\\\\\', \\\\\\'banana\\\\\\', \\\\\\'pineapple\\\\\\', \\\\\\'jackfruit\\\\\\', \\\\\\'peach\\\\\\', \\\\\\'durian\\\\\\', \\\\\\'watermelon\\\\\\', \\\\\\'mango\\\\\\', \\\\\\'strawberry\\\\\\', \\\\\\'passionfruit\\\\\\', \"[\\\\\\'apple\\\\\\', \\\\\\'banana\\\\\\', \\\\\\'pineapple\\\\\\', \\\\\\'jackfruit\\\\\\', \\\\\\'peach\\\\\\', \\\\\\'durian\\\\\\', \\\\\\'watermelon\\\\\\', \\\\\\'mango\\\\\\', \\\\\\'strawberry\\\\\\', \\\\\\'passionfruit\\\\\\'][\\\\\\'dragon fruit\\\\\\', \\\\\\'apricots\\\\\\', \\\\\\'oranges\\\\\\']\"][\\\\\\'dragon fruit\\\\\\', \\\\\\'apricots\\\\\\', \\\\\\'oranges\\\\\\']\\'][\\'dragon fruit\\', \\'apricots\\', \\'oranges\\']', '[\\'apple\\', \\'banana\\', \\'pineapple\\', \\'jackfruit\\', \\'peach\\', \\'durian\\', \\'watermelon\\', \\'mango\\', \\'strawberry\\', \\'passionfruit\\', \"[\\'apple\\', \\'banana\\', \\'pineapple\\', \\'jackfruit\\', \\'peach\\', \\'durian\\', \\'watermelon\\', \\'mango\\', \\'strawberry\\', \\'passionfruit\\'][\\'dragon fruit\\', \\'apricots\\', \\'oranges\\']\", \\'[\\\\\\'apple\\\\\\', \\\\\\'banana\\\\\\', \\\\\\'pineapple\\\\\\', \\\\\\'jackfruit\\\\\\', \\\\\\'peach\\\\\\', \\\\\\'durian\\\\\\', \\\\\\'watermelon\\\\\\', \\\\\\'mango\\\\\\', \\\\\\'strawberry\\\\\\', \\\\\\'passionfruit\\\\\\', \"[\\\\\\'apple\\\\\\', \\\\\\'banana\\\\\\', \\\\\\'pineapple\\\\\\', \\\\\\'jackfruit\\\\\\', \\\\\\'peach\\\\\\', \\\\\\'durian\\\\\\', \\\\\\'watermelon\\\\\\', \\\\\\'mango\\\\\\', \\\\\\'strawberry\\\\\\', \\\\\\'passionfruit\\\\\\'][\\\\\\'dragon fruit\\\\\\', \\\\\\'apricots\\\\\\', \\\\\\'oranges\\\\\\']\"][\\\\\\'dragon fruit\\\\\\', \\\\\\'apricots\\\\\\', \\\\\\'oranges\\\\\\']\\'][\\'dragon fruit\\', \\'apricots\\', \\'oranges\\']', '[\\'apple\\', \\'banana\\', \\'pineapple\\', \\'jackfruit\\', \\'peach\\', \\'durian\\', \\'watermelon\\', \\'mango\\', \\'strawberry\\', \\'passionfruit\\', \"[\\'apple\\', \\'banana\\', \\'pineapple\\', \\'jackfruit\\', \\'peach\\', \\'durian\\', \\'watermelon\\', \\'mango\\', \\'strawberry\\', \\'passionfruit\\'][\\'dragon fruit\\', \\'apricots\\', \\'oranges\\']\", \\'[\\\\\\'apple\\\\\\', \\\\\\'banana\\\\\\', \\\\\\'pineapple\\\\\\', \\\\\\'jackfruit\\\\\\', \\\\\\'peach\\\\\\', \\\\\\'durian\\\\\\', \\\\\\'watermelon\\\\\\', \\\\\\'mango\\\\\\', \\\\\\'strawberry\\\\\\', \\\\\\'passionfruit\\\\\\', \"[\\\\\\'apple\\\\\\', \\\\\\'banana\\\\\\', \\\\\\'pineapple\\\\\\', \\\\\\'jackfruit\\\\\\', \\\\\\'peach\\\\\\', \\\\\\'durian\\\\\\', \\\\\\'watermelon\\\\\\', \\\\\\'mango\\\\\\', \\\\\\'strawberry\\\\\\', \\\\\\'passionfruit\\\\\\'][\\\\\\'dragon fruit\\\\\\', \\\\\\'apricots\\\\\\', \\\\\\'oranges\\\\\\']\"][\\\\\\'dragon fruit\\\\\\', \\\\\\'apricots\\\\\\', \\\\\\'oranges\\\\\\']\\'][\\'dragon fruit\\', \\'apricots\\', \\'oranges\\']', '[\\'apple\\', \\'banana\\', \\'pineapple\\', \\'jackfruit\\', \\'peach\\', \\'durian\\', \\'watermelon\\', \\'mango\\', \\'strawberry\\', \\'passionfruit\\', \"[\\'apple\\', \\'banana\\', \\'pineapple\\', \\'jackfruit\\', \\'peach\\', \\'durian\\', \\'watermelon\\', \\'mango\\', \\'strawberry\\', \\'passionfruit\\'][\\'dragon fruit\\', \\'apricots\\', \\'oranges\\']\", \\'[\\\\\\'apple\\\\\\', \\\\\\'banana\\\\\\', \\\\\\'pineapple\\\\\\', \\\\\\'jackfruit\\\\\\', \\\\\\'peach\\\\\\', \\\\\\'durian\\\\\\', \\\\\\'watermelon\\\\\\', \\\\\\'mango\\\\\\', \\\\\\'strawberry\\\\\\', \\\\\\'passionfruit\\\\\\', \"[\\\\\\'apple\\\\\\', \\\\\\'banana\\\\\\', \\\\\\'pineapple\\\\\\', \\\\\\'jackfruit\\\\\\', \\\\\\'peach\\\\\\', \\\\\\'durian\\\\\\', \\\\\\'watermelon\\\\\\', \\\\\\'mango\\\\\\', \\\\\\'strawberry\\\\\\', \\\\\\'passionfruit\\\\\\'][\\\\\\'dragon fruit\\\\\\', \\\\\\'apricots\\\\\\', \\\\\\'oranges\\\\\\']\"][\\\\\\'dragon fruit\\\\\\', \\\\\\'apricots\\\\\\', \\\\\\'oranges\\\\\\']\\'][\\'dragon fruit\\', \\'apricots\\', \\'oranges\\']', '[\\'apple\\', \\'banana\\', \\'pineapple\\', \\'jackfruit\\', \\'peach\\', \\'durian\\', \\'watermelon\\', \\'mango\\', \\'strawberry\\', \\'passionfruit\\', \"[\\'apple\\', \\'banana\\', \\'pineapple\\', \\'jackfruit\\', \\'peach\\', \\'durian\\', \\'watermelon\\', \\'mango\\', \\'strawberry\\', \\'passionfruit\\'][\\'dragon fruit\\', \\'apricots\\', \\'oranges\\']\", \\'[\\\\\\'apple\\\\\\', \\\\\\'banana\\\\\\', \\\\\\'pineapple\\\\\\', \\\\\\'jackfruit\\\\\\', \\\\\\'peach\\\\\\', \\\\\\'durian\\\\\\', \\\\\\'watermelon\\\\\\', \\\\\\'mango\\\\\\', \\\\\\'strawberry\\\\\\', \\\\\\'passionfruit\\\\\\', \"[\\\\\\'apple\\\\\\', \\\\\\'banana\\\\\\', \\\\\\'pineapple\\\\\\', \\\\\\'jackfruit\\\\\\', \\\\\\'peach\\\\\\', \\\\\\'durian\\\\\\', \\\\\\'watermelon\\\\\\', \\\\\\'mango\\\\\\', \\\\\\'strawberry\\\\\\', \\\\\\'passionfruit\\\\\\'][\\\\\\'dragon fruit\\\\\\', \\\\\\'apricots\\\\\\', \\\\\\'oranges\\\\\\']\"][\\\\\\'dragon fruit\\\\\\', \\\\\\'apricots\\\\\\', \\\\\\'oranges\\\\\\']\\'][\\'dragon fruit\\', \\'apricots\\', \\'oranges\\']', '[\\'apple\\', \\'banana\\', \\'pineapple\\', \\'jackfruit\\', \\'peach\\', \\'durian\\', \\'watermelon\\', \\'mango\\', \\'strawberry\\', \\'passionfruit\\', \"[\\'apple\\', \\'banana\\', \\'pineapple\\', \\'jackfruit\\', \\'peach\\', \\'durian\\', \\'watermelon\\', \\'mango\\', \\'strawberry\\', \\'passionfruit\\'][\\'dragon fruit\\', \\'apricots\\', \\'oranges\\']\", \\'[\\\\\\'apple\\\\\\', \\\\\\'banana\\\\\\', \\\\\\'pineapple\\\\\\', \\\\\\'jackfruit\\\\\\', \\\\\\'peach\\\\\\', \\\\\\'durian\\\\\\', \\\\\\'watermelon\\\\\\', \\\\\\'mango\\\\\\', \\\\\\'strawberry\\\\\\', \\\\\\'passionfruit\\\\\\', \"[\\\\\\'apple\\\\\\', \\\\\\'banana\\\\\\', \\\\\\'pineapple\\\\\\', \\\\\\'jackfruit\\\\\\', \\\\\\'peach\\\\\\', \\\\\\'durian\\\\\\', \\\\\\'watermelon\\\\\\', \\\\\\'mango\\\\\\', \\\\\\'strawberry\\\\\\', \\\\\\'passionfruit\\\\\\'][\\\\\\'dragon fruit\\\\\\', \\\\\\'apricots\\\\\\', \\\\\\'oranges\\\\\\']\"][\\\\\\'dragon fruit\\\\\\', \\\\\\'apricots\\\\\\', \\\\\\'oranges\\\\\\']\\'][\\'dragon fruit\\', \\'apricots\\', \\'oranges\\']', '[\\'apple\\', \\'banana\\', \\'pineapple\\', \\'jackfruit\\', \\'peach\\', \\'durian\\', \\'watermelon\\', \\'mango\\', \\'strawberry\\', \\'passionfruit\\', \"[\\'apple\\', \\'banana\\', \\'pineapple\\', \\'jackfruit\\', \\'peach\\', \\'durian\\', \\'watermelon\\', \\'mango\\', \\'strawberry\\', \\'passionfruit\\'][\\'dragon fruit\\', \\'apricots\\', \\'oranges\\']\", \\'[\\\\\\'apple\\\\\\', \\\\\\'banana\\\\\\', \\\\\\'pineapple\\\\\\', \\\\\\'jackfruit\\\\\\', \\\\\\'peach\\\\\\', \\\\\\'durian\\\\\\', \\\\\\'watermelon\\\\\\', \\\\\\'mango\\\\\\', \\\\\\'strawberry\\\\\\', \\\\\\'passionfruit\\\\\\', \"[\\\\\\'apple\\\\\\', \\\\\\'banana\\\\\\', \\\\\\'pineapple\\\\\\', \\\\\\'jackfruit\\\\\\', \\\\\\'peach\\\\\\', \\\\\\'durian\\\\\\', \\\\\\'watermelon\\\\\\', \\\\\\'mango\\\\\\', \\\\\\'strawberry\\\\\\', \\\\\\'passionfruit\\\\\\'][\\\\\\'dragon fruit\\\\\\', \\\\\\'apricots\\\\\\', \\\\\\'oranges\\\\\\']\"][\\\\\\'dragon fruit\\\\\\', \\\\\\'apricots\\\\\\', \\\\\\'oranges\\\\\\']\\'][\\'dragon fruit\\', \\'apricots\\', \\'oranges\\']', '[\\'apple\\', \\'banana\\', \\'pineapple\\', \\'jackfruit\\', \\'peach\\', \\'durian\\', \\'watermelon\\', \\'mango\\', \\'strawberry\\', \\'passionfruit\\', \"[\\'apple\\', \\'banana\\', \\'pineapple\\', \\'jackfruit\\', \\'peach\\', \\'durian\\', \\'watermelon\\', \\'mango\\', \\'strawberry\\', \\'passionfruit\\'][\\'dragon fruit\\', \\'apricots\\', \\'oranges\\']\", \\'[\\\\\\'apple\\\\\\', \\\\\\'banana\\\\\\', \\\\\\'pineapple\\\\\\', \\\\\\'jackfruit\\\\\\', \\\\\\'peach\\\\\\', \\\\\\'durian\\\\\\', \\\\\\'watermelon\\\\\\', \\\\\\'mango\\\\\\', \\\\\\'strawberry\\\\\\', \\\\\\'passionfruit\\\\\\', \"[\\\\\\'apple\\\\\\', \\\\\\'banana\\\\\\', \\\\\\'pineapple\\\\\\', \\\\\\'jackfruit\\\\\\', \\\\\\'peach\\\\\\', \\\\\\'durian\\\\\\', \\\\\\'watermelon\\\\\\', \\\\\\'mango\\\\\\', \\\\\\'strawberry\\\\\\', \\\\\\'passionfruit\\\\\\'][\\\\\\'dragon fruit\\\\\\', \\\\\\'apricots\\\\\\', \\\\\\'oranges\\\\\\']\"][\\\\\\'dragon fruit\\\\\\', \\\\\\'apricots\\\\\\', \\\\\\'oranges\\\\\\']\\'][\\'dragon fruit\\', \\'apricots\\', \\'oranges\\']']\n"
     ]
    }
   ],
   "source": [
    "new = [\"dragon fruit\", \"apricots\", \"oranges\"]\n",
    "new_fruit = fruits + new\n",
    "print (new_fruits)"
   ]
  },
  {
   "cell_type": "code",
   "execution_count": null,
   "id": "00946323",
   "metadata": {},
   "outputs": [],
   "source": []
  },
  {
   "cell_type": "code",
   "execution_count": null,
   "id": "7755930d",
   "metadata": {},
   "outputs": [],
   "source": []
  },
  {
   "cell_type": "markdown",
   "id": "9b2da8f4",
   "metadata": {},
   "source": [
    "## Exercise 3 :  Ciao Fibonacci"
   ]
  },
  {
   "cell_type": "code",
   "execution_count": null,
   "id": "55fad2fa",
   "metadata": {},
   "outputs": [],
   "source": [
    "\n",
    "\n",
    "\n",
    "# Your solution here\n",
    "\n",
    "\n"
   ]
  },
  {
   "cell_type": "markdown",
   "id": "94efa333",
   "metadata": {},
   "source": [
    "## Exercise 4 :  A function for Fibonacci"
   ]
  },
  {
   "cell_type": "code",
   "execution_count": null,
   "id": "864e2214",
   "metadata": {},
   "outputs": [],
   "source": [
    "\n",
    "\n",
    "\n",
    "# Your solution here\n",
    "\n",
    "\n"
   ]
  },
  {
   "cell_type": "markdown",
   "id": "1495629c",
   "metadata": {},
   "source": [
    "## Exercise 5 :  max_info() without NumPy"
   ]
  },
  {
   "cell_type": "code",
   "execution_count": null,
   "id": "f5e9f289",
   "metadata": {},
   "outputs": [],
   "source": [
    "\n",
    "\n",
    "\n",
    "# Your solution here\n",
    "\n",
    "\n"
   ]
  },
  {
   "cell_type": "markdown",
   "id": "67c82d5f",
   "metadata": {},
   "source": [
    "## Exercise 6 :  Take count"
   ]
  },
  {
   "cell_type": "code",
   "execution_count": null,
   "id": "4a20cff2",
   "metadata": {},
   "outputs": [],
   "source": [
    "\n",
    "\n",
    "\n",
    "# Your solution here\n",
    "\n",
    "\n"
   ]
  }
 ],
 "metadata": {
  "kernelspec": {
   "display_name": "Python 3 (ipykernel)",
   "language": "python",
   "name": "python3"
  },
  "language_info": {
   "codemirror_mode": {
    "name": "ipython",
    "version": 3
   },
   "file_extension": ".py",
   "mimetype": "text/x-python",
   "name": "python",
   "nbconvert_exporter": "python",
   "pygments_lexer": "ipython3",
   "version": "3.10.8"
  },
  "toc": {
   "base_numbering": 1,
   "nav_menu": {},
   "number_sections": true,
   "sideBar": true,
   "skip_h1_title": false,
   "title_cell": "Table of Contents",
   "title_sidebar": "Contents",
   "toc_cell": false,
   "toc_position": {},
   "toc_section_display": true,
   "toc_window_display": false
  },
  "varInspector": {
   "cols": {
    "lenName": 16,
    "lenType": 16,
    "lenVar": 40
   },
   "kernels_config": {
    "python": {
     "delete_cmd_postfix": "",
     "delete_cmd_prefix": "del ",
     "library": "var_list.py",
     "varRefreshCmd": "print(var_dic_list())"
    },
    "r": {
     "delete_cmd_postfix": ") ",
     "delete_cmd_prefix": "rm(",
     "library": "var_list.r",
     "varRefreshCmd": "cat(var_dic_list()) "
    }
   },
   "types_to_exclude": [
    "module",
    "function",
    "builtin_function_or_method",
    "instance",
    "_Feature"
   ],
   "window_display": false
  },
  "vscode": {
   "interpreter": {
    "hash": "31f2aee4e71d21fbe5cf8b01ff0e069b9275f58929596ceb00d14d90e3e16cd6"
   }
  }
 },
 "nbformat": 4,
 "nbformat_minor": 5
}
