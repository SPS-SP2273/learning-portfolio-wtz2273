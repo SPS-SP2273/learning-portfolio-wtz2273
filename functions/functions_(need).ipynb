{
 "cells": [
  {
   "cell_type": "markdown",
   "id": "123456",
   "metadata": {},
   "source": [
    "<div style=\"text-align:left;font-size:2em\"><span style=\"font-weight:bolder;font-size:1.25em\">SP2273 | Learning Portfolio</span><br><br><span style=\"font-weight:bold;color:darkred\">Functions (Need)</span></div>"
   ]
  },
  {
   "cell_type": "markdown",
   "id": "867cd722",
   "metadata": {},
   "source": [
    "## 1 User defined functions"
   ]
  },
  {
   "cell_type": "markdown",
   "id": "20d33e2a",
   "metadata": {},
   "source": [
    "### 1.1 Named functions that return"
   ]
  },
  {
   "cell_type": "code",
   "execution_count": 1,
   "id": "879f153f",
   "metadata": {},
   "outputs": [],
   "source": [
    "def greeting(name):\n",
    "    if name == 'Batman':\n",
    "        return 'Hello Batman! So, nice to meet you!'\n",
    "    else:\n",
    "        return f'Hello {name}!'"
   ]
  },
  {
   "cell_type": "code",
   "execution_count": 2,
   "id": "b7ede01e",
   "metadata": {},
   "outputs": [
    {
     "data": {
      "text/plain": [
       "'Hello super man!'"
      ]
     },
     "execution_count": 2,
     "metadata": {},
     "output_type": "execute_result"
    }
   ],
   "source": [
    "greeting(\"super man\")"
   ]
  },
  {
   "cell_type": "code",
   "execution_count": 3,
   "id": "7e032a23",
   "metadata": {
    "code_folding": []
   },
   "outputs": [
    {
     "data": {
      "text/plain": [
       "'Hello Super Man!'"
      ]
     },
     "execution_count": 3,
     "metadata": {},
     "output_type": "execute_result"
    }
   ],
   "source": [
    "greeting(name=\"Super Man\")"
   ]
  },
  {
   "cell_type": "code",
   "execution_count": 4,
   "id": "292ac25a",
   "metadata": {},
   "outputs": [
    {
     "name": "stdout",
     "output_type": "stream",
     "text": [
      "Hello Super Man!\n"
     ]
    }
   ],
   "source": [
    "greet=greeting('Super Man')\n",
    "print(greet)"
   ]
  },
  {
   "cell_type": "code",
   "execution_count": 5,
   "id": "cb0c726e",
   "metadata": {},
   "outputs": [
    {
     "name": "stdout",
     "output_type": "stream",
     "text": [
      "Hello Super Man!\n"
     ]
    }
   ],
   "source": [
    "print(greeting(name='Super Man'))"
   ]
  },
  {
   "cell_type": "code",
   "execution_count": 6,
   "id": "652732c5",
   "metadata": {},
   "outputs": [],
   "source": [
    "def basic_stats(numbers):\n",
    "    np_numbers=np.array(numbers)\n",
    "    return np_numbers.min(), np_numbers.max(), np_numbers.mean()"
   ]
  },
  {
   "cell_type": "code",
   "execution_count": 12,
   "id": "860b115a",
   "metadata": {},
   "outputs": [
    {
     "name": "stdout",
     "output_type": "stream",
     "text": [
      "1 5 3.0\n"
     ]
    }
   ],
   "source": [
    "list_min,list_max,list_mean = basic_stats([1,2,3,4,5])\n",
    "print(list_min,list_max,list_mean)"
   ]
  },
  {
   "cell_type": "markdown",
   "id": "58a20c8e",
   "metadata": {},
   "source": [
    "### 1.2 Named functions that don’t return"
   ]
  },
  {
   "cell_type": "code",
   "execution_count": null,
   "id": "30616ac5",
   "metadata": {},
   "outputs": [],
   "source": [
    "#example: print --> save data\n"
   ]
  },
  {
   "cell_type": "markdown",
   "id": "605244f9",
   "metadata": {},
   "source": [
    "### 1.3 Anonymous functions"
   ]
  },
  {
   "cell_type": "code",
   "execution_count": 13,
   "id": "db6ae0c5",
   "metadata": {},
   "outputs": [],
   "source": [
    "my_short_function = lambda name: f\"Hello {name}!\""
   ]
  },
  {
   "cell_type": "code",
   "execution_count": 17,
   "id": "35bae4b6",
   "metadata": {},
   "outputs": [
    {
     "data": {
      "text/plain": [
       "'Hello superman!'"
      ]
     },
     "execution_count": 17,
     "metadata": {},
     "output_type": "execute_result"
    }
   ],
   "source": [
    "my_short_function(name=\"superman\")"
   ]
  },
  {
   "cell_type": "code",
   "execution_count": 16,
   "id": "fe49a02c",
   "metadata": {},
   "outputs": [
    {
     "data": {
      "text/plain": [
       "'Hello aa!'"
      ]
     },
     "execution_count": 16,
     "metadata": {},
     "output_type": "execute_result"
    }
   ],
   "source": [
    "my_short_function(\"aa\")"
   ]
  },
  {
   "cell_type": "code",
   "execution_count": 18,
   "id": "9bf8452c",
   "metadata": {},
   "outputs": [],
   "source": [
    "try_function = lambda hh: f\"try out this {hh}\""
   ]
  },
  {
   "cell_type": "code",
   "execution_count": 19,
   "id": "d32fba10",
   "metadata": {},
   "outputs": [
    {
     "data": {
      "text/plain": [
       "'try out this hjdcbmnbchrbhj'"
      ]
     },
     "execution_count": 19,
     "metadata": {},
     "output_type": "execute_result"
    }
   ],
   "source": [
    "try_function(\"hjdcbmnbchrbhj\")"
   ]
  },
  {
   "cell_type": "code",
   "execution_count": 22,
   "id": "0a094bce",
   "metadata": {},
   "outputs": [],
   "source": [
    "#\"Sorted\" by default is based on comparing \n",
    "#the first elements of the sub-lists."
   ]
  },
  {
   "cell_type": "code",
   "execution_count": 25,
   "id": "615b68f0",
   "metadata": {},
   "outputs": [
    {
     "data": {
      "text/plain": [
       "[[1, 7, 18],\n",
       " [3, 3, 16],\n",
       " [4, 4, 14],\n",
       " [4, 5, 15],\n",
       " [4, 7, 17],\n",
       " [6, 2, 13],\n",
       " [6, 9, 19],\n",
       " [7, 2, 12],\n",
       " [7, 6, 11],\n",
       " [9, 0, 10]]"
      ]
     },
     "execution_count": 25,
     "metadata": {},
     "output_type": "execute_result"
    }
   ],
   "source": [
    "numbers=[[9, 0, 10],\n",
    "         [7, 6, 11],\n",
    "         [7, 2, 12],\n",
    "         [6, 2, 13],\n",
    "         [4, 4, 14],\n",
    "         [4, 5, 15],\n",
    "         [3, 3, 16],\n",
    "         [4, 7, 17],\n",
    "         [1, 7, 18],\n",
    "         [6, 9, 19]]\n",
    "\n",
    "sorted(numbers)"
   ]
  },
  {
   "cell_type": "code",
   "execution_count": 26,
   "id": "36e914c6",
   "metadata": {},
   "outputs": [
    {
     "data": {
      "text/plain": [
       "[[9, 0, 10],\n",
       " [7, 2, 12],\n",
       " [6, 2, 13],\n",
       " [3, 3, 16],\n",
       " [4, 4, 14],\n",
       " [4, 5, 15],\n",
       " [7, 6, 11],\n",
       " [4, 7, 17],\n",
       " [1, 7, 18],\n",
       " [6, 9, 19]]"
      ]
     },
     "execution_count": 26,
     "metadata": {},
     "output_type": "execute_result"
    }
   ],
   "source": [
    "sorted(numbers, key=lambda x: x[1])"
   ]
  },
  {
   "cell_type": "code",
   "execution_count": 27,
   "id": "739ffb2a",
   "metadata": {},
   "outputs": [
    {
     "data": {
      "text/plain": [
       "[[9, 0, 10],\n",
       " [7, 2, 12],\n",
       " [6, 2, 13],\n",
       " [4, 4, 14],\n",
       " [3, 3, 16],\n",
       " [7, 6, 11],\n",
       " [4, 5, 15],\n",
       " [1, 7, 18],\n",
       " [4, 7, 17],\n",
       " [6, 9, 19]]"
      ]
     },
     "execution_count": 27,
     "metadata": {},
     "output_type": "execute_result"
    }
   ],
   "source": [
    "sorted(numbers,key=lambda x:sum(x))"
   ]
  },
  {
   "cell_type": "markdown",
   "id": "1905f13b",
   "metadata": {},
   "source": [
    "### 1.4 Optional arguments"
   ]
  },
  {
   "cell_type": "code",
   "execution_count": 28,
   "id": "7533da80",
   "metadata": {},
   "outputs": [],
   "source": [
    "def greeting(name='no one'):\n",
    "    if name == 'Batman':\n",
    "        return 'Hello Batman! So, nice to meet you!'\n",
    "    else:\n",
    "        return f'Hello {name}!'"
   ]
  },
  {
   "cell_type": "code",
   "execution_count": 30,
   "id": "493df74f",
   "metadata": {},
   "outputs": [
    {
     "data": {
      "text/plain": [
       "'Hello no one!'"
      ]
     },
     "execution_count": 30,
     "metadata": {},
     "output_type": "execute_result"
    }
   ],
   "source": [
    "greeting()"
   ]
  },
  {
   "cell_type": "code",
   "execution_count": 31,
   "id": "17fb5342",
   "metadata": {},
   "outputs": [
    {
     "data": {
      "text/plain": [
       "'Hello aa!'"
      ]
     },
     "execution_count": 31,
     "metadata": {},
     "output_type": "execute_result"
    }
   ],
   "source": [
    "greeting('aa')"
   ]
  },
  {
   "cell_type": "code",
   "execution_count": 33,
   "id": "559aa304",
   "metadata": {},
   "outputs": [
    {
     "data": {
      "text/plain": [
       "'Hello Batman! So, nice to meet you!'"
      ]
     },
     "execution_count": 33,
     "metadata": {},
     "output_type": "execute_result"
    }
   ],
   "source": [
    "greeting('Batman')"
   ]
  },
  {
   "cell_type": "code",
   "execution_count": 34,
   "id": "ba2e367a",
   "metadata": {},
   "outputs": [],
   "source": [
    "#in Print\n",
    "#file:a file-like object (stream); defaults to the current sys.stdout.\n",
    "#sep:string inserted between values, default a space.\n",
    "#end:string appended after the last value, default a newline.\n",
    "#flush: whether to forcibly flush the stream.\n",
    "#Type:builtin_function_or_method"
   ]
  },
  {
   "cell_type": "code",
   "execution_count": 45,
   "id": "71d2e98f",
   "metadata": {},
   "outputs": [
    {
     "name": "stdout",
     "output_type": "stream",
     "text": [
      "I am Batman!\n",
      "I---am---Batman!\n",
      "I am Batman!\n",
      " hii"
     ]
    }
   ],
   "source": [
    "print('I', 'am', 'Batman!') \n",
    "\n",
    "print('I', 'am', 'Batman!', sep='---')  \n",
    "\n",
    "print('I', 'am', 'Batman!', end='\\n hii')  "
   ]
  },
  {
   "cell_type": "markdown",
   "id": "42b14b71",
   "metadata": {},
   "source": [
    "## 2 The importance of functions?"
   ]
  },
  {
   "cell_type": "markdown",
   "id": "f8a1d981",
   "metadata": {},
   "source": [
    "### 2.1 An argument for functions"
   ]
  },
  {
   "cell_type": "code",
   "execution_count": 46,
   "id": "b77eb7d8",
   "metadata": {},
   "outputs": [],
   "source": [
    "#GOOD about Function\n",
    "#Abstraction of details \n",
    "#Reusability of code\n",
    "#Maintainability of code"
   ]
  },
  {
   "cell_type": "markdown",
   "id": "e04266de",
   "metadata": {},
   "source": [
    "### 2.2 A word of caution"
   ]
  },
  {
   "cell_type": "code",
   "execution_count": 47,
   "id": "b78cd637",
   "metadata": {},
   "outputs": [],
   "source": [
    "#Having too many functions \n",
    "#can make it difficult to read your code \n",
    "#increase computational overheads. \n"
   ]
  },
  {
   "cell_type": "markdown",
   "id": "061233fd",
   "metadata": {},
   "source": [
    "## Exercise 1 :  Do you know why?"
   ]
  },
  {
   "cell_type": "markdown",
   "id": "e8d5071c",
   "metadata": {},
   "source": [
    "the second \"return\" is aligned with \"if\", so it belong to the \"def\" function. hence, \"else\" is not required."
   ]
  },
  {
   "cell_type": "markdown",
   "id": "50c3718a",
   "metadata": {},
   "source": [
    "## Exercise 2 :  Calculator functions"
   ]
  },
  {
   "cell_type": "code",
   "execution_count": 13,
   "id": "6a38f8f1",
   "metadata": {},
   "outputs": [],
   "source": [
    "def basic_stats(numbers):\n",
    "    np_numbers=np.array(numbers)\n",
    "    \n",
    "def add(x,y):\n",
    "    return x+y\n",
    "def substract(x,y):\n",
    "    return x-y\n",
    "def multiply(x,y):\n",
    "    return x*y\n",
    "def devide(x,y):\n",
    "    if any (y==0):\n",
    "        return \"the devisor can not be 0!\"\n",
    "    else:\n",
    "        return x/y"
   ]
  },
  {
   "cell_type": "code",
   "execution_count": 14,
   "id": "19565c9b",
   "metadata": {},
   "outputs": [
    {
     "name": "stdout",
     "output_type": "stream",
     "text": [
      "[100 100 100 100  27]\n",
      "[-28 -32 -12  52  27]\n",
      "[2304 2244 2464 1824    0]\n",
      "the devisor can not be 0!\n"
     ]
    }
   ],
   "source": [
    "x=np.array([36, 34, 44, 76, 27])\n",
    "y=np.array([64, 66, 56, 24, 0])\n",
    "\n",
    "print (add(x,y))\n",
    "print (substract(x,y))\n",
    "print (multiply(x,y))\n",
    "print (devide(x,y))"
   ]
  },
  {
   "cell_type": "markdown",
   "id": "8384788c",
   "metadata": {},
   "source": [
    "## Exercise 3 :  max_info() with NumPy"
   ]
  },
  {
   "cell_type": "code",
   "execution_count": 82,
   "id": "76425bc6",
   "metadata": {},
   "outputs": [],
   "source": [
    "def max_info(numbers):\n",
    "    np_numbers=np.array(numbers)\n",
    "    return np_numbers.max(), np_numbers.argmax()"
   ]
  },
  {
   "cell_type": "code",
   "execution_count": 99,
   "id": "68836255",
   "metadata": {},
   "outputs": [
    {
     "name": "stdout",
     "output_type": "stream",
     "text": [
      "83 2\n"
     ]
    }
   ],
   "source": [
    "list_max,list_argmax= max_info([40, 27, 83, 44, 74, 51, 76, 77, 10, 49])\n",
    "print(list_max,list_argmax)"
   ]
  }
 ],
 "metadata": {
  "kernelspec": {
   "display_name": "Python 3 (ipykernel)",
   "language": "python",
   "name": "python3"
  },
  "language_info": {
   "codemirror_mode": {
    "name": "ipython",
    "version": 3
   },
   "file_extension": ".py",
   "mimetype": "text/x-python",
   "name": "python",
   "nbconvert_exporter": "python",
   "pygments_lexer": "ipython3",
   "version": "3.10.8"
  },
  "toc": {
   "base_numbering": 1,
   "nav_menu": {},
   "number_sections": true,
   "sideBar": true,
   "skip_h1_title": false,
   "title_cell": "Table of Contents",
   "title_sidebar": "Contents",
   "toc_cell": false,
   "toc_position": {},
   "toc_section_display": true,
   "toc_window_display": false
  },
  "varInspector": {
   "cols": {
    "lenName": 16,
    "lenType": 16,
    "lenVar": 40
   },
   "kernels_config": {
    "python": {
     "delete_cmd_postfix": "",
     "delete_cmd_prefix": "del ",
     "library": "var_list.py",
     "varRefreshCmd": "print(var_dic_list())"
    },
    "r": {
     "delete_cmd_postfix": ") ",
     "delete_cmd_prefix": "rm(",
     "library": "var_list.r",
     "varRefreshCmd": "cat(var_dic_list()) "
    }
   },
   "types_to_exclude": [
    "module",
    "function",
    "builtin_function_or_method",
    "instance",
    "_Feature"
   ],
   "window_display": false
  },
  "vscode": {
   "interpreter": {
    "hash": "31f2aee4e71d21fbe5cf8b01ff0e069b9275f58929596ceb00d14d90e3e16cd6"
   }
  }
 },
 "nbformat": 4,
 "nbformat_minor": 5
}
